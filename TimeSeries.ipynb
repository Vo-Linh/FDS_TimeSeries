{
  "nbformat": 4,
  "nbformat_minor": 0,
  "metadata": {
    "colab": {
      "provenance": [],
      "collapsed_sections": [
        "SM8Dg8rT0iBb",
        "E2jYP9KM04f3",
        "phYk8bPw1Dlm",
        "NIpj1fS21G2e",
        "pSSmlQUT1N55",
        "gwUKy9I91RNE",
        "4AeLBPW51TDM",
        "SLeiQRDT1Vhv",
        "XEJJ44Zk1Xt1",
        "8YsWYvde1hf7",
        "cNjkIWYl1lkL",
        "7jU7F_3F1oVk",
        "i7q3XLFU1s2n",
        "y3O1Zgya1u7F",
        "TWjAc1s91xEo",
        "C-9A26HF11Yf",
        "cARXMARx2Byn"
      ],
      "toc_visible": true
    },
    "kernelspec": {
      "name": "python3",
      "display_name": "Python 3"
    },
    "language_info": {
      "name": "python"
    }
  },
  "cells": [
    {
      "cell_type": "markdown",
      "source": [
        "# Time Series"
      ],
      "metadata": {
        "id": "KFGJRAHV0Ml7"
      }
    },
    {
      "cell_type": "code",
      "source": [
        "import numpy as np\n",
        "import pandas as pd\n",
        "from datetime import datetime"
      ],
      "metadata": {
        "id": "V0KBNxpz2pXV"
      },
      "execution_count": null,
      "outputs": []
    },
    {
      "cell_type": "markdown",
      "source": [
        "## Date and Time Data Types and Tools"
      ],
      "metadata": {
        "id": "R2_l_PVl0Pcq"
      }
    },
    {
      "cell_type": "code",
      "source": [
        "now = datetime.now()\n",
        "now"
      ],
      "metadata": {
        "id": "HxVr98YZ0Z5j",
        "colab": {
          "base_uri": "https://localhost:8080/"
        },
        "outputId": "bb1d610b-329c-4db4-dc0c-0b195490e8ae"
      },
      "execution_count": null,
      "outputs": [
        {
          "output_type": "execute_result",
          "data": {
            "text/plain": [
              "datetime.datetime(2022, 11, 24, 16, 14, 44, 243556)"
            ]
          },
          "metadata": {},
          "execution_count": 2
        }
      ]
    },
    {
      "cell_type": "code",
      "source": [
        "now.year, now.month, now.day"
      ],
      "metadata": {
        "colab": {
          "base_uri": "https://localhost:8080/"
        },
        "id": "5MwEkogPQBFE",
        "outputId": "227f1e8e-cfdd-4207-be63-159f42555a11"
      },
      "execution_count": null,
      "outputs": [
        {
          "output_type": "execute_result",
          "data": {
            "text/plain": [
              "(2022, 11, 24)"
            ]
          },
          "metadata": {},
          "execution_count": 3
        }
      ]
    },
    {
      "cell_type": "code",
      "source": [
        "delta = datetime(2011, 1, 7) - datetime(2008, 6, 24, 8, 15)\n",
        "delta"
      ],
      "metadata": {
        "colab": {
          "base_uri": "https://localhost:8080/"
        },
        "id": "VjHf5PXTQD_E",
        "outputId": "e55a67cf-618a-4154-c5cd-cc006bb56894"
      },
      "execution_count": null,
      "outputs": [
        {
          "output_type": "execute_result",
          "data": {
            "text/plain": [
              "datetime.timedelta(days=926, seconds=56700)"
            ]
          },
          "metadata": {},
          "execution_count": 4
        }
      ]
    },
    {
      "cell_type": "code",
      "source": [
        "delta.days, delta.seconds"
      ],
      "metadata": {
        "colab": {
          "base_uri": "https://localhost:8080/"
        },
        "id": "rQYJLUdcQHCD",
        "outputId": "a6f35d55-f039-4903-b3f2-0ba430d69a5d"
      },
      "execution_count": null,
      "outputs": [
        {
          "output_type": "execute_result",
          "data": {
            "text/plain": [
              "(926, 56700)"
            ]
          },
          "metadata": {},
          "execution_count": 5
        }
      ]
    },
    {
      "cell_type": "code",
      "source": [
        "from datetime import timedelta\n",
        "start = datetime(2011, 1, 7)\n",
        "start + timedelta(12)"
      ],
      "metadata": {
        "colab": {
          "base_uri": "https://localhost:8080/"
        },
        "id": "lzQE7WziQK_T",
        "outputId": "d26c0896-72ad-4b84-cc52-c6ae14ce0c47"
      },
      "execution_count": null,
      "outputs": [
        {
          "output_type": "execute_result",
          "data": {
            "text/plain": [
              "datetime.datetime(2011, 1, 19, 0, 0)"
            ]
          },
          "metadata": {},
          "execution_count": 8
        }
      ]
    },
    {
      "cell_type": "code",
      "source": [
        "start - 2 * timedelta(12)"
      ],
      "metadata": {
        "colab": {
          "base_uri": "https://localhost:8080/"
        },
        "id": "qAVzB-6kQPfr",
        "outputId": "65121c72-9849-4436-bc0c-ffa602f1dad6"
      },
      "execution_count": null,
      "outputs": [
        {
          "output_type": "execute_result",
          "data": {
            "text/plain": [
              "datetime.datetime(2010, 12, 14, 0, 0)"
            ]
          },
          "metadata": {},
          "execution_count": 9
        }
      ]
    },
    {
      "cell_type": "markdown",
      "source": [
        "### Converting between string and datetime"
      ],
      "metadata": {
        "id": "NI41p2rK0WFM"
      }
    },
    {
      "cell_type": "code",
      "source": [
        "stamp = datetime(2011, 1, 3)"
      ],
      "metadata": {
        "id": "rxHAg3Kw0YpS"
      },
      "execution_count": null,
      "outputs": []
    },
    {
      "cell_type": "code",
      "source": [
        "str(stamp)"
      ],
      "metadata": {
        "colab": {
          "base_uri": "https://localhost:8080/",
          "height": 35
        },
        "id": "xYrcrhHKQVAs",
        "outputId": "8223a10d-cc82-46c5-b310-1ca40bcdd6cb"
      },
      "execution_count": null,
      "outputs": [
        {
          "output_type": "execute_result",
          "data": {
            "text/plain": [
              "'2011-01-03 00:00:00'"
            ],
            "application/vnd.google.colaboratory.intrinsic+json": {
              "type": "string"
            }
          },
          "metadata": {},
          "execution_count": 11
        }
      ]
    },
    {
      "cell_type": "code",
      "source": [
        "stamp.strftime('%Y-%m-%d')"
      ],
      "metadata": {
        "colab": {
          "base_uri": "https://localhost:8080/",
          "height": 35
        },
        "id": "_BUHpIhIQYNi",
        "outputId": "dfb53793-78c0-4594-f26d-5a0ac6397d62"
      },
      "execution_count": null,
      "outputs": [
        {
          "output_type": "execute_result",
          "data": {
            "text/plain": [
              "'2011-01-03'"
            ],
            "application/vnd.google.colaboratory.intrinsic+json": {
              "type": "string"
            }
          },
          "metadata": {},
          "execution_count": 12
        }
      ]
    },
    {
      "cell_type": "code",
      "source": [
        "value = '2011-01-03'\n",
        "datetime.strptime(value, '%Y-%m-%d')"
      ],
      "metadata": {
        "colab": {
          "base_uri": "https://localhost:8080/"
        },
        "id": "3cNbgh19QYIZ",
        "outputId": "2bb576f5-6c6b-4991-91a5-f1e41d827977"
      },
      "execution_count": null,
      "outputs": [
        {
          "output_type": "execute_result",
          "data": {
            "text/plain": [
              "datetime.datetime(2011, 1, 3, 0, 0)"
            ]
          },
          "metadata": {},
          "execution_count": 13
        }
      ]
    },
    {
      "cell_type": "code",
      "source": [
        "datestrs = ['7/6/2011', '8/6/2011']"
      ],
      "metadata": {
        "id": "eycWU5aKQX7d"
      },
      "execution_count": null,
      "outputs": []
    },
    {
      "cell_type": "code",
      "source": [
        "[datetime.strptime(x, '%m/%d/%Y') for x in datestrs]"
      ],
      "metadata": {
        "colab": {
          "base_uri": "https://localhost:8080/"
        },
        "id": "oC9VtvdsQe0y",
        "outputId": "b5df4dab-21ea-422a-e486-f981a34bb87d"
      },
      "execution_count": null,
      "outputs": [
        {
          "output_type": "execute_result",
          "data": {
            "text/plain": [
              "[datetime.datetime(2011, 7, 6, 0, 0), datetime.datetime(2011, 8, 6, 0, 0)]"
            ]
          },
          "metadata": {},
          "execution_count": 15
        }
      ]
    },
    {
      "cell_type": "code",
      "source": [
        "from dateutil.parser import parse\n",
        "parse('2011-01-03')"
      ],
      "metadata": {
        "colab": {
          "base_uri": "https://localhost:8080/"
        },
        "id": "97j5G4YIQhVh",
        "outputId": "fe50e3c0-d5ca-4722-d0aa-6d1211ddc108"
      },
      "execution_count": null,
      "outputs": [
        {
          "output_type": "execute_result",
          "data": {
            "text/plain": [
              "datetime.datetime(2011, 1, 3, 0, 0)"
            ]
          },
          "metadata": {},
          "execution_count": 16
        }
      ]
    },
    {
      "cell_type": "code",
      "source": [
        "parse('Jan 31, 1997 10:45 PM')"
      ],
      "metadata": {
        "colab": {
          "base_uri": "https://localhost:8080/"
        },
        "id": "-XaM6uKTQmwv",
        "outputId": "89814b6b-d5b6-4754-bd7b-54f6cf8d606d"
      },
      "execution_count": null,
      "outputs": [
        {
          "output_type": "execute_result",
          "data": {
            "text/plain": [
              "datetime.datetime(1997, 1, 31, 22, 45)"
            ]
          },
          "metadata": {},
          "execution_count": 17
        }
      ]
    },
    {
      "cell_type": "code",
      "source": [
        "parse('6/12/2011', dayfirst=True)"
      ],
      "metadata": {
        "colab": {
          "base_uri": "https://localhost:8080/"
        },
        "id": "jk9ad25sQrOg",
        "outputId": "0b69134a-468b-4e8a-cca0-fc731c1f7c92"
      },
      "execution_count": null,
      "outputs": [
        {
          "output_type": "execute_result",
          "data": {
            "text/plain": [
              "datetime.datetime(2011, 12, 6, 0, 0)"
            ]
          },
          "metadata": {},
          "execution_count": 18
        }
      ]
    },
    {
      "cell_type": "code",
      "source": [
        "datestrs"
      ],
      "metadata": {
        "colab": {
          "base_uri": "https://localhost:8080/"
        },
        "id": "FPKQLEdnQuae",
        "outputId": "d28d78ad-a409-4dcc-9cd5-31701b74789b"
      },
      "execution_count": null,
      "outputs": [
        {
          "output_type": "execute_result",
          "data": {
            "text/plain": [
              "['7/6/2011', '8/6/2011']"
            ]
          },
          "metadata": {},
          "execution_count": 19
        }
      ]
    },
    {
      "cell_type": "code",
      "source": [
        "pd.to_datetime(datestrs)"
      ],
      "metadata": {
        "colab": {
          "base_uri": "https://localhost:8080/"
        },
        "id": "v_MxmhAyQxRP",
        "outputId": "b85475cd-c279-4dad-df78-5fa5837a5802"
      },
      "execution_count": null,
      "outputs": [
        {
          "output_type": "execute_result",
          "data": {
            "text/plain": [
              "DatetimeIndex(['2011-07-06', '2011-08-06'], dtype='datetime64[ns]', freq=None)"
            ]
          },
          "metadata": {},
          "execution_count": 20
        }
      ]
    },
    {
      "cell_type": "code",
      "source": [
        "idx = pd.to_datetime(datestrs + [None])\n",
        "idx"
      ],
      "metadata": {
        "colab": {
          "base_uri": "https://localhost:8080/"
        },
        "id": "1Y1anM7NQ0Cn",
        "outputId": "222e3b44-be6d-4a82-c671-8fc96fe9448e"
      },
      "execution_count": null,
      "outputs": [
        {
          "output_type": "execute_result",
          "data": {
            "text/plain": [
              "DatetimeIndex(['2011-07-06', '2011-08-06', 'NaT'], dtype='datetime64[ns]', freq=None)"
            ]
          },
          "metadata": {},
          "execution_count": 21
        }
      ]
    },
    {
      "cell_type": "code",
      "source": [
        "idx[2]"
      ],
      "metadata": {
        "id": "UVg9aiWyQ3IG",
        "outputId": "a155f94a-b38c-4f4b-d0a2-3e1615cf0e02",
        "colab": {
          "base_uri": "https://localhost:8080/"
        }
      },
      "execution_count": null,
      "outputs": [
        {
          "output_type": "execute_result",
          "data": {
            "text/plain": [
              "NaT"
            ]
          },
          "metadata": {},
          "execution_count": 22
        }
      ]
    },
    {
      "cell_type": "code",
      "source": [
        "pd.isnull(idx)"
      ],
      "metadata": {
        "id": "4O5fxNFmQ5B4",
        "outputId": "4f381814-cd09-4a02-b139-8d7080aa40c1",
        "colab": {
          "base_uri": "https://localhost:8080/"
        }
      },
      "execution_count": null,
      "outputs": [
        {
          "output_type": "execute_result",
          "data": {
            "text/plain": [
              "array([False, False,  True])"
            ]
          },
          "metadata": {},
          "execution_count": 23
        }
      ]
    },
    {
      "cell_type": "markdown",
      "source": [
        "## Time Series Basics"
      ],
      "metadata": {
        "id": "asE3kdeV0bQA"
      }
    },
    {
      "cell_type": "markdown",
      "source": [
        "Đưa các đối tượng datetime() chứa thông tin vào một list là biến dates,tạo một series biến ts và thêm các giá trị ngẫu nhiên với từng index thuộc biến dates"
      ],
      "metadata": {
        "id": "Dy1CqZN28P4P"
      }
    },
    {
      "cell_type": "code",
      "source": [
        "#@title Văn bản tiêu đề mặc định\n",
        "from datetime import datetime\n",
        "dates = [datetime(2011, 1, 2), datetime(2011, 1, 5),\n",
        "         datetime(2011, 1, 7), datetime(2011, 1, 8),\n",
        "         datetime(2011, 1, 10), datetime(2011, 1, 12)]\n",
        "ts = pd.Series(np.random.randn(6), index=dates)\n",
        "ts"
      ],
      "metadata": {
        "id": "Z7aY_46w2E2i",
        "colab": {
          "base_uri": "https://localhost:8080/"
        },
        "outputId": "e73b9e40-3233-40c9-fc85-6ac30e502fd1"
      },
      "execution_count": null,
      "outputs": [
        {
          "output_type": "execute_result",
          "data": {
            "text/plain": [
              "2011-01-02   -1.414986\n",
              "2011-01-05    0.722882\n",
              "2011-01-07   -1.301850\n",
              "2011-01-08   -0.914352\n",
              "2011-01-10    2.051405\n",
              "2011-01-12   -0.348892\n",
              "dtype: float64"
            ]
          },
          "metadata": {},
          "execution_count": 24
        }
      ]
    },
    {
      "cell_type": "markdown",
      "source": [
        "Kiểm tra biến ts và thấy biến thuộc loại Time-Series"
      ],
      "metadata": {
        "id": "J1D7LC4X8ipC"
      }
    },
    {
      "cell_type": "code",
      "source": [
        "type(ts)"
      ],
      "metadata": {
        "colab": {
          "base_uri": "https://localhost:8080/"
        },
        "id": "sOJAMQMX7L67",
        "outputId": "ed801175-fc3e-49c5-b54e-b46b30b9a844"
      },
      "execution_count": null,
      "outputs": [
        {
          "output_type": "execute_result",
          "data": {
            "text/plain": [
              "pandas.core.series.Series"
            ]
          },
          "metadata": {},
          "execution_count": 25
        }
      ]
    },
    {
      "cell_type": "markdown",
      "source": [
        "Pandas.Series.index cho thấy chỉ mục (nhãn trục) của Series, đối\n",
        "tượng datetime này đã được đưa vào một DatetimeIndex."
      ],
      "metadata": {
        "id": "0i_E3b5r8sZ7"
      }
    },
    {
      "cell_type": "code",
      "source": [
        "ts.index"
      ],
      "metadata": {
        "colab": {
          "base_uri": "https://localhost:8080/"
        },
        "id": "PoyQtavF6yWV",
        "outputId": "f9c46b5f-e552-4853-8891-75947504bd07"
      },
      "execution_count": null,
      "outputs": [
        {
          "output_type": "execute_result",
          "data": {
            "text/plain": [
              "DatetimeIndex(['2011-01-02', '2011-01-05', '2011-01-07', '2011-01-08',\n",
              "               '2011-01-10', '2011-01-12'],\n",
              "              dtype='datetime64[ns]', freq=None)"
            ]
          },
          "metadata": {},
          "execution_count": 26
        }
      ]
    },
    {
      "cell_type": "markdown",
      "source": [
        "Các phép toán số học giữa các time series indexed khác nhau sẽ tự động căn chỉnh vào các dates, s[::2] chỉ chứa những index từ 0 với bước nhảy là 2 nên\n",
        "ta thấy output những giá trị tại index lẻ là NaN"
      ],
      "metadata": {
        "id": "tTZmkbnH-LKL"
      }
    },
    {
      "cell_type": "code",
      "source": [
        "ts + ts[::2]"
      ],
      "metadata": {
        "colab": {
          "base_uri": "https://localhost:8080/"
        },
        "id": "-C7sMvFc7p2M",
        "outputId": "b84e73ff-1ee1-4f1c-8dde-abf49e04fe23"
      },
      "execution_count": null,
      "outputs": [
        {
          "output_type": "execute_result",
          "data": {
            "text/plain": [
              "2011-01-02   -2.829972\n",
              "2011-01-05         NaN\n",
              "2011-01-07   -2.603699\n",
              "2011-01-08         NaN\n",
              "2011-01-10    4.102809\n",
              "2011-01-12         NaN\n",
              "dtype: float64"
            ]
          },
          "metadata": {},
          "execution_count": 27
        }
      ]
    },
    {
      "cell_type": "markdown",
      "source": [
        "Pandas lưu trữ timestamps bằng cách sử dụng loại dữ liệu datetime64\n",
        "của NumPy ở độ phân giải nano giây"
      ],
      "metadata": {
        "id": "-mMyZzvP_RGi"
      }
    },
    {
      "cell_type": "code",
      "source": [
        "ts.index.dtype"
      ],
      "metadata": {
        "colab": {
          "base_uri": "https://localhost:8080/"
        },
        "id": "UsukxV1a7rib",
        "outputId": "fb8de2dd-2bc8-4d95-b7b5-7c6e2105e927"
      },
      "execution_count": null,
      "outputs": [
        {
          "output_type": "execute_result",
          "data": {
            "text/plain": [
              "dtype('<M8[ns]')"
            ]
          },
          "metadata": {},
          "execution_count": 28
        }
      ]
    },
    {
      "cell_type": "markdown",
      "source": [
        "Xem Timestamp của biến ts tại index đầu tiên, vì ta không đặt\n",
        "time cho index đầu tiên nên time lúc in ra là 00:00:00"
      ],
      "metadata": {
        "id": "LxdgItIm_9Jt"
      }
    },
    {
      "cell_type": "code",
      "source": [
        "stamp = ts.index[0]\n",
        "stamp"
      ],
      "metadata": {
        "colab": {
          "base_uri": "https://localhost:8080/"
        },
        "id": "n7twwv0X7ytF",
        "outputId": "063d9d55-950b-4ac8-f628-3b455997739f"
      },
      "execution_count": null,
      "outputs": [
        {
          "output_type": "execute_result",
          "data": {
            "text/plain": [
              "Timestamp('2011-01-02 00:00:00')"
            ]
          },
          "metadata": {},
          "execution_count": 29
        }
      ]
    },
    {
      "cell_type": "markdown",
      "source": [
        "### Indexing, Selection, Subsetting"
      ],
      "metadata": {
        "id": "wxCzhWJ20e94"
      }
    },
    {
      "cell_type": "markdown",
      "source": [
        "TimeSeries là một lớp con của Series và do đó hoạt động theo cùng một cách đối với idexing và chọn dữ liệu dựa trên nhãn"
      ],
      "metadata": {
        "id": "t536WfQIAM7T"
      }
    },
    {
      "cell_type": "code",
      "source": [
        "stamp = ts.index[2]\n",
        "ts[stamp]"
      ],
      "metadata": {
        "id": "YkEQ6cOs2FfU",
        "colab": {
          "base_uri": "https://localhost:8080/"
        },
        "outputId": "b166cffa-00c9-412d-bcca-403a3bbd8799"
      },
      "execution_count": null,
      "outputs": [
        {
          "output_type": "execute_result",
          "data": {
            "text/plain": [
              "-1.301849608873383"
            ]
          },
          "metadata": {},
          "execution_count": 30
        }
      ]
    },
    {
      "cell_type": "markdown",
      "source": [
        "Có thể ghi ngày tháng năm cách nhau bằng dấu / như trên"
      ],
      "metadata": {
        "id": "-Vm406HsAWDu"
      }
    },
    {
      "cell_type": "code",
      "source": [
        "ts['1/10/2011']"
      ],
      "metadata": {
        "colab": {
          "base_uri": "https://localhost:8080/"
        },
        "id": "lvOfySAI79ms",
        "outputId": "efe93f8c-4715-4453-feaf-e1414bf6c868"
      },
      "execution_count": null,
      "outputs": [
        {
          "output_type": "execute_result",
          "data": {
            "text/plain": [
              "2.051404654041363"
            ]
          },
          "metadata": {},
          "execution_count": 31
        }
      ]
    },
    {
      "cell_type": "markdown",
      "source": [
        "Hoặc ghi liền (nhưng phải đúng thứ tự) chương trình vẫn có\n",
        "thể hiểu được ngày tháng năm trong chuỗichuỗi"
      ],
      "metadata": {
        "id": "0YtkPBYVAgPM"
      }
    },
    {
      "cell_type": "code",
      "source": [
        "ts['20110110']"
      ],
      "metadata": {
        "colab": {
          "base_uri": "https://localhost:8080/"
        },
        "id": "lg1YoW8O8JAr",
        "outputId": "b9ca3596-c68f-439e-8664-baafbc2815ae"
      },
      "execution_count": null,
      "outputs": [
        {
          "output_type": "execute_result",
          "data": {
            "text/plain": [
              "2.051404654041363"
            ]
          },
          "metadata": {},
          "execution_count": 32
        }
      ]
    },
    {
      "cell_type": "markdown",
      "source": [
        "Tạo một series"
      ],
      "metadata": {
        "id": "0kUytnNFAqyu"
      }
    },
    {
      "cell_type": "code",
      "source": [
        "longer_ts = pd.Series(np.random.randn(1000),\n",
        "                      index=pd.date_range('1/1/2000',\n",
        "                      periods=1000))\n",
        "longer_ts"
      ],
      "metadata": {
        "colab": {
          "base_uri": "https://localhost:8080/"
        },
        "id": "qOQhhHb58Pjk",
        "outputId": "dab08e3b-4d2f-4108-bf8a-5b2261168f87"
      },
      "execution_count": null,
      "outputs": [
        {
          "output_type": "execute_result",
          "data": {
            "text/plain": [
              "2000-01-01    1.442083\n",
              "2000-01-02    0.669002\n",
              "2000-01-03    1.505150\n",
              "2000-01-04    0.436082\n",
              "2000-01-05   -0.685318\n",
              "                ...   \n",
              "2002-09-22   -0.887971\n",
              "2002-09-23   -1.449508\n",
              "2002-09-24    0.199756\n",
              "2002-09-25   -0.048124\n",
              "2002-09-26   -0.574539\n",
              "Freq: D, Length: 1000, dtype: float64"
            ]
          },
          "metadata": {},
          "execution_count": 33
        }
      ]
    },
    {
      "cell_type": "markdown",
      "source": [
        "Chọn với thời gian là năm (longer_ts[’2001’])"
      ],
      "metadata": {
        "id": "hDrRuB25BFva"
      }
    },
    {
      "cell_type": "code",
      "source": [
        "longer_ts['2001']"
      ],
      "metadata": {
        "colab": {
          "base_uri": "https://localhost:8080/"
        },
        "id": "5n4DKycu8oxG",
        "outputId": "33251717-ad27-44f4-9d7e-9ee6914c19fd"
      },
      "execution_count": null,
      "outputs": [
        {
          "output_type": "execute_result",
          "data": {
            "text/plain": [
              "2001-01-01   -0.291509\n",
              "2001-01-02   -0.425303\n",
              "2001-01-03    0.340702\n",
              "2001-01-04   -0.752329\n",
              "2001-01-05    0.557640\n",
              "                ...   \n",
              "2001-12-27   -0.792690\n",
              "2001-12-28    0.522469\n",
              "2001-12-29   -0.369565\n",
              "2001-12-30    0.002118\n",
              "2001-12-31    0.177718\n",
              "Freq: D, Length: 365, dtype: float64"
            ]
          },
          "metadata": {},
          "execution_count": 34
        }
      ]
    },
    {
      "cell_type": "markdown",
      "source": [
        "Chọn với thời gian là năm và tháng (longer_ts[’2001-05’] )"
      ],
      "metadata": {
        "id": "VbekQzqnBOhn"
      }
    },
    {
      "cell_type": "code",
      "source": [
        "longer_ts['2001-05']"
      ],
      "metadata": {
        "colab": {
          "base_uri": "https://localhost:8080/"
        },
        "id": "NnE3x7zw8wOs",
        "outputId": "0b742ab5-9a5d-4108-830a-e856c73e706b"
      },
      "execution_count": null,
      "outputs": [
        {
          "output_type": "execute_result",
          "data": {
            "text/plain": [
              "2001-05-01   -0.708830\n",
              "2001-05-02   -0.453092\n",
              "2001-05-03    1.146668\n",
              "2001-05-04   -1.076397\n",
              "2001-05-05   -0.076523\n",
              "2001-05-06   -0.503779\n",
              "2001-05-07    0.538504\n",
              "2001-05-08    0.337996\n",
              "2001-05-09   -1.402846\n",
              "2001-05-10    0.261180\n",
              "2001-05-11    0.555052\n",
              "2001-05-12    0.571856\n",
              "2001-05-13   -0.542153\n",
              "2001-05-14    0.041579\n",
              "2001-05-15    1.379153\n",
              "2001-05-16    0.176296\n",
              "2001-05-17   -0.148146\n",
              "2001-05-18    0.541840\n",
              "2001-05-19    0.473102\n",
              "2001-05-20    0.523207\n",
              "2001-05-21    0.311231\n",
              "2001-05-22   -2.104762\n",
              "2001-05-23    0.303302\n",
              "2001-05-24    0.161011\n",
              "2001-05-25   -1.520758\n",
              "2001-05-26   -1.936424\n",
              "2001-05-27    0.448145\n",
              "2001-05-28   -0.451463\n",
              "2001-05-29    1.349829\n",
              "2001-05-30   -0.476405\n",
              "2001-05-31    0.361251\n",
              "Freq: D, dtype: float64"
            ]
          },
          "metadata": {},
          "execution_count": 35
        }
      ]
    },
    {
      "cell_type": "markdown",
      "source": [
        "Việc cắt (slicing) dữ liệu hoạt động như một Series thông thường"
      ],
      "metadata": {
        "id": "3e0UB3_jBV87"
      }
    },
    {
      "cell_type": "code",
      "source": [
        "ts[datetime(2011, 1, 7):]"
      ],
      "metadata": {
        "colab": {
          "base_uri": "https://localhost:8080/"
        },
        "id": "ZWTcfYva81gj",
        "outputId": "231bbbb9-9e82-41a9-fea4-6e7249ecaaea"
      },
      "execution_count": null,
      "outputs": [
        {
          "output_type": "execute_result",
          "data": {
            "text/plain": [
              "2011-01-07   -1.301850\n",
              "2011-01-08   -0.914352\n",
              "2011-01-10    2.051405\n",
              "2011-01-12   -0.348892\n",
              "dtype: float64"
            ]
          },
          "metadata": {},
          "execution_count": 36
        }
      ]
    },
    {
      "cell_type": "markdown",
      "source": [
        "Căt trong khoảng từ 1/6/2011 đến 1/11/2011"
      ],
      "metadata": {
        "id": "-0YbvrFlCIe7"
      }
    },
    {
      "cell_type": "code",
      "source": [
        "ts['1/6/2011':'1/11/2011']"
      ],
      "metadata": {
        "colab": {
          "base_uri": "https://localhost:8080/"
        },
        "id": "f92R2Wvx851T",
        "outputId": "69ce0350-7ef3-49e3-fe34-43b8416895ca"
      },
      "execution_count": null,
      "outputs": [
        {
          "output_type": "execute_result",
          "data": {
            "text/plain": [
              "2011-01-07   -1.301850\n",
              "2011-01-08   -0.914352\n",
              "2011-01-10    2.051405\n",
              "dtype: float64"
            ]
          },
          "metadata": {},
          "execution_count": 37
        }
      ]
    },
    {
      "cell_type": "markdown",
      "source": [
        "Hàm truncate(after=’1/9/2011’) cho phép ta cắt đi khoảng thời\n",
        "gian sau 1/9/2011"
      ],
      "metadata": {
        "id": "7HT2TCssCthP"
      }
    },
    {
      "cell_type": "code",
      "source": [
        "ts.truncate(after='1/9/2011')"
      ],
      "metadata": {
        "colab": {
          "base_uri": "https://localhost:8080/"
        },
        "id": "_xtVUxCi89-r",
        "outputId": "2fabfb34-4212-4893-fee5-5d36b36e9bca"
      },
      "execution_count": null,
      "outputs": [
        {
          "output_type": "execute_result",
          "data": {
            "text/plain": [
              "2011-01-02   -1.414986\n",
              "2011-01-05    0.722882\n",
              "2011-01-07   -1.301850\n",
              "2011-01-08   -0.914352\n",
              "dtype: float64"
            ]
          },
          "metadata": {},
          "execution_count": 38
        }
      ]
    },
    {
      "cell_type": "markdown",
      "source": [
        "Tạo biến date với pd.date_range() lấy một dải thời gian với\n",
        "số lượng là 100 và tần suất là thứ tư hàng tuần (freq=’W-WED’) và tạo\n",
        "dataframe long_d, ,ix[]\n",
        "ở đây hoạt động như khi ta chọn dữ liệu "
      ],
      "metadata": {
        "id": "q83sAWVkDF6F"
      }
    },
    {
      "cell_type": "code",
      "source": [
        "dates = pd.date_range('1/1/2000', periods=100,\n",
        "                       freq='W-WED')\n",
        "long_df = pd.DataFrame(np.random.randn(100, 4),\n",
        "                    index=dates, columns=\n",
        "                    ['Colorado', 'Texas', 'New York', 'Ohio'])\n",
        "long_df.ix['5-2001']"
      ],
      "metadata": {
        "colab": {
          "base_uri": "https://localhost:8080/",
          "height": 322
        },
        "id": "0K5GFq__9Btr",
        "outputId": "ba47b305-469e-48ea-ba6f-b5cae271fa8a"
      },
      "execution_count": null,
      "outputs": [
        {
          "output_type": "error",
          "ename": "AttributeError",
          "evalue": "ignored",
          "traceback": [
            "\u001b[0;31m---------------------------------------------------------------------------\u001b[0m",
            "\u001b[0;31mAttributeError\u001b[0m                            Traceback (most recent call last)",
            "\u001b[0;32m<ipython-input-39-51742be21b0a>\u001b[0m in \u001b[0;36m<module>\u001b[0;34m\u001b[0m\n\u001b[1;32m      4\u001b[0m                     \u001b[0mindex\u001b[0m\u001b[0;34m=\u001b[0m\u001b[0mdates\u001b[0m\u001b[0;34m,\u001b[0m \u001b[0mcolumns\u001b[0m\u001b[0;34m=\u001b[0m\u001b[0;34m\u001b[0m\u001b[0;34m\u001b[0m\u001b[0m\n\u001b[1;32m      5\u001b[0m                     ['Colorado', 'Texas', 'New York', 'Ohio'])\n\u001b[0;32m----> 6\u001b[0;31m \u001b[0mlong_df\u001b[0m\u001b[0;34m.\u001b[0m\u001b[0mix\u001b[0m\u001b[0;34m[\u001b[0m\u001b[0;34m'5-2001'\u001b[0m\u001b[0;34m]\u001b[0m\u001b[0;34m\u001b[0m\u001b[0;34m\u001b[0m\u001b[0m\n\u001b[0m",
            "\u001b[0;32m/usr/local/lib/python3.7/dist-packages/pandas/core/generic.py\u001b[0m in \u001b[0;36m__getattr__\u001b[0;34m(self, name)\u001b[0m\n\u001b[1;32m   5485\u001b[0m         ):\n\u001b[1;32m   5486\u001b[0m             \u001b[0;32mreturn\u001b[0m \u001b[0mself\u001b[0m\u001b[0;34m[\u001b[0m\u001b[0mname\u001b[0m\u001b[0;34m]\u001b[0m\u001b[0;34m\u001b[0m\u001b[0;34m\u001b[0m\u001b[0m\n\u001b[0;32m-> 5487\u001b[0;31m         \u001b[0;32mreturn\u001b[0m \u001b[0mobject\u001b[0m\u001b[0;34m.\u001b[0m\u001b[0m__getattribute__\u001b[0m\u001b[0;34m(\u001b[0m\u001b[0mself\u001b[0m\u001b[0;34m,\u001b[0m \u001b[0mname\u001b[0m\u001b[0;34m)\u001b[0m\u001b[0;34m\u001b[0m\u001b[0;34m\u001b[0m\u001b[0m\n\u001b[0m\u001b[1;32m   5488\u001b[0m \u001b[0;34m\u001b[0m\u001b[0m\n\u001b[1;32m   5489\u001b[0m     \u001b[0;32mdef\u001b[0m \u001b[0m__setattr__\u001b[0m\u001b[0;34m(\u001b[0m\u001b[0mself\u001b[0m\u001b[0;34m,\u001b[0m \u001b[0mname\u001b[0m\u001b[0;34m:\u001b[0m \u001b[0mstr\u001b[0m\u001b[0;34m,\u001b[0m \u001b[0mvalue\u001b[0m\u001b[0;34m)\u001b[0m \u001b[0;34m->\u001b[0m \u001b[0;32mNone\u001b[0m\u001b[0;34m:\u001b[0m\u001b[0;34m\u001b[0m\u001b[0;34m\u001b[0m\u001b[0m\n",
            "\u001b[0;31mAttributeError\u001b[0m: 'DataFrame' object has no attribute 'ix'"
          ]
        }
      ]
    },
    {
      "cell_type": "markdown",
      "source": [
        "### Time Series with Duplicate Indices"
      ],
      "metadata": {
        "id": "SM8Dg8rT0iBb"
      }
    },
    {
      "cell_type": "markdown",
      "source": [
        "pd.DatetimeIndex, hàm này giống như mảng (ndarray) bất biến của\n",
        "dữ liệu datetime64."
      ],
      "metadata": {
        "id": "x1kJg9HLEDcI"
      }
    },
    {
      "cell_type": "code",
      "source": [
        "dates = pd.DatetimeIndex(['1/1/2000', '1/2/2000',\n",
        "                         '1/2/2000','1/2/2000','1/3/2000'])\n",
        "dup_ts = pd.Series(np.arange(5), index=dates)\n",
        "dup_ts"
      ],
      "metadata": {
        "id": "c6LcbzlJ2GS8",
        "colab": {
          "base_uri": "https://localhost:8080/"
        },
        "outputId": "7f9128f0-e7d7-4379-c8ef-c92cbdb2e068"
      },
      "execution_count": null,
      "outputs": [
        {
          "output_type": "execute_result",
          "data": {
            "text/plain": [
              "2000-01-01    0\n",
              "2000-01-02    1\n",
              "2000-01-02    2\n",
              "2000-01-02    3\n",
              "2000-01-03    4\n",
              "dtype: int64"
            ]
          },
          "metadata": {},
          "execution_count": 40
        }
      ]
    },
    {
      "cell_type": "markdown",
      "source": [
        " Kiểm\n",
        "tra thuộc tính is_unique "
      ],
      "metadata": {
        "id": "eQtV4YvSEXmi"
      }
    },
    {
      "cell_type": "code",
      "source": [
        "dup_ts.index.is_unique"
      ],
      "metadata": {
        "colab": {
          "base_uri": "https://localhost:8080/"
        },
        "id": "p4ZEG5Vi-PI0",
        "outputId": "b90cbb6d-6f34-4275-8b47-cb180e17969f"
      },
      "execution_count": null,
      "outputs": [
        {
          "output_type": "execute_result",
          "data": {
            "text/plain": [
              "False"
            ]
          },
          "metadata": {},
          "execution_count": 41
        }
      ]
    },
    {
      "cell_type": "markdown",
      "source": [
        "Indexing vào time series này bây giờ sẽ tạo ra các giá trị vô hướng hoặc\n",
        "các phần cắt tùy thuộc vào việc liệu một timestamp có bị trùng lặp hay\n",
        "không."
      ],
      "metadata": {
        "id": "CdSQ5nOLEkMS"
      }
    },
    {
      "cell_type": "code",
      "source": [
        "dup_ts['1/3/2000']    #not  duplicated"
      ],
      "metadata": {
        "colab": {
          "base_uri": "https://localhost:8080/"
        },
        "id": "O-fHlIRh-gsy",
        "outputId": "4eff1405-5436-4844-b446-639a38b73715"
      },
      "execution_count": null,
      "outputs": [
        {
          "output_type": "execute_result",
          "data": {
            "text/plain": [
              "4"
            ]
          },
          "metadata": {},
          "execution_count": 42
        }
      ]
    },
    {
      "cell_type": "markdown",
      "source": [
        "ở trên chỉ in ra một giá trị. Còn bên dưới in ra một phần\n",
        "đã được cắt của một timestamp đã bị trùng."
      ],
      "metadata": {
        "id": "5vfU-i1AEvza"
      }
    },
    {
      "cell_type": "code",
      "source": [
        "dup_ts['1/2/2000']    #duplicated"
      ],
      "metadata": {
        "colab": {
          "base_uri": "https://localhost:8080/"
        },
        "id": "X99utTrA-nxj",
        "outputId": "6b5cfb0d-cecb-4684-fe35-3d77760b350f"
      },
      "execution_count": null,
      "outputs": [
        {
          "output_type": "execute_result",
          "data": {
            "text/plain": [
              "2000-01-02    1\n",
              "2000-01-02    2\n",
              "2000-01-02    3\n",
              "dtype: int64"
            ]
          },
          "metadata": {},
          "execution_count": 43
        }
      ]
    },
    {
      "cell_type": "markdown",
      "source": [
        "Tổng hợp dữ liệu có timestamps không phải là duy\n",
        "nhất, sử dụng groupby và đặt mức = 0\n",
        "(mức index)"
      ],
      "metadata": {
        "id": "Y5ulMojVE_ks"
      }
    },
    {
      "cell_type": "code",
      "source": [
        "grouped = dup_ts.groupby(level=0)\n",
        "\n",
        "grouped.mean()"
      ],
      "metadata": {
        "colab": {
          "base_uri": "https://localhost:8080/"
        },
        "id": "iIXPs4w9-qYq",
        "outputId": "bad62f75-337d-4fd5-a643-77d6a59f54c4"
      },
      "execution_count": null,
      "outputs": [
        {
          "output_type": "execute_result",
          "data": {
            "text/plain": [
              "2000-01-01    0.0\n",
              "2000-01-02    2.0\n",
              "2000-01-03    4.0\n",
              "dtype: float64"
            ]
          },
          "metadata": {},
          "execution_count": 44
        }
      ]
    },
    {
      "cell_type": "markdown",
      "source": [
        "Đếm tần suất xuất hiện các index (count())"
      ],
      "metadata": {
        "id": "0ort28pJFUkz"
      }
    },
    {
      "cell_type": "code",
      "source": [
        "grouped.count()"
      ],
      "metadata": {
        "id": "3UI3-c0i-v40",
        "outputId": "bf4d8d28-821b-489a-9060-eaf7e5dacc22",
        "colab": {
          "base_uri": "https://localhost:8080/"
        }
      },
      "execution_count": null,
      "outputs": [
        {
          "output_type": "execute_result",
          "data": {
            "text/plain": [
              "2000-01-01    1\n",
              "2000-01-02    3\n",
              "2000-01-03    1\n",
              "dtype: int64"
            ]
          },
          "metadata": {},
          "execution_count": 45
        }
      ]
    },
    {
      "cell_type": "markdown",
      "source": [
        "## Date Ranges, Frequencies, and Shifting"
      ],
      "metadata": {
        "id": "lwJQtWvH0k4U"
      }
    },
    {
      "cell_type": "code",
      "source": [
        "import numpy as np\n",
        "import pandas as pd\n",
        "from datetime import datetime\n",
        "from pandas import Series"
      ],
      "metadata": {
        "id": "ZPHCQjoK2Gyr"
      },
      "execution_count": null,
      "outputs": []
    },
    {
      "cell_type": "code",
      "source": [
        "ts"
      ],
      "metadata": {
        "colab": {
          "base_uri": "https://localhost:8080/"
        },
        "id": "e9VlLwaIc7Lp",
        "outputId": "25465173-9c91-4b0a-e6ba-7f09dea0082d"
      },
      "execution_count": null,
      "outputs": [
        {
          "output_type": "execute_result",
          "data": {
            "text/plain": [
              "2000-01-15   -0.289892\n",
              "2000-01-19    0.756591\n",
              "2000-01-23   -0.255394\n",
              "2000-01-27    0.272164\n",
              "2000-01-31   -0.313162\n",
              "2000-02-04   -0.987904\n",
              "2000-02-08   -0.301447\n",
              "2000-02-12    0.927702\n",
              "2000-02-16   -0.909920\n",
              "2000-02-20    0.874343\n",
              "2000-02-24   -0.208007\n",
              "2000-02-28   -1.400149\n",
              "2000-03-03    0.800549\n",
              "2000-03-07    1.748256\n",
              "2000-03-11    0.173872\n",
              "2000-03-15   -1.216923\n",
              "2000-03-19    1.062221\n",
              "2000-03-23    0.804816\n",
              "2000-03-27    0.242162\n",
              "2000-03-31   -1.366820\n",
              "Freq: 4D, dtype: float64"
            ]
          },
          "metadata": {},
          "execution_count": 97
        }
      ]
    },
    {
      "cell_type": "code",
      "source": [
        "ts.resample('D')"
      ],
      "metadata": {
        "colab": {
          "base_uri": "https://localhost:8080/"
        },
        "id": "5j1cobHtfczE",
        "outputId": "0c53dbc4-32ee-4615-8fe4-a766d335dc83"
      },
      "execution_count": null,
      "outputs": [
        {
          "output_type": "execute_result",
          "data": {
            "text/plain": [
              "<pandas.core.resample.DatetimeIndexResampler object at 0x7ff120a4c510>"
            ]
          },
          "metadata": {},
          "execution_count": 48
        }
      ]
    },
    {
      "cell_type": "markdown",
      "source": [
        "### Generating Date Ranges"
      ],
      "metadata": {
        "id": "GqKyhKpJ0nIf"
      }
    },
    {
      "cell_type": "code",
      "source": [
        "index = pd.date_range('4/1/2012', '6/1/2012')"
      ],
      "metadata": {
        "id": "UFYUWO-y2HNg"
      },
      "execution_count": null,
      "outputs": []
    },
    {
      "cell_type": "code",
      "source": [
        "index"
      ],
      "metadata": {
        "colab": {
          "base_uri": "https://localhost:8080/"
        },
        "id": "i6SDZtDqfqPp",
        "outputId": "2d1a71a7-70db-412f-bcb6-3d18623f71c2"
      },
      "execution_count": null,
      "outputs": [
        {
          "output_type": "execute_result",
          "data": {
            "text/plain": [
              "DatetimeIndex(['2012-04-01', '2012-04-02', '2012-04-03', '2012-04-04',\n",
              "               '2012-04-05', '2012-04-06', '2012-04-07', '2012-04-08',\n",
              "               '2012-04-09', '2012-04-10', '2012-04-11', '2012-04-12',\n",
              "               '2012-04-13', '2012-04-14', '2012-04-15', '2012-04-16',\n",
              "               '2012-04-17', '2012-04-18', '2012-04-19', '2012-04-20',\n",
              "               '2012-04-21', '2012-04-22', '2012-04-23', '2012-04-24',\n",
              "               '2012-04-25', '2012-04-26', '2012-04-27', '2012-04-28',\n",
              "               '2012-04-29', '2012-04-30', '2012-05-01', '2012-05-02',\n",
              "               '2012-05-03', '2012-05-04', '2012-05-05', '2012-05-06',\n",
              "               '2012-05-07', '2012-05-08', '2012-05-09', '2012-05-10',\n",
              "               '2012-05-11', '2012-05-12', '2012-05-13', '2012-05-14',\n",
              "               '2012-05-15', '2012-05-16', '2012-05-17', '2012-05-18',\n",
              "               '2012-05-19', '2012-05-20', '2012-05-21', '2012-05-22',\n",
              "               '2012-05-23', '2012-05-24', '2012-05-25', '2012-05-26',\n",
              "               '2012-05-27', '2012-05-28', '2012-05-29', '2012-05-30',\n",
              "               '2012-05-31', '2012-06-01'],\n",
              "              dtype='datetime64[ns]', freq='D')"
            ]
          },
          "metadata": {},
          "execution_count": 50
        }
      ]
    },
    {
      "cell_type": "code",
      "source": [
        "pd.date_range(start='4/1/2012', periods=20)"
      ],
      "metadata": {
        "colab": {
          "base_uri": "https://localhost:8080/"
        },
        "id": "a8k9NgKzf8Vz",
        "outputId": "6be57e5d-0850-4cf6-ef7a-406dcf731280"
      },
      "execution_count": null,
      "outputs": [
        {
          "output_type": "execute_result",
          "data": {
            "text/plain": [
              "DatetimeIndex(['2012-04-01', '2012-04-02', '2012-04-03', '2012-04-04',\n",
              "               '2012-04-05', '2012-04-06', '2012-04-07', '2012-04-08',\n",
              "               '2012-04-09', '2012-04-10', '2012-04-11', '2012-04-12',\n",
              "               '2012-04-13', '2012-04-14', '2012-04-15', '2012-04-16',\n",
              "               '2012-04-17', '2012-04-18', '2012-04-19', '2012-04-20'],\n",
              "              dtype='datetime64[ns]', freq='D')"
            ]
          },
          "metadata": {},
          "execution_count": 51
        }
      ]
    },
    {
      "cell_type": "code",
      "source": [
        "pd.date_range(end='6/1/2012', periods=20)"
      ],
      "metadata": {
        "colab": {
          "base_uri": "https://localhost:8080/"
        },
        "id": "G6DPaJsMf9xb",
        "outputId": "282eb0e7-f6bd-4cf7-b0eb-c57009f05b18"
      },
      "execution_count": null,
      "outputs": [
        {
          "output_type": "execute_result",
          "data": {
            "text/plain": [
              "DatetimeIndex(['2012-05-13', '2012-05-14', '2012-05-15', '2012-05-16',\n",
              "               '2012-05-17', '2012-05-18', '2012-05-19', '2012-05-20',\n",
              "               '2012-05-21', '2012-05-22', '2012-05-23', '2012-05-24',\n",
              "               '2012-05-25', '2012-05-26', '2012-05-27', '2012-05-28',\n",
              "               '2012-05-29', '2012-05-30', '2012-05-31', '2012-06-01'],\n",
              "              dtype='datetime64[ns]', freq='D')"
            ]
          },
          "metadata": {},
          "execution_count": 52
        }
      ]
    },
    {
      "cell_type": "code",
      "source": [
        "pd.date_range('1/1/2000', '12/1/2000', freq='BM')"
      ],
      "metadata": {
        "colab": {
          "base_uri": "https://localhost:8080/"
        },
        "id": "fkidEXhhgh0K",
        "outputId": "aa604666-fb9d-4eba-bd1a-124926f0ebd7"
      },
      "execution_count": null,
      "outputs": [
        {
          "output_type": "execute_result",
          "data": {
            "text/plain": [
              "DatetimeIndex(['2000-01-31', '2000-02-29', '2000-03-31', '2000-04-28',\n",
              "               '2000-05-31', '2000-06-30', '2000-07-31', '2000-08-31',\n",
              "               '2000-09-29', '2000-10-31', '2000-11-30'],\n",
              "              dtype='datetime64[ns]', freq='BM')"
            ]
          },
          "metadata": {},
          "execution_count": 53
        }
      ]
    },
    {
      "cell_type": "code",
      "source": [
        "pd.date_range('5/2/2012 12:56:31', periods=5)"
      ],
      "metadata": {
        "colab": {
          "base_uri": "https://localhost:8080/"
        },
        "id": "Bbh9rDyygnqX",
        "outputId": "85a1ef47-a571-45f5-c89a-81da2254e1a2"
      },
      "execution_count": null,
      "outputs": [
        {
          "output_type": "execute_result",
          "data": {
            "text/plain": [
              "DatetimeIndex(['2012-05-02 12:56:31', '2012-05-03 12:56:31',\n",
              "               '2012-05-04 12:56:31', '2012-05-05 12:56:31',\n",
              "               '2012-05-06 12:56:31'],\n",
              "              dtype='datetime64[ns]', freq='D')"
            ]
          },
          "metadata": {},
          "execution_count": 54
        }
      ]
    },
    {
      "cell_type": "code",
      "source": [
        "pd.date_range('5/2/2012 12:56:31', periods=5, normalize=True)"
      ],
      "metadata": {
        "colab": {
          "base_uri": "https://localhost:8080/"
        },
        "id": "e-oGgZxlgsY4",
        "outputId": "c31c7145-f66e-45b9-8dc3-5cc00d271822"
      },
      "execution_count": null,
      "outputs": [
        {
          "output_type": "execute_result",
          "data": {
            "text/plain": [
              "DatetimeIndex(['2012-05-02', '2012-05-03', '2012-05-04', '2012-05-05',\n",
              "               '2012-05-06'],\n",
              "              dtype='datetime64[ns]', freq='D')"
            ]
          },
          "metadata": {},
          "execution_count": 55
        }
      ]
    },
    {
      "cell_type": "markdown",
      "source": [
        "### Frequencies and Date Offsets"
      ],
      "metadata": {
        "id": "sxkg7O5C0tN-"
      }
    },
    {
      "cell_type": "code",
      "source": [
        "from pandas.tseries.offsets import Hour, Minute"
      ],
      "metadata": {
        "id": "Q44DD8nb2H2L"
      },
      "execution_count": null,
      "outputs": []
    },
    {
      "cell_type": "code",
      "source": [
        "hour = Hour()"
      ],
      "metadata": {
        "id": "9Nkz6nXbgzJZ"
      },
      "execution_count": null,
      "outputs": []
    },
    {
      "cell_type": "code",
      "source": [
        "hour"
      ],
      "metadata": {
        "colab": {
          "base_uri": "https://localhost:8080/"
        },
        "id": "aGNpdlsNg2aG",
        "outputId": "76219c25-6b61-4968-d8dc-31d5dc5e3b3d"
      },
      "execution_count": null,
      "outputs": [
        {
          "output_type": "execute_result",
          "data": {
            "text/plain": [
              "<Hour>"
            ]
          },
          "metadata": {},
          "execution_count": 60
        }
      ]
    },
    {
      "cell_type": "code",
      "source": [
        "four_hours = Hour(4)"
      ],
      "metadata": {
        "id": "DhxPk8wug7wn"
      },
      "execution_count": null,
      "outputs": []
    },
    {
      "cell_type": "code",
      "source": [
        "four_hours"
      ],
      "metadata": {
        "colab": {
          "base_uri": "https://localhost:8080/"
        },
        "id": "YDrJud2ag-MQ",
        "outputId": "00cbe3e5-cf8c-47bf-8911-b11e3aae7fe3"
      },
      "execution_count": null,
      "outputs": [
        {
          "output_type": "execute_result",
          "data": {
            "text/plain": [
              "<4 * Hours>"
            ]
          },
          "metadata": {},
          "execution_count": 62
        }
      ]
    },
    {
      "cell_type": "code",
      "source": [
        "pd.date_range('1/1/2000', '1/3/2000 23:59', freq='4h')"
      ],
      "metadata": {
        "colab": {
          "base_uri": "https://localhost:8080/"
        },
        "id": "nQPwxHTMhA4y",
        "outputId": "2222744b-6aa8-479c-cfb7-6495ca679ea6"
      },
      "execution_count": null,
      "outputs": [
        {
          "output_type": "execute_result",
          "data": {
            "text/plain": [
              "DatetimeIndex(['2000-01-01 00:00:00', '2000-01-01 04:00:00',\n",
              "               '2000-01-01 08:00:00', '2000-01-01 12:00:00',\n",
              "               '2000-01-01 16:00:00', '2000-01-01 20:00:00',\n",
              "               '2000-01-02 00:00:00', '2000-01-02 04:00:00',\n",
              "               '2000-01-02 08:00:00', '2000-01-02 12:00:00',\n",
              "               '2000-01-02 16:00:00', '2000-01-02 20:00:00',\n",
              "               '2000-01-03 00:00:00', '2000-01-03 04:00:00',\n",
              "               '2000-01-03 08:00:00', '2000-01-03 12:00:00',\n",
              "               '2000-01-03 16:00:00', '2000-01-03 20:00:00'],\n",
              "              dtype='datetime64[ns]', freq='4H')"
            ]
          },
          "metadata": {},
          "execution_count": 63
        }
      ]
    },
    {
      "cell_type": "code",
      "source": [
        "Hour(2) + Minute(30)"
      ],
      "metadata": {
        "colab": {
          "base_uri": "https://localhost:8080/"
        },
        "id": "8VWdZqdDhEcj",
        "outputId": "5d733d3d-d1f1-42f7-958a-ef4a1859aca0"
      },
      "execution_count": null,
      "outputs": [
        {
          "output_type": "execute_result",
          "data": {
            "text/plain": [
              "<150 * Minutes>"
            ]
          },
          "metadata": {},
          "execution_count": 64
        }
      ]
    },
    {
      "cell_type": "code",
      "source": [
        "pd.date_range('1/1/2000', periods=10, freq='1h30min')"
      ],
      "metadata": {
        "colab": {
          "base_uri": "https://localhost:8080/"
        },
        "id": "5UdBhYSqhHzS",
        "outputId": "3440f873-8bb3-4dfc-d5eb-81af468403d7"
      },
      "execution_count": null,
      "outputs": [
        {
          "output_type": "execute_result",
          "data": {
            "text/plain": [
              "DatetimeIndex(['2000-01-01 00:00:00', '2000-01-01 01:30:00',\n",
              "               '2000-01-01 03:00:00', '2000-01-01 04:30:00',\n",
              "               '2000-01-01 06:00:00', '2000-01-01 07:30:00',\n",
              "               '2000-01-01 09:00:00', '2000-01-01 10:30:00',\n",
              "               '2000-01-01 12:00:00', '2000-01-01 13:30:00'],\n",
              "              dtype='datetime64[ns]', freq='90T')"
            ]
          },
          "metadata": {},
          "execution_count": 65
        }
      ]
    },
    {
      "cell_type": "markdown",
      "source": [
        "#### Week of month dates"
      ],
      "metadata": {
        "id": "b8_Hus5j0vJq"
      }
    },
    {
      "cell_type": "code",
      "source": [
        "rng = pd.date_range('1/1/2012', '9/1/2012', freq='WOM-3FRI')"
      ],
      "metadata": {
        "id": "u1UpQmFq2I5J"
      },
      "execution_count": null,
      "outputs": []
    },
    {
      "cell_type": "code",
      "source": [
        "list(rng)"
      ],
      "metadata": {
        "colab": {
          "base_uri": "https://localhost:8080/"
        },
        "id": "Ne04Z1NMhR0M",
        "outputId": "8f71157b-9bc9-4b68-8984-967d62502cb8"
      },
      "execution_count": null,
      "outputs": [
        {
          "output_type": "execute_result",
          "data": {
            "text/plain": [
              "[Timestamp('2012-01-20 00:00:00', freq='WOM-3FRI'),\n",
              " Timestamp('2012-02-17 00:00:00', freq='WOM-3FRI'),\n",
              " Timestamp('2012-03-16 00:00:00', freq='WOM-3FRI'),\n",
              " Timestamp('2012-04-20 00:00:00', freq='WOM-3FRI'),\n",
              " Timestamp('2012-05-18 00:00:00', freq='WOM-3FRI'),\n",
              " Timestamp('2012-06-15 00:00:00', freq='WOM-3FRI'),\n",
              " Timestamp('2012-07-20 00:00:00', freq='WOM-3FRI'),\n",
              " Timestamp('2012-08-17 00:00:00', freq='WOM-3FRI')]"
            ]
          },
          "metadata": {},
          "execution_count": 67
        }
      ]
    },
    {
      "cell_type": "markdown",
      "source": [
        "### Shifting (Leading and Lagging) Data"
      ],
      "metadata": {
        "id": "lPlFE-dy00vW"
      }
    },
    {
      "cell_type": "code",
      "source": [
        "ts = Series(np.random.randn(4),index=pd.date_range('1/1/2000', periods=4, freq='M'))"
      ],
      "metadata": {
        "id": "zO4IAVlN2JZB"
      },
      "execution_count": null,
      "outputs": []
    },
    {
      "cell_type": "code",
      "source": [
        "ts"
      ],
      "metadata": {
        "colab": {
          "base_uri": "https://localhost:8080/"
        },
        "id": "T4DEYXdLiMCV",
        "outputId": "e2f99f7f-2f20-4bc1-c41e-42d7eca09568"
      },
      "execution_count": null,
      "outputs": [
        {
          "output_type": "execute_result",
          "data": {
            "text/plain": [
              "2000-01-31    0.975118\n",
              "2000-02-29    0.322347\n",
              "2000-03-31    0.785243\n",
              "2000-04-30    1.488113\n",
              "Freq: M, dtype: float64"
            ]
          },
          "metadata": {},
          "execution_count": 73
        }
      ]
    },
    {
      "cell_type": "code",
      "source": [
        "ts.shift(2)"
      ],
      "metadata": {
        "colab": {
          "base_uri": "https://localhost:8080/"
        },
        "id": "Leir2R8jiSVj",
        "outputId": "e126c385-8116-4c5e-c127-b4dbbe3ba86c"
      },
      "execution_count": null,
      "outputs": [
        {
          "output_type": "execute_result",
          "data": {
            "text/plain": [
              "2000-01-31         NaN\n",
              "2000-02-29         NaN\n",
              "2000-03-31    0.975118\n",
              "2000-04-30    0.322347\n",
              "Freq: M, dtype: float64"
            ]
          },
          "metadata": {},
          "execution_count": 74
        }
      ]
    },
    {
      "cell_type": "code",
      "source": [
        "ts.shift(-2)"
      ],
      "metadata": {
        "colab": {
          "base_uri": "https://localhost:8080/"
        },
        "id": "vwHgrjJsiWjj",
        "outputId": "8af8fb3a-2166-48ba-b3d5-3c61620e2ade"
      },
      "execution_count": null,
      "outputs": [
        {
          "output_type": "execute_result",
          "data": {
            "text/plain": [
              "2000-01-31    0.785243\n",
              "2000-02-29    1.488113\n",
              "2000-03-31         NaN\n",
              "2000-04-30         NaN\n",
              "Freq: M, dtype: float64"
            ]
          },
          "metadata": {},
          "execution_count": 75
        }
      ]
    },
    {
      "cell_type": "code",
      "source": [
        "ts.shift(2, freq='M')"
      ],
      "metadata": {
        "colab": {
          "base_uri": "https://localhost:8080/"
        },
        "id": "fgXhUgyZiaT3",
        "outputId": "1f545ddf-fd0c-4741-8c08-89dd55551cfe"
      },
      "execution_count": null,
      "outputs": [
        {
          "output_type": "execute_result",
          "data": {
            "text/plain": [
              "2000-03-31    0.975118\n",
              "2000-04-30    0.322347\n",
              "2000-05-31    0.785243\n",
              "2000-06-30    1.488113\n",
              "Freq: M, dtype: float64"
            ]
          },
          "metadata": {},
          "execution_count": 76
        }
      ]
    },
    {
      "cell_type": "code",
      "source": [
        "ts.shift(3, freq='D')"
      ],
      "metadata": {
        "colab": {
          "base_uri": "https://localhost:8080/"
        },
        "id": "6DXF3SokifSw",
        "outputId": "09d48e79-cffc-42af-d5c5-75c62ac185da"
      },
      "execution_count": null,
      "outputs": [
        {
          "output_type": "execute_result",
          "data": {
            "text/plain": [
              "2000-02-03    0.975118\n",
              "2000-03-03    0.322347\n",
              "2000-04-03    0.785243\n",
              "2000-05-03    1.488113\n",
              "dtype: float64"
            ]
          },
          "metadata": {},
          "execution_count": 77
        }
      ]
    },
    {
      "cell_type": "code",
      "source": [
        "ts.shift(1, freq='3D')"
      ],
      "metadata": {
        "colab": {
          "base_uri": "https://localhost:8080/"
        },
        "id": "sUQcvn99i3TO",
        "outputId": "92c815d7-4c80-4ec2-876c-1a6055067ad2"
      },
      "execution_count": null,
      "outputs": [
        {
          "output_type": "execute_result",
          "data": {
            "text/plain": [
              "2000-02-03    0.975118\n",
              "2000-03-03    0.322347\n",
              "2000-04-03    0.785243\n",
              "2000-05-03    1.488113\n",
              "dtype: float64"
            ]
          },
          "metadata": {},
          "execution_count": 82
        }
      ]
    },
    {
      "cell_type": "code",
      "source": [
        "ts.shift(1, freq='90T')"
      ],
      "metadata": {
        "colab": {
          "base_uri": "https://localhost:8080/"
        },
        "id": "LmFO46gCijK2",
        "outputId": "f7a1e25a-5046-4480-c90c-093bb23f0b79"
      },
      "execution_count": null,
      "outputs": [
        {
          "output_type": "execute_result",
          "data": {
            "text/plain": [
              "2000-01-31 01:30:00    0.975118\n",
              "2000-02-29 01:30:00    0.322347\n",
              "2000-03-31 01:30:00    0.785243\n",
              "2000-04-30 01:30:00    1.488113\n",
              "dtype: float64"
            ]
          },
          "metadata": {},
          "execution_count": 78
        }
      ]
    },
    {
      "cell_type": "markdown",
      "source": [
        "#### Shifting dates with offsets"
      ],
      "metadata": {
        "id": "E2jYP9KM04f3"
      }
    },
    {
      "cell_type": "code",
      "source": [
        "from pandas.tseries.offsets import Day, MonthEnd"
      ],
      "metadata": {
        "id": "qQS0qTP1inaW"
      },
      "execution_count": null,
      "outputs": []
    },
    {
      "cell_type": "code",
      "source": [
        "now = datetime(2011, 11, 17)"
      ],
      "metadata": {
        "id": "-RDl5nYEiqZh"
      },
      "execution_count": null,
      "outputs": []
    },
    {
      "cell_type": "code",
      "source": [
        "now + 3 * Day()"
      ],
      "metadata": {
        "colab": {
          "base_uri": "https://localhost:8080/"
        },
        "id": "PIu7eRPpjFhL",
        "outputId": "f992a50a-3b69-4862-b320-d05a67ea8ec3"
      },
      "execution_count": null,
      "outputs": [
        {
          "output_type": "execute_result",
          "data": {
            "text/plain": [
              "Timestamp('2011-11-20 00:00:00')"
            ]
          },
          "metadata": {},
          "execution_count": 85
        }
      ]
    },
    {
      "cell_type": "code",
      "source": [
        "now + MonthEnd()"
      ],
      "metadata": {
        "colab": {
          "base_uri": "https://localhost:8080/"
        },
        "id": "mDDNoeaijIMt",
        "outputId": "131dbcf7-6f10-46b8-deef-4ba393f83af6"
      },
      "execution_count": null,
      "outputs": [
        {
          "output_type": "execute_result",
          "data": {
            "text/plain": [
              "Timestamp('2011-11-30 00:00:00')"
            ]
          },
          "metadata": {},
          "execution_count": 86
        }
      ]
    },
    {
      "cell_type": "code",
      "source": [
        "now + MonthEnd(2)"
      ],
      "metadata": {
        "colab": {
          "base_uri": "https://localhost:8080/"
        },
        "id": "_Idf9jVBjKdv",
        "outputId": "d85fd667-bdc4-4ad6-b9f9-e079cc6b108d"
      },
      "execution_count": null,
      "outputs": [
        {
          "output_type": "execute_result",
          "data": {
            "text/plain": [
              "Timestamp('2011-12-31 00:00:00')"
            ]
          },
          "metadata": {},
          "execution_count": 87
        }
      ]
    },
    {
      "cell_type": "code",
      "source": [
        "offset = MonthEnd()"
      ],
      "metadata": {
        "id": "PPqPPPh_jNHJ"
      },
      "execution_count": null,
      "outputs": []
    },
    {
      "cell_type": "code",
      "source": [
        "offset.rollforward(now)"
      ],
      "metadata": {
        "colab": {
          "base_uri": "https://localhost:8080/"
        },
        "id": "yUBlHjNZjPNr",
        "outputId": "4845c7f7-ed82-47b2-f116-3ac3a0529c57"
      },
      "execution_count": null,
      "outputs": [
        {
          "output_type": "execute_result",
          "data": {
            "text/plain": [
              "Timestamp('2011-11-30 00:00:00')"
            ]
          },
          "metadata": {},
          "execution_count": 89
        }
      ]
    },
    {
      "cell_type": "code",
      "source": [
        "offset.rollback(now)"
      ],
      "metadata": {
        "colab": {
          "base_uri": "https://localhost:8080/"
        },
        "id": "AEFAthlujRYN",
        "outputId": "a0c1eb56-9a0d-48b8-e95c-a3013e1d70bc"
      },
      "execution_count": null,
      "outputs": [
        {
          "output_type": "execute_result",
          "data": {
            "text/plain": [
              "Timestamp('2011-10-31 00:00:00')"
            ]
          },
          "metadata": {},
          "execution_count": 90
        }
      ]
    },
    {
      "cell_type": "code",
      "source": [
        "ts = Series(np.random.randn(20),index=pd.date_range('1/15/2000', periods=20, freq='4d'))"
      ],
      "metadata": {
        "id": "FyDMR7MpjWt9"
      },
      "execution_count": null,
      "outputs": []
    },
    {
      "cell_type": "code",
      "source": [
        "ts.groupby(offset.rollforward).mean()"
      ],
      "metadata": {
        "colab": {
          "base_uri": "https://localhost:8080/"
        },
        "id": "r3l13JZsja66",
        "outputId": "141fb133-6b3e-4570-8c4a-117a9b75aba4"
      },
      "execution_count": null,
      "outputs": [
        {
          "output_type": "execute_result",
          "data": {
            "text/plain": [
              "2000-01-31    0.034061\n",
              "2000-02-29   -0.286483\n",
              "2000-03-31    0.281017\n",
              "dtype: float64"
            ]
          },
          "metadata": {},
          "execution_count": 92
        }
      ]
    },
    {
      "cell_type": "code",
      "source": [
        "ts.resample('M', how='mean')"
      ],
      "metadata": {
        "colab": {
          "base_uri": "https://localhost:8080/",
          "height": 166
        },
        "id": "tYt7FSaLjecw",
        "outputId": "ba58e55c-47db-4b64-cc45-4c99438d2613"
      },
      "execution_count": null,
      "outputs": [
        {
          "output_type": "error",
          "ename": "TypeError",
          "evalue": "ignored",
          "traceback": [
            "\u001b[0;31m---------------------------------------------------------------------------\u001b[0m",
            "\u001b[0;31mTypeError\u001b[0m                                 Traceback (most recent call last)",
            "\u001b[0;32m<ipython-input-95-e185dcc60263>\u001b[0m in \u001b[0;36m<module>\u001b[0;34m\u001b[0m\n\u001b[0;32m----> 1\u001b[0;31m \u001b[0mts\u001b[0m\u001b[0;34m.\u001b[0m\u001b[0mresample\u001b[0m\u001b[0;34m(\u001b[0m\u001b[0;34m'M'\u001b[0m\u001b[0;34m,\u001b[0m \u001b[0mhow\u001b[0m\u001b[0;34m=\u001b[0m\u001b[0;34m'mean'\u001b[0m\u001b[0;34m)\u001b[0m\u001b[0;34m\u001b[0m\u001b[0;34m\u001b[0m\u001b[0m\n\u001b[0m",
            "\u001b[0;31mTypeError\u001b[0m: resample() got an unexpected keyword argument 'how'"
          ]
        }
      ]
    },
    {
      "cell_type": "markdown",
      "source": [
        "## Time Zone Handling"
      ],
      "metadata": {
        "id": "auWW72f407qQ"
      }
    },
    {
      "cell_type": "code",
      "source": [
        "import pytz\n",
        "pytz.common_timezones[-5:]"
      ],
      "metadata": {
        "id": "IfcW-DWZ2KWs",
        "colab": {
          "base_uri": "https://localhost:8080/"
        },
        "outputId": "f64f1e6a-c103-4b2e-ee67-5c8fc189d8d5"
      },
      "execution_count": null,
      "outputs": [
        {
          "output_type": "execute_result",
          "data": {
            "text/plain": [
              "['US/Eastern', 'US/Hawaii', 'US/Mountain', 'US/Pacific', 'UTC']"
            ]
          },
          "metadata": {},
          "execution_count": 28
        }
      ]
    },
    {
      "cell_type": "code",
      "source": [
        "tz = pytz.timezone('US/Eastern')\n",
        "tz"
      ],
      "metadata": {
        "colab": {
          "base_uri": "https://localhost:8080/"
        },
        "id": "khoaR_FIly8g",
        "outputId": "20d0d6a3-99ab-4f45-c0bf-e721711ad486"
      },
      "execution_count": null,
      "outputs": [
        {
          "output_type": "execute_result",
          "data": {
            "text/plain": [
              "<DstTzInfo 'US/Eastern' LMT-1 day, 19:04:00 STD>"
            ]
          },
          "metadata": {},
          "execution_count": 29
        }
      ]
    },
    {
      "cell_type": "markdown",
      "source": [
        "### Localization and Conversion"
      ],
      "metadata": {
        "id": "CYTrm-v-1A4V"
      }
    },
    {
      "cell_type": "code",
      "source": [
        "rng = pd.date_range('3/9/2012 9:30', periods=6, freq='D')\n",
        "ts = pd.Series(np.random.randn(len(rng)), index=rng)\n",
        "ts"
      ],
      "metadata": {
        "id": "ak-9P5BG2Lu6",
        "colab": {
          "base_uri": "https://localhost:8080/"
        },
        "outputId": "c9fdbc6c-5355-4e52-cc67-33570a956888"
      },
      "execution_count": null,
      "outputs": [
        {
          "output_type": "execute_result",
          "data": {
            "text/plain": [
              "2012-03-09 09:30:00   -0.204708\n",
              "2012-03-10 09:30:00    0.478943\n",
              "2012-03-11 09:30:00   -0.519439\n",
              "2012-03-12 09:30:00   -0.555730\n",
              "2012-03-13 09:30:00    1.965781\n",
              "2012-03-14 09:30:00    1.393406\n",
              "Freq: D, dtype: float64"
            ]
          },
          "metadata": {},
          "execution_count": 9
        }
      ]
    },
    {
      "cell_type": "code",
      "source": [
        "print(ts.index.tz)"
      ],
      "metadata": {
        "colab": {
          "base_uri": "https://localhost:8080/"
        },
        "id": "kIzdT5NpniRI",
        "outputId": "026eb026-06c5-402b-bed3-701cf09c0a4b"
      },
      "execution_count": null,
      "outputs": [
        {
          "output_type": "stream",
          "name": "stdout",
          "text": [
            "None\n"
          ]
        }
      ]
    },
    {
      "cell_type": "code",
      "source": [
        "pd.date_range('3/9/2012 9:30', periods=10, freq='D', tz='UTC')"
      ],
      "metadata": {
        "colab": {
          "base_uri": "https://localhost:8080/"
        },
        "id": "W1dKYOSMnpqt",
        "outputId": "d9d26b46-2058-474d-ad99-51d99088a131"
      },
      "execution_count": null,
      "outputs": [
        {
          "output_type": "execute_result",
          "data": {
            "text/plain": [
              "DatetimeIndex(['2012-03-09 09:30:00+00:00', '2012-03-10 09:30:00+00:00',\n",
              "               '2012-03-11 09:30:00+00:00', '2012-03-12 09:30:00+00:00',\n",
              "               '2012-03-13 09:30:00+00:00', '2012-03-14 09:30:00+00:00',\n",
              "               '2012-03-15 09:30:00+00:00', '2012-03-16 09:30:00+00:00',\n",
              "               '2012-03-17 09:30:00+00:00', '2012-03-18 09:30:00+00:00'],\n",
              "              dtype='datetime64[ns, UTC]', freq='D')"
            ]
          },
          "metadata": {},
          "execution_count": 30
        }
      ]
    },
    {
      "cell_type": "code",
      "source": [
        "ts_utc = ts.tz_localize('UTC')\n",
        "ts_utc"
      ],
      "metadata": {
        "colab": {
          "base_uri": "https://localhost:8080/"
        },
        "id": "mwvLUlVonvaq",
        "outputId": "a655f0e3-ad42-4b36-abed-8be69dcf204a"
      },
      "execution_count": null,
      "outputs": [
        {
          "output_type": "execute_result",
          "data": {
            "text/plain": [
              "2012-03-09 09:30:00+00:00   -0.204708\n",
              "2012-03-10 09:30:00+00:00    0.478943\n",
              "2012-03-11 09:30:00+00:00   -0.519439\n",
              "2012-03-12 09:30:00+00:00   -0.555730\n",
              "2012-03-13 09:30:00+00:00    1.965781\n",
              "2012-03-14 09:30:00+00:00    1.393406\n",
              "Freq: D, dtype: float64"
            ]
          },
          "metadata": {},
          "execution_count": 31
        }
      ]
    },
    {
      "cell_type": "code",
      "source": [
        "ts_utc.index"
      ],
      "metadata": {
        "colab": {
          "base_uri": "https://localhost:8080/"
        },
        "id": "AhqNL6WnpaOq",
        "outputId": "6be7b6f1-9cf1-4017-acfc-093d8365ac79"
      },
      "execution_count": null,
      "outputs": [
        {
          "output_type": "execute_result",
          "data": {
            "text/plain": [
              "DatetimeIndex(['2012-03-09 09:30:00+00:00', '2012-03-10 09:30:00+00:00',\n",
              "               '2012-03-11 09:30:00+00:00', '2012-03-12 09:30:00+00:00',\n",
              "               '2012-03-13 09:30:00+00:00', '2012-03-14 09:30:00+00:00'],\n",
              "              dtype='datetime64[ns, UTC]', freq='D')"
            ]
          },
          "metadata": {},
          "execution_count": 32
        }
      ]
    },
    {
      "cell_type": "code",
      "source": [
        "ts_utc.tz_convert('US/Eastern')"
      ],
      "metadata": {
        "colab": {
          "base_uri": "https://localhost:8080/"
        },
        "id": "fia8fkNZpoLt",
        "outputId": "49430426-b9fd-4027-9bc8-08c64863041f"
      },
      "execution_count": null,
      "outputs": [
        {
          "output_type": "execute_result",
          "data": {
            "text/plain": [
              "2012-03-09 04:30:00-05:00   -0.204708\n",
              "2012-03-10 04:30:00-05:00    0.478943\n",
              "2012-03-11 05:30:00-04:00   -0.519439\n",
              "2012-03-12 05:30:00-04:00   -0.555730\n",
              "2012-03-13 05:30:00-04:00    1.965781\n",
              "2012-03-14 05:30:00-04:00    1.393406\n",
              "Freq: D, dtype: float64"
            ]
          },
          "metadata": {},
          "execution_count": 33
        }
      ]
    },
    {
      "cell_type": "code",
      "source": [
        "ts_eastern = ts.tz_localize('US/Eastern')\n",
        "ts_eastern.tz_convert('UTC')"
      ],
      "metadata": {
        "colab": {
          "base_uri": "https://localhost:8080/"
        },
        "id": "04vUhckKpxxE",
        "outputId": "8e3177a2-d529-44d3-e4a4-7962e1318ef7"
      },
      "execution_count": null,
      "outputs": [
        {
          "output_type": "execute_result",
          "data": {
            "text/plain": [
              "2012-03-09 14:30:00+00:00   -0.204708\n",
              "2012-03-10 14:30:00+00:00    0.478943\n",
              "2012-03-11 13:30:00+00:00   -0.519439\n",
              "2012-03-12 13:30:00+00:00   -0.555730\n",
              "2012-03-13 13:30:00+00:00    1.965781\n",
              "2012-03-14 13:30:00+00:00    1.393406\n",
              "dtype: float64"
            ]
          },
          "metadata": {},
          "execution_count": 34
        }
      ]
    },
    {
      "cell_type": "code",
      "source": [
        "ts_eastern.tz_convert('Europe/Berlin')"
      ],
      "metadata": {
        "colab": {
          "base_uri": "https://localhost:8080/"
        },
        "id": "yDb_-oOLp32F",
        "outputId": "d08c2e14-35ec-45b3-8c4d-6e47a48b52ea"
      },
      "execution_count": null,
      "outputs": [
        {
          "output_type": "execute_result",
          "data": {
            "text/plain": [
              "2012-03-09 15:30:00+01:00   -0.204708\n",
              "2012-03-10 15:30:00+01:00    0.478943\n",
              "2012-03-11 14:30:00+01:00   -0.519439\n",
              "2012-03-12 14:30:00+01:00   -0.555730\n",
              "2012-03-13 14:30:00+01:00    1.965781\n",
              "2012-03-14 14:30:00+01:00    1.393406\n",
              "dtype: float64"
            ]
          },
          "metadata": {},
          "execution_count": 35
        }
      ]
    },
    {
      "cell_type": "code",
      "source": [
        "ts.index.tz_localize('Asia/Shanghai')"
      ],
      "metadata": {
        "colab": {
          "base_uri": "https://localhost:8080/"
        },
        "id": "EGl47ucbqAN0",
        "outputId": "76bb553a-05fc-4d7e-ef1b-6d6426289c3e"
      },
      "execution_count": null,
      "outputs": [
        {
          "output_type": "execute_result",
          "data": {
            "text/plain": [
              "DatetimeIndex(['2012-03-09 09:30:00+08:00', '2012-03-10 09:30:00+08:00',\n",
              "               '2012-03-11 09:30:00+08:00', '2012-03-12 09:30:00+08:00',\n",
              "               '2012-03-13 09:30:00+08:00', '2012-03-14 09:30:00+08:00'],\n",
              "              dtype='datetime64[ns, Asia/Shanghai]', freq=None)"
            ]
          },
          "metadata": {},
          "execution_count": 18
        }
      ]
    },
    {
      "cell_type": "markdown",
      "source": [
        "### Operations with Time Zone−aware Timestamp Objects"
      ],
      "metadata": {
        "id": "phYk8bPw1Dlm"
      }
    },
    {
      "cell_type": "code",
      "source": [
        "stamp = pd.Timestamp('2011-03-12 04:00')\n",
        "stamp_utc = stamp.tz_localize('utc')\n",
        "stamp_utc.tz_convert('US/Eastern')"
      ],
      "metadata": {
        "id": "xJHP4Xzl2MHL",
        "colab": {
          "base_uri": "https://localhost:8080/"
        },
        "outputId": "81e6dd18-d36f-4249-a922-7ed583fd355d"
      },
      "execution_count": null,
      "outputs": [
        {
          "output_type": "execute_result",
          "data": {
            "text/plain": [
              "Timestamp('2011-03-11 23:00:00-0500', tz='US/Eastern')"
            ]
          },
          "metadata": {},
          "execution_count": 36
        }
      ]
    },
    {
      "cell_type": "code",
      "source": [
        "stamp_moscow = pd.Timestamp('2011-03-12 04:00', tz='Europe/Moscow')\n",
        "stamp_moscow"
      ],
      "metadata": {
        "colab": {
          "base_uri": "https://localhost:8080/"
        },
        "id": "WTAwfktiqKOQ",
        "outputId": "5172108d-ddc5-4234-e607-3e522e95263b"
      },
      "execution_count": null,
      "outputs": [
        {
          "output_type": "execute_result",
          "data": {
            "text/plain": [
              "Timestamp('2011-03-12 04:00:00+0300', tz='Europe/Moscow')"
            ]
          },
          "metadata": {},
          "execution_count": 37
        }
      ]
    },
    {
      "cell_type": "code",
      "source": [
        "stamp_utc.value"
      ],
      "metadata": {
        "colab": {
          "base_uri": "https://localhost:8080/"
        },
        "id": "ORPj9QnfqSGk",
        "outputId": "215f0e2b-738e-4ff7-8509-cd45b526401d"
      },
      "execution_count": null,
      "outputs": [
        {
          "output_type": "execute_result",
          "data": {
            "text/plain": [
              "1299902400000000000"
            ]
          },
          "metadata": {},
          "execution_count": 38
        }
      ]
    },
    {
      "cell_type": "code",
      "source": [
        "stamp_utc.tz_convert('US/Eastern').value"
      ],
      "metadata": {
        "colab": {
          "base_uri": "https://localhost:8080/"
        },
        "id": "5AogRnPRqfCT",
        "outputId": "e1e71347-d842-4d68-c554-8c40ee3be065"
      },
      "execution_count": null,
      "outputs": [
        {
          "output_type": "execute_result",
          "data": {
            "text/plain": [
              "1299902400000000000"
            ]
          },
          "metadata": {},
          "execution_count": 22
        }
      ]
    },
    {
      "cell_type": "code",
      "source": [
        "# 30 minutes before DST transition\n",
        "from pandas.tseries.offsets import Hour\n",
        "stamp = pd.Timestamp('2012-03-12 01:30', tz='US/Eastern')\n",
        "stamp\n",
        "stamp + Hour()"
      ],
      "metadata": {
        "colab": {
          "base_uri": "https://localhost:8080/"
        },
        "id": "788-83xGqg7E",
        "outputId": "0c1d3f7d-bea6-494c-bfec-faac36ad8690"
      },
      "execution_count": null,
      "outputs": [
        {
          "output_type": "execute_result",
          "data": {
            "text/plain": [
              "Timestamp('2012-03-12 02:30:00-0400', tz='US/Eastern')"
            ]
          },
          "metadata": {},
          "execution_count": 39
        }
      ]
    },
    {
      "cell_type": "code",
      "source": [
        "stamp = pd.Timestamp('2012-11-04 00:30', tz='US/Eastern')\n",
        "stamp"
      ],
      "metadata": {
        "colab": {
          "base_uri": "https://localhost:8080/"
        },
        "id": "qoASc4Zjql9P",
        "outputId": "98df0757-6590-48bd-b94c-6d81e5b84b02"
      },
      "execution_count": null,
      "outputs": [
        {
          "output_type": "execute_result",
          "data": {
            "text/plain": [
              "Timestamp('2012-11-04 00:30:00-0400', tz='US/Eastern')"
            ]
          },
          "metadata": {},
          "execution_count": 42
        }
      ]
    },
    {
      "cell_type": "code",
      "source": [
        "stamp + 2 * Hour()"
      ],
      "metadata": {
        "colab": {
          "base_uri": "https://localhost:8080/"
        },
        "id": "dVCQhXkJtBw5",
        "outputId": "b3afe44a-dba6-4fcc-af43-c204c2d0644e"
      },
      "execution_count": null,
      "outputs": [
        {
          "output_type": "execute_result",
          "data": {
            "text/plain": [
              "Timestamp('2012-11-04 01:30:00-0500', tz='US/Eastern')"
            ]
          },
          "metadata": {},
          "execution_count": 43
        }
      ]
    },
    {
      "cell_type": "markdown",
      "source": [
        "### Operations between Different Time Zones"
      ],
      "metadata": {
        "id": "NIpj1fS21G2e"
      }
    },
    {
      "cell_type": "code",
      "source": [
        "rng = pd.date_range('3/7/2012 9:30', periods=10, freq='B')\n",
        "ts = pd.Series(np.random.randn(len(rng)), index=rng)\n",
        "ts"
      ],
      "metadata": {
        "id": "JrNk4AM-2My7",
        "colab": {
          "base_uri": "https://localhost:8080/"
        },
        "outputId": "60253525-8693-496c-d96a-faa65882ac1a"
      },
      "execution_count": null,
      "outputs": [
        {
          "output_type": "execute_result",
          "data": {
            "text/plain": [
              "2012-03-07 09:30:00    0.092908\n",
              "2012-03-08 09:30:00    0.281746\n",
              "2012-03-09 09:30:00    0.769023\n",
              "2012-03-12 09:30:00    1.246435\n",
              "2012-03-13 09:30:00    1.007189\n",
              "2012-03-14 09:30:00   -1.296221\n",
              "2012-03-15 09:30:00    0.274992\n",
              "2012-03-16 09:30:00    0.228913\n",
              "2012-03-19 09:30:00    1.352917\n",
              "2012-03-20 09:30:00    0.886429\n",
              "Freq: B, dtype: float64"
            ]
          },
          "metadata": {},
          "execution_count": 44
        }
      ]
    },
    {
      "cell_type": "code",
      "source": [
        "ts1 = ts[:7].tz_localize('Europe/London')\n",
        "ts2 = ts1[2:].tz_convert('Europe/Moscow')\n",
        "result = ts1 + ts2\n",
        "result.index"
      ],
      "metadata": {
        "colab": {
          "base_uri": "https://localhost:8080/"
        },
        "id": "uAe2ToSYt8w5",
        "outputId": "58829db2-89e6-49b5-bf6e-74f2ab18350b"
      },
      "execution_count": null,
      "outputs": [
        {
          "output_type": "execute_result",
          "data": {
            "text/plain": [
              "DatetimeIndex(['2012-03-07 09:30:00+00:00', '2012-03-08 09:30:00+00:00',\n",
              "               '2012-03-09 09:30:00+00:00', '2012-03-12 09:30:00+00:00',\n",
              "               '2012-03-13 09:30:00+00:00', '2012-03-14 09:30:00+00:00',\n",
              "               '2012-03-15 09:30:00+00:00'],\n",
              "              dtype='datetime64[ns, UTC]', freq=None)"
            ]
          },
          "metadata": {},
          "execution_count": 45
        }
      ]
    },
    {
      "cell_type": "markdown",
      "source": [
        "## Periods and Period Arithmetic"
      ],
      "metadata": {
        "id": "hZhEYh4-1J57"
      }
    },
    {
      "cell_type": "markdown",
      "source": [
        "Khoảng thời gian biểu thị thời gian như ngày, tháng, quý hoặc năm. Lớp Period\n",
        "cần được truyền vào 1 chuỗi hoặc số nguyên và tham số freq"
      ],
      "metadata": {
        "id": "jI13_6XS55-r"
      }
    },
    {
      "cell_type": "code",
      "source": [
        "from datetime import datetime\n",
        "import pandas as pd\n",
        "import numpy as np\n",
        "from pandas import Series\n",
        "p = pd.Period('2007', freq='A-DEC')\n",
        "p\n"
      ],
      "metadata": {
        "colab": {
          "base_uri": "https://localhost:8080/"
        },
        "id": "_AMUioQj53r9",
        "outputId": "46382230-fa3f-4ad4-820d-e1a4dd3a8c09"
      },
      "execution_count": null,
      "outputs": [
        {
          "output_type": "execute_result",
          "data": {
            "text/plain": [
              "Period('2007', 'A-DEC')"
            ]
          },
          "metadata": {},
          "execution_count": 10
        }
      ]
    },
    {
      "cell_type": "markdown",
      "source": [
        "Trong trường hợp này, đối tượng Period biểu diễn toàn bộ khoảng thời gian từ 1/1/2007 đến 31/12/2007. Và cái việc này nó rất là tiện lợi cho việc cộng trừ số nguyên từ các period có tác dụng dịch chuyển theo tần số của chúng."
      ],
      "metadata": {
        "id": "Z0XtiVS26r8N"
      }
    },
    {
      "cell_type": "code",
      "source": [
        "p + 5 "
      ],
      "metadata": {
        "colab": {
          "base_uri": "https://localhost:8080/"
        },
        "id": "ckMOqB4i6t7t",
        "outputId": "2067d817-3156-4ef4-8862-65d785395ea4"
      },
      "execution_count": null,
      "outputs": [
        {
          "output_type": "execute_result",
          "data": {
            "text/plain": [
              "Period('2012', 'A-DEC')"
            ]
          },
          "metadata": {},
          "execution_count": 11
        }
      ]
    },
    {
      "cell_type": "code",
      "source": [
        "p - 2"
      ],
      "metadata": {
        "colab": {
          "base_uri": "https://localhost:8080/"
        },
        "id": "eghM3g1P6zFd",
        "outputId": "21334f6f-f111-47f4-f9db-45fc6f35c8d2"
      },
      "execution_count": null,
      "outputs": [
        {
          "output_type": "execute_result",
          "data": {
            "text/plain": [
              "Period('2005', 'A-DEC')"
            ]
          },
          "metadata": {},
          "execution_count": 12
        }
      ]
    },
    {
      "cell_type": "markdown",
      "source": [
        "Nếu hai chu kỳ có cùng tần số, sự khác nhau giữa chúng là số những đơn vị giữa chúng:"
      ],
      "metadata": {
        "id": "VlOrDe3s62sZ"
      }
    },
    {
      "cell_type": "code",
      "source": [
        "pd.Period('2014', freq='A-DEC') - p"
      ],
      "metadata": {
        "colab": {
          "base_uri": "https://localhost:8080/"
        },
        "id": "jt8S10Gl63en",
        "outputId": "8f4d8ec9-ef7e-4119-d303-d2066cac208b"
      },
      "execution_count": null,
      "outputs": [
        {
          "output_type": "execute_result",
          "data": {
            "text/plain": [
              "<7 * YearEnds: month=12>"
            ]
          },
          "metadata": {},
          "execution_count": 13
        }
      ]
    },
    {
      "cell_type": "markdown",
      "source": [
        "Phạm vi chu kỳ thông thường có thể được tạo bằng cách sử dụng hàm period\\_range:"
      ],
      "metadata": {
        "id": "nlU39YD966is"
      }
    },
    {
      "cell_type": "code",
      "source": [
        "rng = pd.period_range('1/1/2000', '6/30/2000', freq='M')\n",
        "rng"
      ],
      "metadata": {
        "colab": {
          "base_uri": "https://localhost:8080/"
        },
        "id": "QLUvtF8e68Yq",
        "outputId": "cd1dbe95-8a5e-4424-9bbd-e9d45b37e38f"
      },
      "execution_count": null,
      "outputs": [
        {
          "output_type": "execute_result",
          "data": {
            "text/plain": [
              "PeriodIndex(['2000-01', '2000-02', '2000-03', '2000-04', '2000-05', '2000-06'], dtype='period[M]')"
            ]
          },
          "metadata": {},
          "execution_count": 14
        }
      ]
    },
    {
      "cell_type": "markdown",
      "source": [
        "Lớp PeriodIndex lưu trữ một chuỗi các khoảng thời gian và có thể phục vụ như chỉ số trục trong bất kỳ cấu trúc dữ liệu Pandas nào:"
      ],
      "metadata": {
        "id": "IsWYskLw6_rv"
      }
    },
    {
      "cell_type": "code",
      "source": [
        "Series(np.random.randn(6), index=rng)"
      ],
      "metadata": {
        "colab": {
          "base_uri": "https://localhost:8080/"
        },
        "id": "UZ6tCkRV7DwV",
        "outputId": "2bee824b-4eab-4cad-b691-0ac94309ac5a"
      },
      "execution_count": null,
      "outputs": [
        {
          "output_type": "execute_result",
          "data": {
            "text/plain": [
              "2000-01    0.454847\n",
              "2000-02    1.150544\n",
              "2000-03    0.909919\n",
              "2000-04   -0.140636\n",
              "2000-05    0.108048\n",
              "2000-06   -0.200459\n",
              "Freq: M, dtype: float64"
            ]
          },
          "metadata": {},
          "execution_count": 15
        }
      ]
    },
    {
      "cell_type": "markdown",
      "source": [
        "Nếu bạn có một mảng các chuỗi, bạn cũng có thể kháng nghị chính lớp PeriodIndex:"
      ],
      "metadata": {
        "id": "TyobxV507M2r"
      }
    },
    {
      "cell_type": "code",
      "source": [
        "values = ['2001Q3', '2002Q2', '2003Q1']\n",
        "index = pd.PeriodIndex(values, freq='Q-DEC')\n",
        "index"
      ],
      "metadata": {
        "colab": {
          "base_uri": "https://localhost:8080/"
        },
        "id": "62KuQdS37PTJ",
        "outputId": "e05f38a8-25aa-4ffd-88f3-c8f7dd2a03a6"
      },
      "execution_count": null,
      "outputs": [
        {
          "output_type": "execute_result",
          "data": {
            "text/plain": [
              "PeriodIndex(['2001Q3', '2002Q2', '2003Q1'], dtype='period[Q-DEC]')"
            ]
          },
          "metadata": {},
          "execution_count": 16
        }
      ]
    },
    {
      "cell_type": "markdown",
      "source": [
        "### Period Frequency Conversion"
      ],
      "metadata": {
        "id": "pSSmlQUT1N55"
      }
    },
    {
      "cell_type": "markdown",
      "source": [
        "Các đối tượng Chu kỳ có thể được chuyển đổi sang tần số khác bằng cách sử dụng phương thức asfreq. Ví dụ: giả sử chúng tôi có một khoảng thời gian hàng năm và muốn chuyển đổi nó vào một khoảng thời gian hàng tháng vào đầu hoặc cuối năm. Đây là phường khá đơn giản:"
      ],
      "metadata": {
        "id": "b6yCO2kq7Y3_"
      }
    },
    {
      "cell_type": "code",
      "source": [
        "p=pd.Period('2007', freq='A-DEC')\n",
        "p.asfreq('M', how='start')"
      ],
      "metadata": {
        "id": "wO3YyjJy2N6K",
        "colab": {
          "base_uri": "https://localhost:8080/"
        },
        "outputId": "620154b8-f8b3-467d-cd49-ea6eabe1deb7"
      },
      "execution_count": null,
      "outputs": [
        {
          "output_type": "execute_result",
          "data": {
            "text/plain": [
              "Period('2007-01', 'M')"
            ]
          },
          "metadata": {},
          "execution_count": 17
        }
      ]
    },
    {
      "cell_type": "code",
      "source": [
        "p=pd.Period('2007', freq='A-DEC')\n",
        "p.asfreq('M', how='end')"
      ],
      "metadata": {
        "colab": {
          "base_uri": "https://localhost:8080/"
        },
        "id": "R2Csd9BI7fTK",
        "outputId": "7181fd3b-c150-4047-ec0e-23abe10def0f"
      },
      "execution_count": null,
      "outputs": [
        {
          "output_type": "execute_result",
          "data": {
            "text/plain": [
              "Period('2007-12', 'M')"
            ]
          },
          "metadata": {},
          "execution_count": 19
        }
      ]
    },
    {
      "cell_type": "markdown",
      "source": [
        "Ta có thể thấy Period('2007', 'A-DEC') là một con trỏ trỏ đến khoảng thời gian\n",
        "được chia nhỏ cho hằng tháng. Đối với những năm kết thúc vào tháng mà không phải\n",
        "tháng 12, các kỳ , giai đoạn của tháng khác nhau:"
      ],
      "metadata": {
        "id": "-zS7_y1j7iNm"
      }
    },
    {
      "cell_type": "code",
      "source": [
        "p = pd.Period('2007', freq='A-JUN')\n",
        "p.asfreq('M', 'start')"
      ],
      "metadata": {
        "colab": {
          "base_uri": "https://localhost:8080/"
        },
        "id": "w0Z9Cocj7jEj",
        "outputId": "1682b57c-9027-4d90-858d-9ac48fb6a638"
      },
      "execution_count": null,
      "outputs": [
        {
          "output_type": "execute_result",
          "data": {
            "text/plain": [
              "Period('2006-07', 'M')"
            ]
          },
          "metadata": {},
          "execution_count": 20
        }
      ]
    },
    {
      "cell_type": "code",
      "source": [
        "p = pd.Period('2007', freq='A-JUN')\n",
        "p.asfreq('M', 'end')"
      ],
      "metadata": {
        "colab": {
          "base_uri": "https://localhost:8080/"
        },
        "id": "YW2DEG677rsz",
        "outputId": "e7c3b023-19b6-40c7-cc49-0bec423a93c0"
      },
      "execution_count": null,
      "outputs": [
        {
          "output_type": "execute_result",
          "data": {
            "text/plain": [
              "Period('2007-06', 'M')"
            ]
          },
          "metadata": {},
          "execution_count": 21
        }
      ]
    },
    {
      "cell_type": "markdown",
      "source": [
        "Khi chuyển đổi từ tần số cao sang thấp, siêu chu kỳ sẽ được xác định tại nơi\n",
        "thuộc về các chu kỳ con. Ví dụ, vào chu kỳ A-JUN tháng 8 năm 2007 thực chất\n",
        "là một phần của năm 2008:"
      ],
      "metadata": {
        "id": "Ftx75bld7uZL"
      }
    },
    {
      "cell_type": "code",
      "source": [
        "p = pd.Period('2007-08', 'M')\n",
        "p.asfreq('A-JUN')"
      ],
      "metadata": {
        "colab": {
          "base_uri": "https://localhost:8080/"
        },
        "id": "kHSbPi-771r3",
        "outputId": "4d381a35-d27d-4d31-86e8-4c1e8b4e6290"
      },
      "execution_count": null,
      "outputs": [
        {
          "output_type": "execute_result",
          "data": {
            "text/plain": [
              "Period('2008', 'A-JUN')"
            ]
          },
          "metadata": {},
          "execution_count": 22
        }
      ]
    },
    {
      "cell_type": "markdown",
      "source": [
        "Toàn bộ các đối tượng PeriodIndex hay TimeSeries có thể chuyển đổi cùng một\n",
        "cách:"
      ],
      "metadata": {
        "id": "aAOeS73D75o0"
      }
    },
    {
      "cell_type": "code",
      "source": [
        "rng = pd.period_range('2006', '2009', freq='A-DEC')\n",
        "ts = Series(np.random.randn(len(rng)), index=rng)\n",
        "ts"
      ],
      "metadata": {
        "colab": {
          "base_uri": "https://localhost:8080/"
        },
        "id": "XQD3pFSc77M_",
        "outputId": "49754bfb-0911-4395-c464-48de2db04e1d"
      },
      "execution_count": null,
      "outputs": [
        {
          "output_type": "execute_result",
          "data": {
            "text/plain": [
              "2006   -1.189589\n",
              "2007   -0.823102\n",
              "2008   -0.533945\n",
              "2009   -1.380744\n",
              "Freq: A-DEC, dtype: float64"
            ]
          },
          "metadata": {},
          "execution_count": 23
        }
      ]
    },
    {
      "cell_type": "code",
      "source": [
        "ts.asfreq('M', how='start')"
      ],
      "metadata": {
        "colab": {
          "base_uri": "https://localhost:8080/"
        },
        "id": "FaWk0Gq98ABF",
        "outputId": "a602cd74-652e-4b01-ecef-d8a33d09deef"
      },
      "execution_count": null,
      "outputs": [
        {
          "output_type": "execute_result",
          "data": {
            "text/plain": [
              "2006-01   -1.189589\n",
              "2007-01   -0.823102\n",
              "2008-01   -0.533945\n",
              "2009-01   -1.380744\n",
              "Freq: M, dtype: float64"
            ]
          },
          "metadata": {},
          "execution_count": 24
        }
      ]
    },
    {
      "cell_type": "code",
      "source": [
        "ts.asfreq('B', how='end')"
      ],
      "metadata": {
        "colab": {
          "base_uri": "https://localhost:8080/"
        },
        "id": "mANLo_az8CQI",
        "outputId": "f8b2c3bc-df76-4637-e274-2d63f4c9eb3c"
      },
      "execution_count": null,
      "outputs": [
        {
          "output_type": "execute_result",
          "data": {
            "text/plain": [
              "2006-12-29   -1.189589\n",
              "2007-12-31   -0.823102\n",
              "2008-12-31   -0.533945\n",
              "2009-12-31   -1.380744\n",
              "Freq: B, dtype: float64"
            ]
          },
          "metadata": {},
          "execution_count": 25
        }
      ]
    },
    {
      "cell_type": "markdown",
      "source": [
        "### Quarterly Period Frequencies"
      ],
      "metadata": {
        "id": "gwUKy9I91RNE"
      }
    },
    {
      "cell_type": "markdown",
      "source": [
        "Dữ liệu hàng quý là tiêu chuẩn trong kế toán, tài chính và các lĩnh vực khác. Nhiều dữ liệu hàng quý được báo cáo liên quan đến ngày kết thúc năm tài chính, thường là ngày dương lịch hoặc ngày làm việc cuối cùng của một của 12 tháng trong năm. Như vậy, giai đoạn 2012 Q4 có một ý nghĩa khác khi chờ kết thúc năm tài chính. Pandas hỗ trợ tất cả 12 tần suất hàng quý có thể có từ Q JAN đến Q-DEC:"
      ],
      "metadata": {
        "id": "893YXiCg8JdP"
      }
    },
    {
      "cell_type": "code",
      "source": [
        "p = pd.Period('2012Q4', freq='Q-JAN')"
      ],
      "metadata": {
        "id": "Vr5IXpfT2OdC"
      },
      "execution_count": null,
      "outputs": []
    },
    {
      "cell_type": "markdown",
      "source": [
        "Trong trường hợp năm tài chính kết thúc vào tháng 1, quý 4 năm 2012 kéo dài từ tháng 11 đến tháng 1, bạn có thể kiểm tra quý này bằng cách chuyển đổi sang tần suất hàng ngày. Xem Hình 10-2 để biết\n",
        "hình minh họa:"
      ],
      "metadata": {
        "id": "5uGgoSXU8OgG"
      }
    },
    {
      "cell_type": "code",
      "source": [
        "p.asfreq('D', 'start')"
      ],
      "metadata": {
        "colab": {
          "base_uri": "https://localhost:8080/"
        },
        "id": "3Rb4Vxka8RIj",
        "outputId": "5fb94eff-bf1f-4440-e1d9-d9d2435cf877"
      },
      "execution_count": null,
      "outputs": [
        {
          "output_type": "execute_result",
          "data": {
            "text/plain": [
              "Period('2011-11-01', 'D')"
            ]
          },
          "metadata": {},
          "execution_count": 28
        }
      ]
    },
    {
      "cell_type": "code",
      "source": [
        "p.asfreq('D', 'end')"
      ],
      "metadata": {
        "colab": {
          "base_uri": "https://localhost:8080/"
        },
        "id": "rvkeiX-O8UGt",
        "outputId": "818b8010-6770-476e-adee-1bab5003dbc9"
      },
      "execution_count": null,
      "outputs": [
        {
          "output_type": "execute_result",
          "data": {
            "text/plain": [
              "Period('2012-01-31', 'D')"
            ]
          },
          "metadata": {},
          "execution_count": 29
        }
      ]
    },
    {
      "cell_type": "markdown",
      "source": [
        "Do đó, có thể thực hiện phép tính thời gian rất dễ dàng; ví dụ: để lấy dấu thời gian\n",
        "lúc 4 giờ chiều ngày làm việc thứ 2 đến ngày làm việc cuối cùng của quý, bạn có thể thực hiện:"
      ],
      "metadata": {
        "id": "X_9x5K8Y8WRw"
      }
    },
    {
      "cell_type": "code",
      "source": [
        "p4pm = (p.asfreq('B', 'e') - 1).asfreq('T', 's') + 16 * 60\n",
        "p4pm"
      ],
      "metadata": {
        "colab": {
          "base_uri": "https://localhost:8080/"
        },
        "id": "nr6L8Xmz8Y7G",
        "outputId": "483e1aa5-76c3-41e0-93f9-dcd2e8b90d99"
      },
      "execution_count": null,
      "outputs": [
        {
          "output_type": "execute_result",
          "data": {
            "text/plain": [
              "Period('2012-01-30 16:00', 'T')"
            ]
          },
          "metadata": {},
          "execution_count": 30
        }
      ]
    },
    {
      "cell_type": "code",
      "source": [
        "p4pm.to_timestamp()"
      ],
      "metadata": {
        "colab": {
          "base_uri": "https://localhost:8080/"
        },
        "id": "PztbvAwA8bnk",
        "outputId": "6ee6ace6-39a0-434e-c06b-c005766b3505"
      },
      "execution_count": null,
      "outputs": [
        {
          "output_type": "execute_result",
          "data": {
            "text/plain": [
              "Timestamp('2012-01-30 16:00:00')"
            ]
          },
          "metadata": {},
          "execution_count": 31
        }
      ]
    },
    {
      "cell_type": "markdown",
      "source": [
        "Tạo phạm vi hàng quý hoạt động như bạn mong đợi bằng cách sử dụng period_range."
      ],
      "metadata": {
        "id": "pob5sHyQ8f79"
      }
    },
    {
      "cell_type": "code",
      "source": [
        "rng = pd.period_range('2011Q3', '2012Q4', freq='Q-JAN')\n",
        "ts = Series(np.arange(len(rng)), index=rng)\n",
        "ts"
      ],
      "metadata": {
        "colab": {
          "base_uri": "https://localhost:8080/"
        },
        "id": "r9tZZhki8kSS",
        "outputId": "6abe30f2-e4ab-496c-d7f4-763a077e8a7f"
      },
      "execution_count": null,
      "outputs": [
        {
          "output_type": "execute_result",
          "data": {
            "text/plain": [
              "2011Q3    0\n",
              "2011Q4    1\n",
              "2012Q1    2\n",
              "2012Q2    3\n",
              "2012Q3    4\n",
              "2012Q4    5\n",
              "Freq: Q-JAN, dtype: int64"
            ]
          },
          "metadata": {},
          "execution_count": 32
        }
      ]
    },
    {
      "cell_type": "code",
      "source": [
        "new_rng = (rng.asfreq('B', 'e') - 1).asfreq('T', 's') + 16 * 60\n",
        "ts.index = new_rng.to_timestamp()\n",
        "ts"
      ],
      "metadata": {
        "colab": {
          "base_uri": "https://localhost:8080/"
        },
        "id": "6ZSntHeT8pah",
        "outputId": "b40c96db-b802-4331-b608-1cfa6890cc64"
      },
      "execution_count": null,
      "outputs": [
        {
          "output_type": "execute_result",
          "data": {
            "text/plain": [
              "2010-10-28 16:00:00    0\n",
              "2011-01-28 16:00:00    1\n",
              "2011-04-28 16:00:00    2\n",
              "2011-07-28 16:00:00    3\n",
              "2011-10-28 16:00:00    4\n",
              "2012-01-30 16:00:00    5\n",
              "dtype: int64"
            ]
          },
          "metadata": {},
          "execution_count": 33
        }
      ]
    },
    {
      "cell_type": "markdown",
      "source": [
        "### Converting Timestamps to Periods (and Back)"
      ],
      "metadata": {
        "id": "4AeLBPW51TDM"
      }
    },
    {
      "cell_type": "markdown",
      "source": [
        "Các đối tượng Series và DataFrame được lập chỉ mục theo dấu thời gian có thể được chuyển đổi thành các khoảng thời gian bằng cách sử dụng\n",
        "phương thức to_period:"
      ],
      "metadata": {
        "id": "cm4cnTAP893S"
      }
    },
    {
      "cell_type": "code",
      "source": [
        "rng = pd.date_range('1/1/2000', periods=3, freq='M')\n",
        "ts = Series(np.random.randn(3), index=rng)\n",
        "ts = ts.to_period()\n",
        "ts"
      ],
      "metadata": {
        "id": "jS9LMla22PWz",
        "colab": {
          "base_uri": "https://localhost:8080/"
        },
        "outputId": "118cd6bd-7209-40a6-ce2c-0f462104b470"
      },
      "execution_count": null,
      "outputs": [
        {
          "output_type": "execute_result",
          "data": {
            "text/plain": [
              "2000-01    1.245465\n",
              "2000-02    1.081972\n",
              "2000-03   -0.857148\n",
              "Freq: M, dtype: float64"
            ]
          },
          "metadata": {},
          "execution_count": 46
        }
      ]
    },
    {
      "cell_type": "code",
      "source": [
        "rng = pd.date_range('1/1/2000', periods=3, freq='M')\n",
        "ts = Series(np.random.randn(3), index=rng)\n",
        "pts = ts.to_period()\n",
        "pts"
      ],
      "metadata": {
        "id": "V11hxPlQ9GWh",
        "colab": {
          "base_uri": "https://localhost:8080/"
        },
        "outputId": "a966580c-bb92-464f-daa3-d992c44d25b8"
      },
      "execution_count": null,
      "outputs": [
        {
          "output_type": "execute_result",
          "data": {
            "text/plain": [
              "2000-01   -0.199838\n",
              "2000-02   -0.424852\n",
              "2000-03    0.362526\n",
              "Freq: M, dtype: float64"
            ]
          },
          "metadata": {},
          "execution_count": 54
        }
      ]
    },
    {
      "cell_type": "markdown",
      "source": [
        "Vì các khoảng thời gian luôn đề cập đến các khoảng thời gian không chồng chéo nên dấu thời gian chỉ có thể thuộc về đến một khoảng thời gian duy nhất cho một tần số nhất định. Trong khi tần suất của PeriodIndex mới là được suy ra từ dấu thời gian theo mặc định, bạn có thể chỉ định bất kỳ tần suất nào bạn muốn. Ở đó cũng không có vấn đề gì với việc có các khoảng thời gian trùng lặp trong kết quả:"
      ],
      "metadata": {
        "id": "icosBbX39JeY"
      }
    },
    {
      "cell_type": "code",
      "source": [
        "rng = pd.date_range('1/29/2000', periods=6, freq='D')\n",
        "ts2 = Series(np.random.randn(6), index=rng)\n",
        "ts2.to_period('M')"
      ],
      "metadata": {
        "id": "lEEjQJ9g9L6N",
        "colab": {
          "base_uri": "https://localhost:8080/"
        },
        "outputId": "78d35240-5dbe-46c9-8511-6f17a80bab58"
      },
      "execution_count": null,
      "outputs": [
        {
          "output_type": "execute_result",
          "data": {
            "text/plain": [
              "2000-01    1.593847\n",
              "2000-01   -0.069318\n",
              "2000-01   -0.920600\n",
              "2000-02    0.866297\n",
              "2000-02    0.954191\n",
              "2000-02   -0.786367\n",
              "Freq: M, dtype: float64"
            ]
          },
          "metadata": {},
          "execution_count": 55
        }
      ]
    },
    {
      "cell_type": "markdown",
      "source": [
        "Để chuyển đổi ngược lại, ta dùng hàm to_timestamp:"
      ],
      "metadata": {
        "id": "DFVkuZ7E9Pon"
      }
    },
    {
      "cell_type": "code",
      "source": [
        "pts = ts.to_period()\n",
        "pts"
      ],
      "metadata": {
        "colab": {
          "base_uri": "https://localhost:8080/"
        },
        "id": "uA--DqeO9UrP",
        "outputId": "a9817171-2803-425a-e4a9-00994b0305a2"
      },
      "execution_count": null,
      "outputs": [
        {
          "output_type": "execute_result",
          "data": {
            "text/plain": [
              "2000-01   -0.199838\n",
              "2000-02   -0.424852\n",
              "2000-03    0.362526\n",
              "Freq: M, dtype: float64"
            ]
          },
          "metadata": {},
          "execution_count": 56
        }
      ]
    },
    {
      "cell_type": "code",
      "source": [
        "pts.to_timestamp(how='end')\n"
      ],
      "metadata": {
        "colab": {
          "base_uri": "https://localhost:8080/"
        },
        "id": "WjD3TSH49cn-",
        "outputId": "14cf2b0b-9f02-44a9-a395-b7c8af0424a6"
      },
      "execution_count": null,
      "outputs": [
        {
          "output_type": "execute_result",
          "data": {
            "text/plain": [
              "2000-01-31 23:59:59.999999999   -0.199838\n",
              "2000-02-29 23:59:59.999999999   -0.424852\n",
              "2000-03-31 23:59:59.999999999    0.362526\n",
              "dtype: float64"
            ]
          },
          "metadata": {},
          "execution_count": 57
        }
      ]
    },
    {
      "cell_type": "markdown",
      "source": [
        "### Creating a PeriodIndex from Arrays"
      ],
      "metadata": {
        "id": "SLeiQRDT1Vhv"
      }
    },
    {
      "cell_type": "markdown",
      "source": [
        "Các bộ dữ liệu tần số cố định đôi khi được lưu trữ với thông tin về khoảng thời gian\n",
        "trên nhiều cột. Ví dụ: trong bộ dữ liệu kinh tế vĩ mô này, năm và quý nằm trong các cột khác nhau:"
      ],
      "metadata": {
        "id": "CMZM-t5m9gar"
      }
    },
    {
      "cell_type": "code",
      "source": [
        "url = 'https://raw.githubusercontent.com/wesm/pydata-book/3rd-edition/examples/macrodata.csv'\n",
        "data = pd.read_csv(url)\n",
        "data.year"
      ],
      "metadata": {
        "id": "ATXUQ4Si2P9Y",
        "colab": {
          "base_uri": "https://localhost:8080/"
        },
        "outputId": "98369f20-b823-483c-d670-063abf85e01b"
      },
      "execution_count": null,
      "outputs": [
        {
          "output_type": "execute_result",
          "data": {
            "text/plain": [
              "0      1959\n",
              "1      1959\n",
              "2      1959\n",
              "3      1959\n",
              "4      1960\n",
              "       ... \n",
              "198    2008\n",
              "199    2008\n",
              "200    2009\n",
              "201    2009\n",
              "202    2009\n",
              "Name: year, Length: 203, dtype: int64"
            ]
          },
          "metadata": {},
          "execution_count": 74
        }
      ]
    },
    {
      "cell_type": "code",
      "source": [
        "\n",
        "data = pd.read_csv(url)\n",
        "data.quarter"
      ],
      "metadata": {
        "colab": {
          "base_uri": "https://localhost:8080/"
        },
        "id": "CuScxyHW9nmL",
        "outputId": "baa510ad-16f0-4eed-becc-f0376d63ab8a"
      },
      "execution_count": null,
      "outputs": [
        {
          "output_type": "execute_result",
          "data": {
            "text/plain": [
              "0      1\n",
              "1      2\n",
              "2      3\n",
              "3      4\n",
              "4      1\n",
              "      ..\n",
              "198    3\n",
              "199    4\n",
              "200    1\n",
              "201    2\n",
              "202    3\n",
              "Name: quarter, Length: 203, dtype: int64"
            ]
          },
          "metadata": {},
          "execution_count": 75
        }
      ]
    },
    {
      "cell_type": "markdown",
      "source": [
        "Bằng cách chuyển các mảng này tới Period với tần suất, chúng có thể được kết hợp để tạo thành\n",
        "một chỉ mục cho DataFrame:"
      ],
      "metadata": {
        "id": "Rswvq95B9tpg"
      }
    },
    {
      "cell_type": "code",
      "source": [
        " index = pd.PeriodIndex(year=data.year, quarter=data.quarter, freq='Q-DEC')\n",
        " index"
      ],
      "metadata": {
        "id": "rATa-Y749wjf",
        "colab": {
          "base_uri": "https://localhost:8080/"
        },
        "outputId": "82eb1346-05c1-43d9-94da-d356381d6df1"
      },
      "execution_count": null,
      "outputs": [
        {
          "output_type": "execute_result",
          "data": {
            "text/plain": [
              "PeriodIndex(['1959Q1', '1959Q2', '1959Q3', '1959Q4', '1960Q1', '1960Q2',\n",
              "             '1960Q3', '1960Q4', '1961Q1', '1961Q2',\n",
              "             ...\n",
              "             '2007Q2', '2007Q3', '2007Q4', '2008Q1', '2008Q2', '2008Q3',\n",
              "             '2008Q4', '2009Q1', '2009Q2', '2009Q3'],\n",
              "            dtype='period[Q-DEC]', length=203)"
            ]
          },
          "metadata": {},
          "execution_count": 76
        }
      ]
    },
    {
      "cell_type": "code",
      "source": [
        "data.index = index\n",
        "data.infl"
      ],
      "metadata": {
        "id": "4YnKvVG29zrj",
        "colab": {
          "base_uri": "https://localhost:8080/"
        },
        "outputId": "a018319e-0032-410a-8e10-ede6288a387b"
      },
      "execution_count": null,
      "outputs": [
        {
          "output_type": "execute_result",
          "data": {
            "text/plain": [
              "1959Q1    0.00\n",
              "1959Q2    2.34\n",
              "1959Q3    2.74\n",
              "1959Q4    0.27\n",
              "1960Q1    2.31\n",
              "          ... \n",
              "2008Q3   -3.16\n",
              "2008Q4   -8.79\n",
              "2009Q1    0.94\n",
              "2009Q2    3.37\n",
              "2009Q3    3.56\n",
              "Freq: Q-DEC, Name: infl, Length: 203, dtype: float64"
            ]
          },
          "metadata": {},
          "execution_count": 77
        }
      ]
    },
    {
      "cell_type": "markdown",
      "source": [
        "## Resampling and Frequency Conversion"
      ],
      "metadata": {
        "id": "XEJJ44Zk1Xt1"
      }
    },
    {
      "cell_type": "markdown",
      "source": [
        "Lấy mẫu lại đề cập đến quá trình chuyển đổi một chuỗi thời gian từ tần số này sang tần số khác:\n",
        "+ **Downsampling**: Giảm tần suất lấy mẫu bằng cách tăng thời gian lấy\n",
        "mẫu từ vài phút đến vài giờ.\n",
        "+ **Upsampling**: Tăng tần suất lấy mẫu bằng cách giảm thời gian lấy mẫu từ\n",
        "vài giờ xuống vài phút."
      ],
      "metadata": {
        "id": "d9CVi5lcA8Dt"
      }
    },
    {
      "cell_type": "markdown",
      "source": [
        "\n",
        "**Cú pháp:**\n",
        "\n",
        "```\n",
        "\n",
        "Series.resample(self, rule, how=None, axis=0, fill_method=None, closed=None,\n",
        " label=None convention='start', kind=None, loffset=None, limit=None, base=0, on=None, level=None)\n",
        "\n",
        "```\n",
        "\n"
      ],
      "metadata": {
        "id": "qEClXoCRFo2w"
      }
    },
    {
      "cell_type": "code",
      "source": [
        "rng = pd.date_range('1/1/2000', periods=100, freq='D')\n",
        "ts = pd.Series(randn(len(rng)), index=rng)\n",
        "ts.resample('M', how='mean')\n"
      ],
      "metadata": {
        "id": "9OXYv-5d2QVx",
        "colab": {
          "base_uri": "https://localhost:8080/",
          "height": 200
        },
        "outputId": "611f43fb-6baa-40a7-8e03-91ebc1386cca"
      },
      "execution_count": null,
      "outputs": [
        {
          "output_type": "error",
          "ename": "NameError",
          "evalue": "ignored",
          "traceback": [
            "\u001b[0;31m---------------------------------------------------------------------------\u001b[0m",
            "\u001b[0;31mNameError\u001b[0m                                 Traceback (most recent call last)",
            "\u001b[0;32m<ipython-input-3-62c6d9c7a9e9>\u001b[0m in \u001b[0;36m<module>\u001b[0;34m\u001b[0m\n\u001b[1;32m      1\u001b[0m \u001b[0mrng\u001b[0m \u001b[0;34m=\u001b[0m \u001b[0mpd\u001b[0m\u001b[0;34m.\u001b[0m\u001b[0mdate_range\u001b[0m\u001b[0;34m(\u001b[0m\u001b[0;34m'1/1/2000'\u001b[0m\u001b[0;34m,\u001b[0m \u001b[0mperiods\u001b[0m\u001b[0;34m=\u001b[0m\u001b[0;36m100\u001b[0m\u001b[0;34m,\u001b[0m \u001b[0mfreq\u001b[0m\u001b[0;34m=\u001b[0m\u001b[0;34m'D'\u001b[0m\u001b[0;34m)\u001b[0m\u001b[0;34m\u001b[0m\u001b[0;34m\u001b[0m\u001b[0m\n\u001b[0;32m----> 2\u001b[0;31m \u001b[0mts\u001b[0m \u001b[0;34m=\u001b[0m \u001b[0mpd\u001b[0m\u001b[0;34m.\u001b[0m\u001b[0mSeries\u001b[0m\u001b[0;34m(\u001b[0m\u001b[0mrandn\u001b[0m\u001b[0;34m(\u001b[0m\u001b[0mlen\u001b[0m\u001b[0;34m(\u001b[0m\u001b[0mrng\u001b[0m\u001b[0;34m)\u001b[0m\u001b[0;34m)\u001b[0m\u001b[0;34m,\u001b[0m \u001b[0mindex\u001b[0m\u001b[0;34m=\u001b[0m\u001b[0mrng\u001b[0m\u001b[0;34m)\u001b[0m\u001b[0;34m\u001b[0m\u001b[0;34m\u001b[0m\u001b[0m\n\u001b[0m\u001b[1;32m      3\u001b[0m \u001b[0mts\u001b[0m\u001b[0;34m.\u001b[0m\u001b[0mresample\u001b[0m\u001b[0;34m(\u001b[0m\u001b[0;34m'M'\u001b[0m\u001b[0;34m,\u001b[0m \u001b[0mhow\u001b[0m\u001b[0;34m=\u001b[0m\u001b[0;34m'mean'\u001b[0m\u001b[0;34m)\u001b[0m\u001b[0;34m\u001b[0m\u001b[0;34m\u001b[0m\u001b[0m\n",
            "\u001b[0;31mNameError\u001b[0m: name 'randn' is not defined"
          ]
        }
      ]
    },
    {
      "cell_type": "code",
      "source": [
        "ts.resample('M', how='mean', kind='period')"
      ],
      "metadata": {
        "id": "K7i_d2lF9QEM",
        "colab": {
          "base_uri": "https://localhost:8080/",
          "height": 166
        },
        "outputId": "d20626a3-51af-473a-8135-e2c99849e3e6"
      },
      "execution_count": null,
      "outputs": [
        {
          "output_type": "error",
          "ename": "NameError",
          "evalue": "ignored",
          "traceback": [
            "\u001b[0;31m---------------------------------------------------------------------------\u001b[0m",
            "\u001b[0;31mNameError\u001b[0m                                 Traceback (most recent call last)",
            "\u001b[0;32m<ipython-input-4-6715ef4eaef7>\u001b[0m in \u001b[0;36m<module>\u001b[0;34m\u001b[0m\n\u001b[0;32m----> 1\u001b[0;31m \u001b[0mts\u001b[0m\u001b[0;34m.\u001b[0m\u001b[0mresample\u001b[0m\u001b[0;34m(\u001b[0m\u001b[0;34m'M'\u001b[0m\u001b[0;34m,\u001b[0m \u001b[0mhow\u001b[0m\u001b[0;34m=\u001b[0m\u001b[0;34m'mean'\u001b[0m\u001b[0;34m,\u001b[0m \u001b[0mkind\u001b[0m\u001b[0;34m=\u001b[0m\u001b[0;34m'period'\u001b[0m\u001b[0;34m)\u001b[0m\u001b[0;34m\u001b[0m\u001b[0;34m\u001b[0m\u001b[0m\n\u001b[0m",
            "\u001b[0;31mNameError\u001b[0m: name 'ts' is not defined"
          ]
        }
      ]
    },
    {
      "cell_type": "markdown",
      "source": [
        "**Resample** là một phương pháp linh hoạt và hiệu suất cao có thể được sử dụng để xử lý chuỗi thời gian rất lớn."
      ],
      "metadata": {
        "id": "gIP7ddjZGR8q"
      }
    },
    {
      "cell_type": "markdown",
      "source": [
        "### Downsampling"
      ],
      "metadata": {
        "id": "8YsWYvde1hf7"
      }
    },
    {
      "cell_type": "markdown",
      "source": [
        "Dữ liệu bạn đang tổng hợp không cần phải được sửa thường xuyên, tần số mong muốn xác định các cạnh bin được sử dụng để chia chuỗi thời gian thành nhiều phần để tổng hợp lại."
      ],
      "metadata": {
        "id": "FY-zZKLpGpM3"
      }
    },
    {
      "cell_type": "markdown",
      "source": [
        "Khi sử dụng **resample để giảm dữ** liệu mẫu cần chú ý:\n",
        "+ Phía nào của mỗi khoảng được đóng lại\n",
        "+ Cách dán nhãn cho mỗi thùng tổng hợp, có thể bắt đầu khoảng thời gian hoặc kết thúc\n"
      ],
      "metadata": {
        "id": "b85DF1ByGwBB"
      }
    },
    {
      "cell_type": "code",
      "source": [
        "rng = pd.date_range('1/1/2000', periods=12, freq='T')\n",
        "ts = Series(np.arange(12), index=rng)\n",
        "ts\n"
      ],
      "metadata": {
        "id": "pI_EtaL_2Q5d"
      },
      "execution_count": null,
      "outputs": []
    },
    {
      "cell_type": "markdown",
      "source": [
        "Muốn tổng hợp dữ liệu này thành các phần dài năm phút hoặc các thanh bằng cách lấy tổng của mỗi nhóm:"
      ],
      "metadata": {
        "id": "kKjpHmMQHHR9"
      }
    },
    {
      "cell_type": "code",
      "source": [
        "ts.resample('5min', how='sum')"
      ],
      "metadata": {
        "id": "97a2EV2q9qvF"
      },
      "execution_count": null,
      "outputs": []
    },
    {
      "cell_type": "markdown",
      "source": [
        "Theo mặc định, cạnh thùng bên phải được inclusive, vì vậy giá trị 00:05 được bao gồm trong khoảng thời gian từ 00:00 đến 00:05. 1 Passing **closed= 'left'** thay đổi khoảng thời gian được đóng ở bên trái:"
      ],
      "metadata": {
        "id": "7Y9p12_VHQIi"
      }
    },
    {
      "cell_type": "code",
      "source": [
        "ts.resample('5min', how='sum', closed='left')"
      ],
      "metadata": {
        "id": "kwVaLGL_9y2E"
      },
      "execution_count": null,
      "outputs": []
    },
    {
      "cell_type": "code",
      "source": [
        "ts.resample('5min', how='sum', closed='left', label='left')"
      ],
      "metadata": {
        "id": "IAPxtNfE9335"
      },
      "execution_count": null,
      "outputs": []
    },
    {
      "cell_type": "markdown",
      "source": [
        "Có thể thay đổi chỉ số kết quả, chẳng hạn như trừ đi một giây từ cạnh bên phải để làm rõ hơn khoảng thời gian nào mà dấu thời gian đề cập đến. \n"
      ],
      "metadata": {
        "id": "NYhOOK24Hb3V"
      }
    },
    {
      "cell_type": "markdown",
      "source": [
        "Để thực hiện việc này, chuyển một chuỗi hoặc bù ngày vào loffset:"
      ],
      "metadata": {
        "id": "MZvmiz1DHkFc"
      }
    },
    {
      "cell_type": "code",
      "source": [
        "ts.resample('5min', how='sum', loffset='-1s')"
      ],
      "metadata": {
        "id": "nzcjhWJeHl7-"
      },
      "execution_count": null,
      "outputs": []
    },
    {
      "cell_type": "markdown",
      "source": [
        "#### Open-High-Low-Close (OHLC) resampling"
      ],
      "metadata": {
        "id": "cNjkIWYl1lkL"
      }
    },
    {
      "cell_type": "markdown",
      "source": [
        "Một cách phổ biến để tổng hợp chuỗi thời gian là tính toán bốn giá trị cho\n",
        "mỗi nhóm: \n",
        "+ Giá trị đầu tiên (mở)\n",
        "+ Cuối cùng (đóng) \n",
        "+ Tối đa (cao) \n",
        "+ Tối thiểu (thấp).\n"
      ],
      "metadata": {
        "id": "D7bhH1jHH0ef"
      }
    },
    {
      "cell_type": "code",
      "source": [
        "ts.resample('5min', how='ohlc')"
      ],
      "metadata": {
        "id": "j48q--sH-E-Z"
      },
      "execution_count": null,
      "outputs": []
    },
    {
      "cell_type": "markdown",
      "source": [
        "#### Resampling with GroupBy"
      ],
      "metadata": {
        "id": "7jU7F_3F1oVk"
      }
    },
    {
      "cell_type": "markdown",
      "source": [
        "Một cách thay thế để giảm mẫu là sử dụng chức năng phân nhóm "
      ],
      "metadata": {
        "id": "5CRDG_puIAsf"
      }
    },
    {
      "cell_type": "markdown",
      "source": [
        "**Cú pháp:**\n",
        "```\n",
        "DataFrame.groupby(by=None, axis=0, level=None, as_index=True,sort=True, group_keys=_NoDefault.no_default, squeeze=_NoDefault.no_default, observed=False, dropna=True)\n",
        "```\n",
        "\n"
      ],
      "metadata": {
        "id": "drTUbxSbIEJb"
      }
    },
    {
      "cell_type": "code",
      "source": [
        "rng = pd.date_range('1/1/2000', periods=100, freq='D')\n",
        "ts = Series(np.arange(100), index=rng)\n",
        "ts.groupby(lambda x: x.month).mean()\n"
      ],
      "metadata": {
        "id": "eW4TcDyA2RlK"
      },
      "execution_count": null,
      "outputs": []
    },
    {
      "cell_type": "code",
      "source": [
        "ts.groupby(lambda x: x.weekday).mean()"
      ],
      "metadata": {
        "id": "ehJp3C4S-dRl"
      },
      "execution_count": null,
      "outputs": []
    },
    {
      "cell_type": "markdown",
      "source": [
        "### Upsampling and Interpolation\n"
      ],
      "metadata": {
        "id": "i7q3XLFU1s2n"
      }
    },
    {
      "cell_type": "code",
      "source": [
        "frame = DataFrame(np.random.randn(2, 4),\n",
        "                  index=pd.date_range('1/1/2000', periods=2, freq='W-WED'),\n",
        "                  columns=['Colorado', 'Texas', 'New York', 'Ohio'])\n",
        "frame[:5]\n"
      ],
      "metadata": {
        "id": "sk4msmtx2SIA"
      },
      "execution_count": null,
      "outputs": []
    },
    {
      "cell_type": "markdown",
      "source": [
        "Khi lấy mẫu lại tần suất hàng ngày, các giá trị bị thiếu theo mặc định sẽ được đưa vào:"
      ],
      "metadata": {
        "id": "kK5JGzL7Ihuk"
      }
    },
    {
      "cell_type": "code",
      "source": [
        "df_daily = frame.resample('D')\n",
        "df_daily\n"
      ],
      "metadata": {
        "id": "F7Ngo158-ytE"
      },
      "execution_count": null,
      "outputs": []
    },
    {
      "cell_type": "markdown",
      "source": [
        "Các phương pháp điền hoặc nội suy tương tự có sẵn trong các phương pháp điền và lập chỉ mục là có sẵn để lấy mẫu lại:\n"
      ],
      "metadata": {
        "id": "fMFjCJ13Iv8Y"
      }
    },
    {
      "cell_type": "code",
      "source": [
        "frame.resample('D', fill_method='ffill')"
      ],
      "metadata": {
        "id": "wtLPkZP9_FKj"
      },
      "execution_count": null,
      "outputs": []
    },
    {
      "cell_type": "code",
      "source": [
        "frame.resample('D', fill_method='ffill', limit=2)"
      ],
      "metadata": {
        "id": "Ht4gWRhe_GcK"
      },
      "execution_count": null,
      "outputs": []
    },
    {
      "cell_type": "markdown",
      "source": [
        "Tương tự, cũng có thể chọn chỉ điền vào một số khoảng thời gian nhất định về phía trước để giới hạn khoảng cách tiếp tục sử dụng một giá trị quan sát:"
      ],
      "metadata": {
        "id": "w_DUWLVgI2we"
      }
    },
    {
      "cell_type": "code",
      "source": [
        "frame.resample('W-THU', fill_method='ffill')"
      ],
      "metadata": {
        "id": "ItmIjyc_AmpS"
      },
      "execution_count": null,
      "outputs": []
    },
    {
      "cell_type": "markdown",
      "source": [
        "### Resampling with Periods"
      ],
      "metadata": {
        "id": "y3O1Zgya1u7F"
      }
    },
    {
      "cell_type": "markdown",
      "source": [
        "Việc lấy mẫu ngược có nhiều sắc thái hơn vì phải đưa ra quyết định về điểm cuối của khoảng thời gian trong tần suất mới để đặt các giá trị trước khi lấy mẫu lại, giống như **phương pháp asfreq**. Đối số quy ước mặc định là 'end' nhưng cũng có thể là 'start':"
      ],
      "metadata": {
        "id": "Bazeu1nYJDuk"
      }
    },
    {
      "cell_type": "code",
      "source": [
        "annual_frame.resample('Q-DEC', fill_method='ffill')"
      ],
      "metadata": {
        "id": "zVnfHA6I2Swp"
      },
      "execution_count": null,
      "outputs": []
    },
    {
      "cell_type": "code",
      "source": [
        "annual_frame.resample('Q-DEC', fill_method='ffill', convention='start')"
      ],
      "metadata": {
        "id": "aURV9sRKArTs"
      },
      "execution_count": null,
      "outputs": []
    },
    {
      "cell_type": "markdown",
      "source": [
        "Các quy tắc về lấy mẫu lên và lấy mẫu xuống\n",
        "+ Trong lấy mẫu xuống, tần số đích phải là tần số con của tần số nguồn.\n",
        "+ Trong upsampling, tần số đích phải là một siêu nghiệm của tần số nguồn. Nếu các quy tắc này không được thỏa mãn, một ngoại lệ sẽ được đưa ra. Điều này chủ yếu ảnh hưởng đến tần suất hàng quý, hàng năm và hàng tuần; ví dụ: các khoảng thời gian được xác định bởi Q-MAR chỉ phù hợp với A-MAR, A-JUN, A-SEP và A-DEC:\n"
      ],
      "metadata": {
        "id": "AKioUIlQJPJl"
      }
    },
    {
      "cell_type": "code",
      "source": [
        "annual_frame.resample('Q-MAR', fill_method='ffill')"
      ],
      "metadata": {
        "id": "x290NuQMAv90"
      },
      "execution_count": null,
      "outputs": []
    },
    {
      "cell_type": "code",
      "source": [],
      "metadata": {
        "id": "uh76J9KgJYVK"
      },
      "execution_count": null,
      "outputs": []
    },
    {
      "cell_type": "markdown",
      "source": [
        "## Time Series Plotting"
      ],
      "metadata": {
        "id": "TWjAc1s91xEo"
      }
    },
    {
      "cell_type": "markdown",
      "source": [
        "Các biểu đồ của pandas time-series đã cải thiện định dạng ngày so với biểu đồ của matplotlib, ta có thể thấy trong ví dụ sau.\n",
        "\n",
        "Ví dụ: Chúng ta tải xuống một số dữ liệu về giá cổ phiếu của một số cổ phiếu phổ biến của Hoa Kỳ từ Yahoo! Finance:"
      ],
      "metadata": {
        "id": "64zzN51-6k_Y"
      }
    },
    {
      "cell_type": "code",
      "source": [
        "from datetime import datetime\n",
        "import pandas as pd\n",
        "import numpy as np\n",
        "from pandas import Series"
      ],
      "metadata": {
        "id": "ykvattqfDOpM"
      },
      "execution_count": null,
      "outputs": []
    },
    {
      "cell_type": "code",
      "source": [
        "close_px_all = pd.read_csv('stock_px.csv', parse_dates=True, index_col=0)\n",
        "close_px = close_px_all[['AAPL', 'MSFT', 'XOM']]\n",
        "close_px = close_px.resample('B').ffill()\n",
        "close_px\n"
      ],
      "metadata": {
        "id": "LkEjd5Ci2Tcp",
        "colab": {
          "base_uri": "https://localhost:8080/",
          "height": 423
        },
        "outputId": "7268d95e-f6ee-409c-ed2d-ffdc083e3be5"
      },
      "execution_count": null,
      "outputs": [
        {
          "output_type": "execute_result",
          "data": {
            "text/plain": [
              "              AAPL   MSFT    XOM\n",
              "1990-02-01    7.86   0.51   6.12\n",
              "1990-02-02    8.00   0.51   6.24\n",
              "1990-02-05    8.18   0.51   6.25\n",
              "1990-02-06    8.12   0.51   6.23\n",
              "1990-02-07    7.77   0.51   6.33\n",
              "...            ...    ...    ...\n",
              "2011-10-10  388.81  26.94  76.28\n",
              "2011-10-11  400.29  27.00  76.27\n",
              "2011-10-12  402.19  26.96  77.16\n",
              "2011-10-13  408.43  27.18  76.37\n",
              "2011-10-14  422.00  27.27  78.11\n",
              "\n",
              "[5662 rows x 3 columns]"
            ],
            "text/html": [
              "\n",
              "  <div id=\"df-4bc6bb66-1f2a-4f01-9ff5-08d6cc8f5f11\">\n",
              "    <div class=\"colab-df-container\">\n",
              "      <div>\n",
              "<style scoped>\n",
              "    .dataframe tbody tr th:only-of-type {\n",
              "        vertical-align: middle;\n",
              "    }\n",
              "\n",
              "    .dataframe tbody tr th {\n",
              "        vertical-align: top;\n",
              "    }\n",
              "\n",
              "    .dataframe thead th {\n",
              "        text-align: right;\n",
              "    }\n",
              "</style>\n",
              "<table border=\"1\" class=\"dataframe\">\n",
              "  <thead>\n",
              "    <tr style=\"text-align: right;\">\n",
              "      <th></th>\n",
              "      <th>AAPL</th>\n",
              "      <th>MSFT</th>\n",
              "      <th>XOM</th>\n",
              "    </tr>\n",
              "  </thead>\n",
              "  <tbody>\n",
              "    <tr>\n",
              "      <th>1990-02-01</th>\n",
              "      <td>7.86</td>\n",
              "      <td>0.51</td>\n",
              "      <td>6.12</td>\n",
              "    </tr>\n",
              "    <tr>\n",
              "      <th>1990-02-02</th>\n",
              "      <td>8.00</td>\n",
              "      <td>0.51</td>\n",
              "      <td>6.24</td>\n",
              "    </tr>\n",
              "    <tr>\n",
              "      <th>1990-02-05</th>\n",
              "      <td>8.18</td>\n",
              "      <td>0.51</td>\n",
              "      <td>6.25</td>\n",
              "    </tr>\n",
              "    <tr>\n",
              "      <th>1990-02-06</th>\n",
              "      <td>8.12</td>\n",
              "      <td>0.51</td>\n",
              "      <td>6.23</td>\n",
              "    </tr>\n",
              "    <tr>\n",
              "      <th>1990-02-07</th>\n",
              "      <td>7.77</td>\n",
              "      <td>0.51</td>\n",
              "      <td>6.33</td>\n",
              "    </tr>\n",
              "    <tr>\n",
              "      <th>...</th>\n",
              "      <td>...</td>\n",
              "      <td>...</td>\n",
              "      <td>...</td>\n",
              "    </tr>\n",
              "    <tr>\n",
              "      <th>2011-10-10</th>\n",
              "      <td>388.81</td>\n",
              "      <td>26.94</td>\n",
              "      <td>76.28</td>\n",
              "    </tr>\n",
              "    <tr>\n",
              "      <th>2011-10-11</th>\n",
              "      <td>400.29</td>\n",
              "      <td>27.00</td>\n",
              "      <td>76.27</td>\n",
              "    </tr>\n",
              "    <tr>\n",
              "      <th>2011-10-12</th>\n",
              "      <td>402.19</td>\n",
              "      <td>26.96</td>\n",
              "      <td>77.16</td>\n",
              "    </tr>\n",
              "    <tr>\n",
              "      <th>2011-10-13</th>\n",
              "      <td>408.43</td>\n",
              "      <td>27.18</td>\n",
              "      <td>76.37</td>\n",
              "    </tr>\n",
              "    <tr>\n",
              "      <th>2011-10-14</th>\n",
              "      <td>422.00</td>\n",
              "      <td>27.27</td>\n",
              "      <td>78.11</td>\n",
              "    </tr>\n",
              "  </tbody>\n",
              "</table>\n",
              "<p>5662 rows × 3 columns</p>\n",
              "</div>\n",
              "      <button class=\"colab-df-convert\" onclick=\"convertToInteractive('df-4bc6bb66-1f2a-4f01-9ff5-08d6cc8f5f11')\"\n",
              "              title=\"Convert this dataframe to an interactive table.\"\n",
              "              style=\"display:none;\">\n",
              "        \n",
              "  <svg xmlns=\"http://www.w3.org/2000/svg\" height=\"24px\"viewBox=\"0 0 24 24\"\n",
              "       width=\"24px\">\n",
              "    <path d=\"M0 0h24v24H0V0z\" fill=\"none\"/>\n",
              "    <path d=\"M18.56 5.44l.94 2.06.94-2.06 2.06-.94-2.06-.94-.94-2.06-.94 2.06-2.06.94zm-11 1L8.5 8.5l.94-2.06 2.06-.94-2.06-.94L8.5 2.5l-.94 2.06-2.06.94zm10 10l.94 2.06.94-2.06 2.06-.94-2.06-.94-.94-2.06-.94 2.06-2.06.94z\"/><path d=\"M17.41 7.96l-1.37-1.37c-.4-.4-.92-.59-1.43-.59-.52 0-1.04.2-1.43.59L10.3 9.45l-7.72 7.72c-.78.78-.78 2.05 0 2.83L4 21.41c.39.39.9.59 1.41.59.51 0 1.02-.2 1.41-.59l7.78-7.78 2.81-2.81c.8-.78.8-2.07 0-2.86zM5.41 20L4 18.59l7.72-7.72 1.47 1.35L5.41 20z\"/>\n",
              "  </svg>\n",
              "      </button>\n",
              "      \n",
              "  <style>\n",
              "    .colab-df-container {\n",
              "      display:flex;\n",
              "      flex-wrap:wrap;\n",
              "      gap: 12px;\n",
              "    }\n",
              "\n",
              "    .colab-df-convert {\n",
              "      background-color: #E8F0FE;\n",
              "      border: none;\n",
              "      border-radius: 50%;\n",
              "      cursor: pointer;\n",
              "      display: none;\n",
              "      fill: #1967D2;\n",
              "      height: 32px;\n",
              "      padding: 0 0 0 0;\n",
              "      width: 32px;\n",
              "    }\n",
              "\n",
              "    .colab-df-convert:hover {\n",
              "      background-color: #E2EBFA;\n",
              "      box-shadow: 0px 1px 2px rgba(60, 64, 67, 0.3), 0px 1px 3px 1px rgba(60, 64, 67, 0.15);\n",
              "      fill: #174EA6;\n",
              "    }\n",
              "\n",
              "    [theme=dark] .colab-df-convert {\n",
              "      background-color: #3B4455;\n",
              "      fill: #D2E3FC;\n",
              "    }\n",
              "\n",
              "    [theme=dark] .colab-df-convert:hover {\n",
              "      background-color: #434B5C;\n",
              "      box-shadow: 0px 1px 3px 1px rgba(0, 0, 0, 0.15);\n",
              "      filter: drop-shadow(0px 1px 2px rgba(0, 0, 0, 0.3));\n",
              "      fill: #FFFFFF;\n",
              "    }\n",
              "  </style>\n",
              "\n",
              "      <script>\n",
              "        const buttonEl =\n",
              "          document.querySelector('#df-4bc6bb66-1f2a-4f01-9ff5-08d6cc8f5f11 button.colab-df-convert');\n",
              "        buttonEl.style.display =\n",
              "          google.colab.kernel.accessAllowed ? 'block' : 'none';\n",
              "\n",
              "        async function convertToInteractive(key) {\n",
              "          const element = document.querySelector('#df-4bc6bb66-1f2a-4f01-9ff5-08d6cc8f5f11');\n",
              "          const dataTable =\n",
              "            await google.colab.kernel.invokeFunction('convertToInteractive',\n",
              "                                                     [key], {});\n",
              "          if (!dataTable) return;\n",
              "\n",
              "          const docLinkHtml = 'Like what you see? Visit the ' +\n",
              "            '<a target=\"_blank\" href=https://colab.research.google.com/notebooks/data_table.ipynb>data table notebook</a>'\n",
              "            + ' to learn more about interactive tables.';\n",
              "          element.innerHTML = '';\n",
              "          dataTable['output_type'] = 'display_data';\n",
              "          await google.colab.output.renderOutput(dataTable, element);\n",
              "          const docLink = document.createElement('div');\n",
              "          docLink.innerHTML = docLinkHtml;\n",
              "          element.appendChild(docLink);\n",
              "        }\n",
              "      </script>\n",
              "    </div>\n",
              "  </div>\n",
              "  "
            ]
          },
          "metadata": {},
          "execution_count": 12
        }
      ]
    },
    {
      "cell_type": "markdown",
      "source": [
        "Việc gọi một trong các cột của biểu đồ trên sẽ tạo thành một biểu đồ đơn giản, thấy như trong biểu đồ sau"
      ],
      "metadata": {
        "id": "L5HdmIBB7x-4"
      }
    },
    {
      "cell_type": "code",
      "source": [
        "close_px['AAPL'].plot()"
      ],
      "metadata": {
        "id": "k9biTyuR8AsG",
        "colab": {
          "base_uri": "https://localhost:8080/",
          "height": 283
        },
        "outputId": "b86a81a2-8dfc-44e9-a145-4119e541da27"
      },
      "execution_count": null,
      "outputs": [
        {
          "output_type": "execute_result",
          "data": {
            "text/plain": [
              "<matplotlib.axes._subplots.AxesSubplot at 0x7fccc7f5ef50>"
            ]
          },
          "metadata": {},
          "execution_count": 13
        },
        {
          "output_type": "display_data",
          "data": {
            "text/plain": [
              "<Figure size 432x288 with 1 Axes>"
            ],
            "image/png": "[encoded data removed]"
          },
          "metadata": {
            "needs_background": "light"
          }
        }
      ]
    },
    {
      "cell_type": "markdown",
      "source": [
        "Khi gọi trên DataFrame, tất cả các time-series được vẽ trên một ô con duy nhất với chú thích cho biết đó là ô nào. Biểu đồ bên dưới giúp bạn có thể thấy cách mà cả tháng và năm được định dạng trên trục X"
      ],
      "metadata": {
        "id": "6cdOgvwJ8EHW"
      }
    },
    {
      "cell_type": "code",
      "source": [
        "close_px.loc['2009'].plot()"
      ],
      "metadata": {
        "id": "6ONc2j548WPe",
        "colab": {
          "base_uri": "https://localhost:8080/",
          "height": 295
        },
        "outputId": "882be538-ccc9-46fd-cd86-21a1e2c586e8"
      },
      "execution_count": null,
      "outputs": [
        {
          "output_type": "execute_result",
          "data": {
            "text/plain": [
              "<matplotlib.axes._subplots.AxesSubplot at 0x7fccc8f59650>"
            ]
          },
          "metadata": {},
          "execution_count": 16
        },
        {
          "output_type": "display_data",
          "data": {
            "text/plain": [
              "<Figure size 432x288 with 1 Axes>"
            ],
            "image/png": "[encoded data removed]"
          },
          "metadata": {
            "needs_background": "light"
          }
        }
      ]
    },
    {
      "cell_type": "code",
      "source": [
        " close_px['AAPL'].loc['01-2011':'03-2011'].plot()"
      ],
      "metadata": {
        "id": "Ds06PdIe8fWG",
        "colab": {
          "base_uri": "https://localhost:8080/",
          "height": 318
        },
        "outputId": "972177d8-d4a7-4030-d507-c65c7b265168"
      },
      "execution_count": null,
      "outputs": [
        {
          "output_type": "execute_result",
          "data": {
            "text/plain": [
              "<matplotlib.axes._subplots.AxesSubplot at 0x7fccc7776510>"
            ]
          },
          "metadata": {},
          "execution_count": 17
        },
        {
          "output_type": "display_data",
          "data": {
            "text/plain": [
              "<Figure size 432x288 with 1 Axes>"
            ],
            "image/png": "[encoded data removed]"
          },
          "metadata": {
            "needs_background": "light"
          }
        }
      ]
    },
    {
      "cell_type": "markdown",
      "source": [
        "Dữ liệu tần suất hàng quý cũng được định dạng tốt hơn so với điểm đánh dấu hàng quý"
      ],
      "metadata": {
        "id": "Mjeo1iP68h72"
      }
    },
    {
      "cell_type": "code",
      "source": [
        " appl_q = close_px['AAPL'].resample('Q-DEC').ffill()\n",
        " appl_q.loc['2009':].plot()"
      ],
      "metadata": {
        "id": "nZ89mCuZ8mue",
        "colab": {
          "base_uri": "https://localhost:8080/",
          "height": 295
        },
        "outputId": "6b8fd7fb-ffc4-4a1b-f0cb-b000f0855caf"
      },
      "execution_count": null,
      "outputs": [
        {
          "output_type": "execute_result",
          "data": {
            "text/plain": [
              "<matplotlib.axes._subplots.AxesSubplot at 0x7fccc76a4210>"
            ]
          },
          "metadata": {},
          "execution_count": 19
        },
        {
          "output_type": "display_data",
          "data": {
            "text/plain": [
              "<Figure size 432x288 with 1 Axes>"
            ],
            "image/png": "[encoded data removed]"
          },
          "metadata": {
            "needs_background": "light"
          }
        }
      ]
    },
    {
      "cell_type": "markdown",
      "source": [
        "Tính năng cuối cùng của time-series là bằng cách nhấp chuột phải và kéo để phóng to và thu nhỏ, ngày tháng sẽ được mở rộng hoặc thu nhỏ và định dạng lại tùy thuộc vào khoảng thời gian có trong chế độ xem biểu đồ. Với matplotlib, điều này chỉ đúng khi sử dụng ở chế độ tương tác."
      ],
      "metadata": {
        "id": "JcAISQf58vTO"
      }
    },
    {
      "cell_type": "markdown",
      "source": [
        "## Moving Window Functions\n",
        "\n",
        "\n",
        "\n"
      ],
      "metadata": {
        "id": "C-9A26HF11Yf"
      }
    },
    {
      "cell_type": "markdown",
      "source": [
        "Một lớp phổ biến của phép biến đổi mảng cho các phép toán time-series là thống kê, các hàm khác được đánh giá qua sliding window hoặc đánh giá với trọng số giảm dần theo cấp số nhân. Ta gọi đây là moving window functions (chức năng này tự động loại trừ các dữ liệu bị thiếu)"
      ],
      "metadata": {
        "id": "NBND3R1Y8_F-"
      }
    },
    {
      "cell_type": "markdown",
      "source": [
        "***rolling_mean*** là giá trị trung bình của một số khoảng thời gian \n",
        "nhất định trước đó trong một time-series"
      ],
      "metadata": {
        "id": "0gOVEtWZ9O1A"
      }
    },
    {
      "cell_type": "code",
      "source": [
        "close_px.AAPL.plot()"
      ],
      "metadata": {
        "id": "aYoeI4X42T_f",
        "colab": {
          "base_uri": "https://localhost:8080/",
          "height": 283
        },
        "outputId": "c458160a-3a7b-4b0f-fee1-0f1cbcf9f415"
      },
      "execution_count": null,
      "outputs": [
        {
          "output_type": "execute_result",
          "data": {
            "text/plain": [
              "<matplotlib.axes._subplots.AxesSubplot at 0x7fccc760f750>"
            ]
          },
          "metadata": {},
          "execution_count": 21
        },
        {
          "output_type": "display_data",
          "data": {
            "text/plain": [
              "<Figure size 432x288 with 1 Axes>"
            ],
            "image/png": "[encoded data removed]"
          },
          "metadata": {
            "needs_background": "light"
          }
        }
      ]
    },
    {
      "cell_type": "code",
      "source": [
        "pd.rolling_mean(close_px.AAPL, 250).plot()"
      ],
      "metadata": {
        "id": "3CAAGl4A9c3V"
      },
      "execution_count": null,
      "outputs": []
    },
    {
      "cell_type": "markdown",
      "source": [
        "Xem Figure . Các hàm như rolling_mean yêu cầu số lượng non-NA được chỉ định. Hoạt động này có thể được dùng để giải thích cho dữ liệu bị thiếu"
      ],
      "metadata": {
        "id": "bCidsV0I9fyN"
      }
    },
    {
      "cell_type": "code",
      "source": [
        "appl_std250 = pd.rolling_std(close_px.AAPL, 250, min_periods=10)\n",
        "appl_std250[5:12]\n"
      ],
      "metadata": {
        "id": "4NLJWBav9nAo"
      },
      "execution_count": null,
      "outputs": []
    },
    {
      "cell_type": "code",
      "source": [
        "appl_std250.plot()"
      ],
      "metadata": {
        "id": "RdHqdbKH9rKG"
      },
      "execution_count": null,
      "outputs": []
    },
    {
      "cell_type": "markdown",
      "source": [
        "Để tính giá trị expanding window mean, có thể thấy rằng expanding window (cửa sổ mở rộng ) chỉ là một trường hợp đặc biệt trong đó window là độ dài của time-series, nhưng chỉ cần một hoặc nhiều periods để tính giá trị:"
      ],
      "metadata": {
        "id": "iRpgj1Fc90RZ"
      }
    },
    {
      "cell_type": "code",
      "source": [
        "# Define expanding mean in terms of rolling_mean\n",
        "expanding_mean = lambda x: rolling_mean(x, len(x), min_periods=1)"
      ],
      "metadata": {
        "id": "GFuEp4oP91Fm"
      },
      "execution_count": null,
      "outputs": []
    },
    {
      "cell_type": "markdown",
      "source": [
        "Việc gọi rolling\\_mean và friends trên DataFrame sẽ áp dụng phép biến đổi cho từng cột (xem Figure \\ref {Figure 10})"
      ],
      "metadata": {
        "id": "87L72nXW94AO"
      }
    },
    {
      "cell_type": "code",
      "source": [
        "pd.rolling_mean(close_px, 60).plot(logy=True)\n"
      ],
      "metadata": {
        "id": "MbOZZ1Hq97eI"
      },
      "execution_count": null,
      "outputs": []
    },
    {
      "cell_type": "markdown",
      "source": [
        "### Exponentially-weighted functions"
      ],
      "metadata": {
        "id": "8y6MxTnb14iJ"
      }
    },
    {
      "cell_type": "code",
      "source": [],
      "metadata": {
        "id": "c2G75UQ7B7DU"
      },
      "execution_count": null,
      "outputs": []
    },
    {
      "cell_type": "markdown",
      "source": [
        "Giải pháp thay thế cho việc sử dụng kích thước window tĩnh với các observations bằng nhau là chỉ định decay factor không đổi để tạo thêm trọng lượng cho các observations gần đây hơn.Có một số cách để chỉ định decay factor, một cách phổ biến là sử dụng một span, làm cho kết quả có thể so sánh với một hàm moving window đơn giản với kích thước window bằng span"
      ],
      "metadata": {
        "id": "AfZlw0vx-Czi"
      }
    },
    {
      "cell_type": "markdown",
      "source": [
        "Vì một thống kê có trọng số theo cấp số nhân đặt nhiều trọng lượng hơn vào các observations gần đây, nên nó “thích ứng” nhanh hơn với những thay đổi so với phiên bản có trọng số bằng nhau. Dưới đây là một ví dụ so sánh đường trung bình động trong 60 ngày của giá cổ phiếu Apple với đường trung bình động EW với span = 60\n"
      ],
      "metadata": {
        "id": "vqi7Glx3-IGU"
      }
    },
    {
      "cell_type": "code",
      "source": [
        "fig, axes = plt.subplots(nrows=2, ncols=1, sharex=True, sharey=True,\n",
        " figsize=(12, 7))"
      ],
      "metadata": {
        "id": "k4zPxHRh-JoF"
      },
      "execution_count": null,
      "outputs": []
    },
    {
      "cell_type": "code",
      "source": [
        "aapl_px = close_px.AAPL['2005':'2009']"
      ],
      "metadata": {
        "id": "LuH5XsZ22Ujn"
      },
      "execution_count": null,
      "outputs": []
    },
    {
      "cell_type": "code",
      "source": [
        "ma60 = pd.rolling_mean(aapl_px, 60, min_periods=50)\n",
        "ewma60 = pd.ewma(aapl_px, span=60)\n"
      ],
      "metadata": {
        "id": "6vIb27lQ-RBU"
      },
      "execution_count": null,
      "outputs": []
    },
    {
      "cell_type": "code",
      "source": [
        "aapl_px.plot(style='k-', ax=axes[0])\n",
        "ma60.plot(style='k--', ax=axes[0])\n",
        "aapl_px.plot(style='k-', ax=axes[1])\n",
        "ewma60.plot(style='k--', ax=axes[1])\n",
        "axes[0].set_title('Simple MA')\n",
        "axes[1].set_title('Exponentially-weighted MA')\n"
      ],
      "metadata": {
        "id": "tVQ5HoHH-SgF"
      },
      "execution_count": null,
      "outputs": []
    },
    {
      "cell_type": "markdown",
      "source": [
        "### Binary Moving Window Functions"
      ],
      "metadata": {
        "id": "8tiQ4msr16_6"
      }
    },
    {
      "cell_type": "markdown",
      "source": [
        "Một số toán tử thống kê, như tương quan và hiệp phương sai, cần hoạt động trên hai time-series. Ví dụ: các nhà phân tích tài chính thường quan tâm đến mối tương quan của cổ phiếu với chỉ số chuẩn như S&P 500. Chúng ta có thể tính toán điều đó bằng cách tính toán phần trăm thay đổi và sử dụng rolling_corr (xem Figure "
      ],
      "metadata": {
        "id": "H52M6vjj-Xbk"
      }
    },
    {
      "cell_type": "code",
      "source": [
        "plt.figure()"
      ],
      "metadata": {
        "id": "G3zYxBxW_rqk"
      },
      "execution_count": null,
      "outputs": []
    },
    {
      "cell_type": "code",
      "source": [
        "spx_px = close_px_all['SPX']\n",
        "spx_rets = spx_px.pct_change()\n",
        "returns = close_px.pct_change()"
      ],
      "metadata": {
        "id": "HmRKOuDa-aUc"
      },
      "execution_count": null,
      "outputs": []
    },
    {
      "cell_type": "code",
      "source": [
        "corr = returns.AAPL.rolling(125, min_periods=100).corr(spx_rets)\n",
        "corr.plot()"
      ],
      "metadata": {
        "id": "whuxr9xT_u9M"
      },
      "execution_count": null,
      "outputs": []
    },
    {
      "cell_type": "code",
      "source": [
        "plt.figure()"
      ],
      "metadata": {
        "id": "sCyELBYy_wU2"
      },
      "execution_count": null,
      "outputs": []
    },
    {
      "cell_type": "code",
      "source": [],
      "metadata": {
        "id": "Gg1EJx9m_y41"
      },
      "execution_count": null,
      "outputs": []
    },
    {
      "cell_type": "markdown",
      "source": [
        "Hàm pct_change() được dùng để tính toán phần trăm thay đổi giữa phần tử hiện tại và phần tử trước đó . Theo mặc định, hàm này tính toán phần trăm thay đổi so với hàng ngay trước đó.\n"
      ],
      "metadata": {
        "id": "sxoUOU5s-kdk"
      }
    },
    {
      "cell_type": "markdown",
      "source": [
        "Giả sử bạn muốn tính toán mối tương quan của chỉ số S&P 500 với nhiều cổ phiếu cùng một lúc. Nếu bạn chuyển một TimeSeries và một DataFrame, một hàm như rolling_corr sẽ tính toán mối tương quan của TimeSeries với mỗi cột trong DataFrame. Xem Figure \\ref{Figure 13} để biết kết quả:\n"
      ],
      "metadata": {
        "id": "nSoa6t5k-oYM"
      }
    },
    {
      "cell_type": "code",
      "source": [
        "corr = pd.rolling_corr(returns, spx_rets, 125, min_periods=100)\n",
        "corr.plot()\n"
      ],
      "metadata": {
        "id": "xAR7qWrK-qDl"
      },
      "execution_count": null,
      "outputs": []
    },
    {
      "cell_type": "code",
      "source": [],
      "metadata": {
        "id": "jjtk6nzW2Vew"
      },
      "execution_count": null,
      "outputs": []
    },
    {
      "cell_type": "markdown",
      "source": [
        "### User-Defined Moving Window Functions"
      ],
      "metadata": {
        "id": "1mGQb_N82AC3"
      }
    },
    {
      "cell_type": "markdown",
      "source": [
        "Hàm rolling_apply cung cấp một phương tiện để áp dụng một hàm mảng do chính bạn tạo ra trên một moving window. Yêu cầu duy nhất là hàm tạo ra một giá trị duy nhất (giảm) từ mỗi phần của mảng. Ví dụ: trong khi chúng ta có thể tính toán lượng tử mẫu bằng cách sử dụng rolling_quantile, chúng ta có thể quan tâm đến thứ hạng phần trăm của một giá trị cụ thể trên mẫu. Hàm scipy.stats.percentileofscore thực hiện điều này"
      ],
      "metadata": {
        "id": "xMeT_TEe-vgt"
      }
    },
    {
      "cell_type": "code",
      "source": [
        "plt.figure()"
      ],
      "metadata": {
        "id": "hiRx0gP5_k4H"
      },
      "execution_count": null,
      "outputs": []
    },
    {
      "cell_type": "code",
      "source": [
        "from scipy.stats import percentileofscore\n",
        "score_at_2percent = lambda x: percentileofscore(x, 0.02)\n",
        "result = returns.AAPL.rolling(250).apply(score_at_2percent)\n",
        "result.plot()\n"
      ],
      "metadata": {
        "id": "V2ENWd-H2V4H"
      },
      "execution_count": null,
      "outputs": []
    },
    {
      "cell_type": "code",
      "source": [
        "pd.options.display.max_rows = PREVIOUS_MAX_ROWS"
      ],
      "metadata": {
        "id": "mjIFDau--_N7"
      },
      "execution_count": null,
      "outputs": []
    },
    {
      "cell_type": "markdown",
      "source": [
        "## Performance and Memory Usage Notes\n"
      ],
      "metadata": {
        "id": "cARXMARx2Byn"
      }
    },
    {
      "cell_type": "markdown",
      "source": [
        "Về hiệu suất, pandas đã được tối ưu hóa cao cho các hoạt động căn chỉnh dữ liệu (công việc hậu trường của ts1 + ts2 được lập index khác nhau) và lấy mẫu lại. Dưới đây là một ví dụ về tổng hợp các điểm dữ liệu 10MM thành OHLC:"
      ],
      "metadata": {
        "id": "aDQ_mmH0_Ex8"
      }
    },
    {
      "cell_type": "code",
      "source": [
        "rng = pd.date_range('1/1/2000', periods=10000000, freq='10ms')\n",
        "ts = Series(np.random.randn(len(rng)), index=rng)\n",
        "ts"
      ],
      "metadata": {
        "id": "qlPDZoDp_GMF"
      },
      "execution_count": null,
      "outputs": []
    },
    {
      "cell_type": "code",
      "source": [
        " ts.resample('15min', how='ohlc')\n"
      ],
      "metadata": {
        "id": "bNmpZAPt_KeE"
      },
      "execution_count": null,
      "outputs": []
    },
    {
      "cell_type": "code",
      "source": [
        "%timeit ts.resample('15min', how='ohlc')\n",
        "10 loops, best of 3: 61.1 ms per loop"
      ],
      "metadata": {
        "id": "j02831tJ_Mju"
      },
      "execution_count": null,
      "outputs": []
    },
    {
      "cell_type": "markdown",
      "source": [
        "Thời gian chạy có thể phụ thuộc một chút vào kích thước tương đối của kết quả tổng hợp; không ngạc nhiên khi tổng hợp tần số cao hơn mất nhiều thời gian hơn để tính toán:"
      ],
      "metadata": {
        "id": "RgkF2yAi_RvA"
      }
    },
    {
      "cell_type": "code",
      "source": [
        "rng = pd.date_range('1/1/2000', periods=10000000, freq='1s')\n",
        "ts = Series(np.random.randn(len(rng)), index=rng)\n",
        "%timeit ts.resample('15s', how='ohlc')\n",
        "loops, best of 3: 88.2 ms per loop"
      ],
      "metadata": {
        "id": "-N_0WGNv_UWO"
      },
      "execution_count": null,
      "outputs": []
    }
  ]
}