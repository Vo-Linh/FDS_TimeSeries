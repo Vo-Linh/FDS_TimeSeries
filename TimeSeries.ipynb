{
  "nbformat": 4,
  "nbformat_minor": 0,
  "metadata": {
    "colab": {
      "provenance": [],
      "toc_visible": true,
      "include_colab_link": true
    },
    "kernelspec": {
      "name": "python3",
      "display_name": "Python 3"
    },
    "language_info": {
      "name": "python"
    }
  },
  "cells": [
    {
      "cell_type": "markdown",
      "metadata": {
        "id": "view-in-github",
        "colab_type": "text"
      },
      "source": [
        "<a href=\"https://colab.research.google.com/github/Vo-Linh/FDS_TimeSeries/blob/main/TimeSeries.ipynb\" target=\"_parent\"><img src=\"https://colab.research.google.com/assets/colab-badge.svg\" alt=\"Open In Colab\"/></a>"
      ]
    },
    {
      "cell_type": "markdown",
      "source": [
        "# Time Series"
      ],
      "metadata": {
        "id": "KFGJRAHV0Ml7"
      }
    },
    {
      "cell_type": "code",
      "source": [
        "import numpy as np\n",
        "import pandas as pd\n",
        "from datetime import datetime"
      ],
      "metadata": {
        "id": "V0KBNxpz2pXV"
      },
      "execution_count": 1,
      "outputs": []
    },
    {
      "cell_type": "markdown",
      "source": [
        "## Date and Time Data Types and Tools"
      ],
      "metadata": {
        "id": "R2_l_PVl0Pcq"
      }
    },
    {
      "cell_type": "code",
      "source": [
        "now = datetime.now()\n",
        "now"
      ],
      "metadata": {
        "id": "HxVr98YZ0Z5j",
        "colab": {
          "base_uri": "https://localhost:8080/"
        },
        "outputId": "99be96ef-fd2c-4458-edf0-41ce3f020b95"
      },
      "execution_count": 2,
      "outputs": [
        {
          "output_type": "execute_result",
          "data": {
            "text/plain": [
              "datetime.datetime(2022, 11, 27, 13, 12, 57, 537400)"
            ]
          },
          "metadata": {},
          "execution_count": 2
        }
      ]
    },
    {
      "cell_type": "code",
      "source": [
        "now.year, now.month, now.day"
      ],
      "metadata": {
        "colab": {
          "base_uri": "https://localhost:8080/"
        },
        "id": "5MwEkogPQBFE",
        "outputId": "550427ac-31ea-43b2-f1bc-dce1278c9931"
      },
      "execution_count": 3,
      "outputs": [
        {
          "output_type": "execute_result",
          "data": {
            "text/plain": [
              "(2022, 11, 27)"
            ]
          },
          "metadata": {},
          "execution_count": 3
        }
      ]
    },
    {
      "cell_type": "code",
      "source": [
        "delta = datetime(2011, 1, 7) - datetime(2008, 6, 24, 8, 15)\n",
        "delta"
      ],
      "metadata": {
        "colab": {
          "base_uri": "https://localhost:8080/"
        },
        "id": "VjHf5PXTQD_E",
        "outputId": "fd033169-2cb5-4af2-cc6f-97aa8e68c565"
      },
      "execution_count": 4,
      "outputs": [
        {
          "output_type": "execute_result",
          "data": {
            "text/plain": [
              "datetime.timedelta(days=926, seconds=56700)"
            ]
          },
          "metadata": {},
          "execution_count": 4
        }
      ]
    },
    {
      "cell_type": "code",
      "source": [
        "delta.days, delta.seconds"
      ],
      "metadata": {
        "colab": {
          "base_uri": "https://localhost:8080/"
        },
        "id": "rQYJLUdcQHCD",
        "outputId": "09309b3d-ffd0-40cc-fddd-c3cbef4bda8f"
      },
      "execution_count": 5,
      "outputs": [
        {
          "output_type": "execute_result",
          "data": {
            "text/plain": [
              "(926, 56700)"
            ]
          },
          "metadata": {},
          "execution_count": 5
        }
      ]
    },
    {
      "cell_type": "code",
      "source": [
        "from datetime import timedelta\n",
        "start = datetime(2011, 1, 7)\n",
        "start + timedelta(12)"
      ],
      "metadata": {
        "colab": {
          "base_uri": "https://localhost:8080/"
        },
        "id": "lzQE7WziQK_T",
        "outputId": "9df6ecf8-bfa0-4e93-8ea3-fdb801141698"
      },
      "execution_count": 6,
      "outputs": [
        {
          "output_type": "execute_result",
          "data": {
            "text/plain": [
              "datetime.datetime(2011, 1, 19, 0, 0)"
            ]
          },
          "metadata": {},
          "execution_count": 6
        }
      ]
    },
    {
      "cell_type": "code",
      "source": [
        "start - 2 * timedelta(12)"
      ],
      "metadata": {
        "colab": {
          "base_uri": "https://localhost:8080/"
        },
        "id": "qAVzB-6kQPfr",
        "outputId": "b68de11e-4ab1-4708-8aab-1bf2f0a63c60"
      },
      "execution_count": 7,
      "outputs": [
        {
          "output_type": "execute_result",
          "data": {
            "text/plain": [
              "datetime.datetime(2010, 12, 14, 0, 0)"
            ]
          },
          "metadata": {},
          "execution_count": 7
        }
      ]
    },
    {
      "cell_type": "markdown",
      "source": [
        "### Converting between string and datetime"
      ],
      "metadata": {
        "id": "NI41p2rK0WFM"
      }
    },
    {
      "cell_type": "code",
      "source": [
        "stamp = datetime(2011, 1, 3)"
      ],
      "metadata": {
        "id": "rxHAg3Kw0YpS"
      },
      "execution_count": 8,
      "outputs": []
    },
    {
      "cell_type": "code",
      "source": [
        "str(stamp)"
      ],
      "metadata": {
        "colab": {
          "base_uri": "https://localhost:8080/",
          "height": 35
        },
        "id": "xYrcrhHKQVAs",
        "outputId": "93f10ae0-e64c-4f78-c427-617c5f00a8d5"
      },
      "execution_count": 9,
      "outputs": [
        {
          "output_type": "execute_result",
          "data": {
            "text/plain": [
              "'2011-01-03 00:00:00'"
            ],
            "application/vnd.google.colaboratory.intrinsic+json": {
              "type": "string"
            }
          },
          "metadata": {},
          "execution_count": 9
        }
      ]
    },
    {
      "cell_type": "code",
      "source": [
        "stamp.strftime('%Y-%m-%d')"
      ],
      "metadata": {
        "colab": {
          "base_uri": "https://localhost:8080/",
          "height": 35
        },
        "id": "_BUHpIhIQYNi",
        "outputId": "4ef84d04-067c-4485-bc53-c808a74faf96"
      },
      "execution_count": 10,
      "outputs": [
        {
          "output_type": "execute_result",
          "data": {
            "text/plain": [
              "'2011-01-03'"
            ],
            "application/vnd.google.colaboratory.intrinsic+json": {
              "type": "string"
            }
          },
          "metadata": {},
          "execution_count": 10
        }
      ]
    },
    {
      "cell_type": "code",
      "source": [
        "value = '2011-01-03'\n",
        "datetime.strptime(value, '%Y-%m-%d')"
      ],
      "metadata": {
        "colab": {
          "base_uri": "https://localhost:8080/"
        },
        "id": "3cNbgh19QYIZ",
        "outputId": "6393f5c4-0229-4387-a0ca-6635fc210e86"
      },
      "execution_count": 11,
      "outputs": [
        {
          "output_type": "execute_result",
          "data": {
            "text/plain": [
              "datetime.datetime(2011, 1, 3, 0, 0)"
            ]
          },
          "metadata": {},
          "execution_count": 11
        }
      ]
    },
    {
      "cell_type": "code",
      "source": [
        "datestrs = ['7/6/2011', '8/6/2011']"
      ],
      "metadata": {
        "id": "eycWU5aKQX7d"
      },
      "execution_count": 12,
      "outputs": []
    },
    {
      "cell_type": "code",
      "source": [
        "[datetime.strptime(x, '%m/%d/%Y') for x in datestrs]"
      ],
      "metadata": {
        "colab": {
          "base_uri": "https://localhost:8080/"
        },
        "id": "oC9VtvdsQe0y",
        "outputId": "6e5ce073-61ed-4645-b44f-3b9f8b805a29"
      },
      "execution_count": 13,
      "outputs": [
        {
          "output_type": "execute_result",
          "data": {
            "text/plain": [
              "[datetime.datetime(2011, 7, 6, 0, 0), datetime.datetime(2011, 8, 6, 0, 0)]"
            ]
          },
          "metadata": {},
          "execution_count": 13
        }
      ]
    },
    {
      "cell_type": "code",
      "source": [
        "from dateutil.parser import parse\n",
        "parse('2011-01-03')"
      ],
      "metadata": {
        "colab": {
          "base_uri": "https://localhost:8080/"
        },
        "id": "97j5G4YIQhVh",
        "outputId": "12022e33-db06-4de4-ecbf-dbbd8a755789"
      },
      "execution_count": 14,
      "outputs": [
        {
          "output_type": "execute_result",
          "data": {
            "text/plain": [
              "datetime.datetime(2011, 1, 3, 0, 0)"
            ]
          },
          "metadata": {},
          "execution_count": 14
        }
      ]
    },
    {
      "cell_type": "code",
      "source": [
        "parse('Jan 31, 1997 10:45 PM')"
      ],
      "metadata": {
        "colab": {
          "base_uri": "https://localhost:8080/"
        },
        "id": "-XaM6uKTQmwv",
        "outputId": "52971711-d133-486d-e0ad-67ddbdd3cf2d"
      },
      "execution_count": 15,
      "outputs": [
        {
          "output_type": "execute_result",
          "data": {
            "text/plain": [
              "datetime.datetime(1997, 1, 31, 22, 45)"
            ]
          },
          "metadata": {},
          "execution_count": 15
        }
      ]
    },
    {
      "cell_type": "code",
      "source": [
        "parse('6/12/2011', dayfirst=True)"
      ],
      "metadata": {
        "colab": {
          "base_uri": "https://localhost:8080/"
        },
        "id": "jk9ad25sQrOg",
        "outputId": "a3563706-f0a9-4091-8fad-4dc345737dd7"
      },
      "execution_count": 16,
      "outputs": [
        {
          "output_type": "execute_result",
          "data": {
            "text/plain": [
              "datetime.datetime(2011, 12, 6, 0, 0)"
            ]
          },
          "metadata": {},
          "execution_count": 16
        }
      ]
    },
    {
      "cell_type": "code",
      "source": [
        "datestrs"
      ],
      "metadata": {
        "colab": {
          "base_uri": "https://localhost:8080/"
        },
        "id": "FPKQLEdnQuae",
        "outputId": "1f9b0432-83fd-4344-e04b-7572900b9047"
      },
      "execution_count": 17,
      "outputs": [
        {
          "output_type": "execute_result",
          "data": {
            "text/plain": [
              "['7/6/2011', '8/6/2011']"
            ]
          },
          "metadata": {},
          "execution_count": 17
        }
      ]
    },
    {
      "cell_type": "code",
      "source": [
        "pd.to_datetime(datestrs)"
      ],
      "metadata": {
        "colab": {
          "base_uri": "https://localhost:8080/"
        },
        "id": "v_MxmhAyQxRP",
        "outputId": "1242b354-2c80-4986-957c-54dd6fb87905"
      },
      "execution_count": 18,
      "outputs": [
        {
          "output_type": "execute_result",
          "data": {
            "text/plain": [
              "DatetimeIndex(['2011-07-06', '2011-08-06'], dtype='datetime64[ns]', freq=None)"
            ]
          },
          "metadata": {},
          "execution_count": 18
        }
      ]
    },
    {
      "cell_type": "code",
      "source": [
        "idx = pd.to_datetime(datestrs + [None])\n",
        "idx"
      ],
      "metadata": {
        "colab": {
          "base_uri": "https://localhost:8080/"
        },
        "id": "1Y1anM7NQ0Cn",
        "outputId": "c7c252e9-1a2e-4ed0-b4bc-c7a6004cfb02"
      },
      "execution_count": 19,
      "outputs": [
        {
          "output_type": "execute_result",
          "data": {
            "text/plain": [
              "DatetimeIndex(['2011-07-06', '2011-08-06', 'NaT'], dtype='datetime64[ns]', freq=None)"
            ]
          },
          "metadata": {},
          "execution_count": 19
        }
      ]
    },
    {
      "cell_type": "code",
      "source": [
        "idx[2]"
      ],
      "metadata": {
        "id": "UVg9aiWyQ3IG",
        "outputId": "502e580c-2a6f-48c8-ec69-8aa9287a9bf5",
        "colab": {
          "base_uri": "https://localhost:8080/"
        }
      },
      "execution_count": 20,
      "outputs": [
        {
          "output_type": "execute_result",
          "data": {
            "text/plain": [
              "NaT"
            ]
          },
          "metadata": {},
          "execution_count": 20
        }
      ]
    },
    {
      "cell_type": "code",
      "source": [
        "pd.isnull(idx)"
      ],
      "metadata": {
        "id": "4O5fxNFmQ5B4",
        "outputId": "96e6553d-b8b0-467d-98e5-56f444f582bb",
        "colab": {
          "base_uri": "https://localhost:8080/"
        }
      },
      "execution_count": 21,
      "outputs": [
        {
          "output_type": "execute_result",
          "data": {
            "text/plain": [
              "array([False, False,  True])"
            ]
          },
          "metadata": {},
          "execution_count": 21
        }
      ]
    },
    {
      "cell_type": "markdown",
      "source": [
        "## Time Series Basics"
      ],
      "metadata": {
        "id": "asE3kdeV0bQA"
      }
    },
    {
      "cell_type": "code",
      "source": [
        "import numpy as np\n",
        "import pandas as pd\n",
        "from datetime import datetime\n",
        "from pandas import Series"
      ],
      "metadata": {
        "id": "giANugOFkFWR"
      },
      "execution_count": 22,
      "outputs": []
    },
    {
      "cell_type": "code",
      "source": [
        "dates = [datetime(2011, 1, 2), datetime(2011, 1, 5),\n",
        "         datetime(2011, 1, 7), datetime(2011, 1, 8),\n",
        "         datetime(2011, 1, 10), datetime(2011, 1, 12)]\n",
        "ts = pd.Series(np.random.randn(6), index=dates)\n",
        "ts"
      ],
      "metadata": {
        "id": "5vY_lsbueUWt",
        "colab": {
          "base_uri": "https://localhost:8080/"
        },
        "outputId": "cfb64ec7-f2d5-4769-db8a-23314d5017cd"
      },
      "execution_count": 23,
      "outputs": [
        {
          "output_type": "execute_result",
          "data": {
            "text/plain": [
              "2011-01-02    0.920715\n",
              "2011-01-05   -0.468769\n",
              "2011-01-07   -0.320901\n",
              "2011-01-08    0.014717\n",
              "2011-01-10    0.411708\n",
              "2011-01-12    0.557919\n",
              "dtype: float64"
            ]
          },
          "metadata": {},
          "execution_count": 23
        }
      ]
    },
    {
      "cell_type": "markdown",
      "source": [
        "Đưa các đối tượng datetime() chứa thông tin vào một list là biến dates,tạo một series biến ts và thêm các giá trị ngẫu nhiên với từng index thuộc biến dates"
      ],
      "metadata": {
        "id": "Dy1CqZN28P4P"
      }
    },
    {
      "cell_type": "markdown",
      "source": [
        "Kiểm tra biến ts và thấy biến thuộc loại Time-Series"
      ],
      "metadata": {
        "id": "J1D7LC4X8ipC"
      }
    },
    {
      "cell_type": "code",
      "source": [
        "\n",
        "type(ts)"
      ],
      "metadata": {
        "id": "sOJAMQMX7L67",
        "colab": {
          "base_uri": "https://localhost:8080/"
        },
        "outputId": "c2fcf3aa-bc1f-4e4c-9cf2-4bf772ee7644"
      },
      "execution_count": 24,
      "outputs": [
        {
          "output_type": "execute_result",
          "data": {
            "text/plain": [
              "pandas.core.series.Series"
            ]
          },
          "metadata": {},
          "execution_count": 24
        }
      ]
    },
    {
      "cell_type": "markdown",
      "source": [
        "Pandas.Series.index cho thấy chỉ mục (nhãn trục) của Series, đối\n",
        "tượng datetime này đã được đưa vào một DatetimeIndex."
      ],
      "metadata": {
        "id": "0i_E3b5r8sZ7"
      }
    },
    {
      "cell_type": "code",
      "source": [
        "ts.index"
      ],
      "metadata": {
        "colab": {
          "base_uri": "https://localhost:8080/"
        },
        "id": "PoyQtavF6yWV",
        "outputId": "689dbf21-58e2-446a-b211-fce085333391"
      },
      "execution_count": 25,
      "outputs": [
        {
          "output_type": "execute_result",
          "data": {
            "text/plain": [
              "DatetimeIndex(['2011-01-02', '2011-01-05', '2011-01-07', '2011-01-08',\n",
              "               '2011-01-10', '2011-01-12'],\n",
              "              dtype='datetime64[ns]', freq=None)"
            ]
          },
          "metadata": {},
          "execution_count": 25
        }
      ]
    },
    {
      "cell_type": "markdown",
      "source": [
        "Các phép toán số học giữa các time series indexed khác nhau sẽ tự động căn chỉnh vào các dates, s[::2] chỉ chứa những index từ 0 với bước nhảy là 2 nên\n",
        "ta thấy output những giá trị tại index lẻ là NaN"
      ],
      "metadata": {
        "id": "tTZmkbnH-LKL"
      }
    },
    {
      "cell_type": "code",
      "source": [
        "ts + ts[::2]"
      ],
      "metadata": {
        "colab": {
          "base_uri": "https://localhost:8080/"
        },
        "id": "-C7sMvFc7p2M",
        "outputId": "574bcd16-5e50-46ae-822e-8968cb4e1bd3"
      },
      "execution_count": 26,
      "outputs": [
        {
          "output_type": "execute_result",
          "data": {
            "text/plain": [
              "2011-01-02    1.841429\n",
              "2011-01-05         NaN\n",
              "2011-01-07   -0.641803\n",
              "2011-01-08         NaN\n",
              "2011-01-10    0.823417\n",
              "2011-01-12         NaN\n",
              "dtype: float64"
            ]
          },
          "metadata": {},
          "execution_count": 26
        }
      ]
    },
    {
      "cell_type": "markdown",
      "source": [
        "Pandas lưu trữ timestamps bằng cách sử dụng loại dữ liệu datetime64\n",
        "của NumPy ở độ phân giải nano giây"
      ],
      "metadata": {
        "id": "-mMyZzvP_RGi"
      }
    },
    {
      "cell_type": "code",
      "source": [
        "ts.index.dtype"
      ],
      "metadata": {
        "colab": {
          "base_uri": "https://localhost:8080/"
        },
        "id": "UsukxV1a7rib",
        "outputId": "4fa543f4-7722-4caf-f775-7498edb1dd4d"
      },
      "execution_count": 27,
      "outputs": [
        {
          "output_type": "execute_result",
          "data": {
            "text/plain": [
              "dtype('<M8[ns]')"
            ]
          },
          "metadata": {},
          "execution_count": 27
        }
      ]
    },
    {
      "cell_type": "markdown",
      "source": [
        "Xem Timestamp của biến ts tại index đầu tiên, vì ta không đặt\n",
        "time cho index đầu tiên nên time lúc in ra là 00:00:00"
      ],
      "metadata": {
        "id": "LxdgItIm_9Jt"
      }
    },
    {
      "cell_type": "code",
      "source": [
        "stamp = ts.index[0]\n",
        "stamp"
      ],
      "metadata": {
        "colab": {
          "base_uri": "https://localhost:8080/"
        },
        "id": "n7twwv0X7ytF",
        "outputId": "7d19aeb7-81fd-4438-bf72-475ba3cb1f04"
      },
      "execution_count": 28,
      "outputs": [
        {
          "output_type": "execute_result",
          "data": {
            "text/plain": [
              "Timestamp('2011-01-02 00:00:00')"
            ]
          },
          "metadata": {},
          "execution_count": 28
        }
      ]
    },
    {
      "cell_type": "markdown",
      "source": [
        "### Indexing, Selection, Subsetting"
      ],
      "metadata": {
        "id": "wxCzhWJ20e94"
      }
    },
    {
      "cell_type": "markdown",
      "source": [
        "TimeSeries là một lớp con của Series và do đó hoạt động theo cùng một cách đối với idexing và chọn dữ liệu dựa trên nhãn"
      ],
      "metadata": {
        "id": "t536WfQIAM7T"
      }
    },
    {
      "cell_type": "code",
      "source": [
        "stamp = ts.index[2]\n",
        "ts[stamp]"
      ],
      "metadata": {
        "id": "YkEQ6cOs2FfU",
        "colab": {
          "base_uri": "https://localhost:8080/"
        },
        "outputId": "675c9a4d-9301-4b1b-c4c3-3eca2b75992e"
      },
      "execution_count": 29,
      "outputs": [
        {
          "output_type": "execute_result",
          "data": {
            "text/plain": [
              "-0.3209014366226046"
            ]
          },
          "metadata": {},
          "execution_count": 29
        }
      ]
    },
    {
      "cell_type": "markdown",
      "source": [
        "Có thể ghi ngày tháng năm cách nhau bằng dấu / như trên"
      ],
      "metadata": {
        "id": "-Vm406HsAWDu"
      }
    },
    {
      "cell_type": "code",
      "source": [
        "ts['1/10/2011']"
      ],
      "metadata": {
        "colab": {
          "base_uri": "https://localhost:8080/"
        },
        "id": "lvOfySAI79ms",
        "outputId": "828f3b26-b0e2-43bc-af8b-9263264a5ee3"
      },
      "execution_count": 30,
      "outputs": [
        {
          "output_type": "execute_result",
          "data": {
            "text/plain": [
              "0.4117083575223513"
            ]
          },
          "metadata": {},
          "execution_count": 30
        }
      ]
    },
    {
      "cell_type": "markdown",
      "source": [
        "Hoặc ghi liền (nhưng phải đúng thứ tự) chương trình vẫn có\n",
        "thể hiểu được ngày tháng năm trong chuỗichuỗi"
      ],
      "metadata": {
        "id": "0YtkPBYVAgPM"
      }
    },
    {
      "cell_type": "code",
      "source": [
        "ts['20110110']"
      ],
      "metadata": {
        "colab": {
          "base_uri": "https://localhost:8080/"
        },
        "id": "lg1YoW8O8JAr",
        "outputId": "fbcb19eb-2c07-4bb0-d390-2239e01a9dfa"
      },
      "execution_count": 31,
      "outputs": [
        {
          "output_type": "execute_result",
          "data": {
            "text/plain": [
              "0.4117083575223513"
            ]
          },
          "metadata": {},
          "execution_count": 31
        }
      ]
    },
    {
      "cell_type": "markdown",
      "source": [
        "Tạo một series"
      ],
      "metadata": {
        "id": "0kUytnNFAqyu"
      }
    },
    {
      "cell_type": "code",
      "source": [
        "longer_ts = pd.Series(np.random.randn(1000),\n",
        "                      index=pd.date_range('1/1/2000',\n",
        "                      periods=1000))\n",
        "longer_ts"
      ],
      "metadata": {
        "colab": {
          "base_uri": "https://localhost:8080/"
        },
        "id": "qOQhhHb58Pjk",
        "outputId": "45714430-629c-42a6-a555-7bd02617395f"
      },
      "execution_count": 32,
      "outputs": [
        {
          "output_type": "execute_result",
          "data": {
            "text/plain": [
              "2000-01-01   -0.992641\n",
              "2000-01-02    0.421838\n",
              "2000-01-03   -1.594143\n",
              "2000-01-04    0.318361\n",
              "2000-01-05    0.666416\n",
              "                ...   \n",
              "2002-09-22    0.544743\n",
              "2002-09-23   -0.740700\n",
              "2002-09-24    1.477491\n",
              "2002-09-25    0.573593\n",
              "2002-09-26    1.427608\n",
              "Freq: D, Length: 1000, dtype: float64"
            ]
          },
          "metadata": {},
          "execution_count": 32
        }
      ]
    },
    {
      "cell_type": "markdown",
      "source": [
        "Chọn với thời gian là năm (longer_ts[’2001’])"
      ],
      "metadata": {
        "id": "hDrRuB25BFva"
      }
    },
    {
      "cell_type": "code",
      "source": [
        "longer_ts['2001']"
      ],
      "metadata": {
        "colab": {
          "base_uri": "https://localhost:8080/"
        },
        "id": "5n4DKycu8oxG",
        "outputId": "519e94b8-c6da-4327-99ff-7db04ad0b79b"
      },
      "execution_count": 33,
      "outputs": [
        {
          "output_type": "execute_result",
          "data": {
            "text/plain": [
              "2001-01-01   -0.696630\n",
              "2001-01-02   -1.832920\n",
              "2001-01-03    1.473878\n",
              "2001-01-04    0.576111\n",
              "2001-01-05   -1.660009\n",
              "                ...   \n",
              "2001-12-27   -0.423800\n",
              "2001-12-28   -0.685547\n",
              "2001-12-29   -3.334835\n",
              "2001-12-30   -0.699220\n",
              "2001-12-31    0.627179\n",
              "Freq: D, Length: 365, dtype: float64"
            ]
          },
          "metadata": {},
          "execution_count": 33
        }
      ]
    },
    {
      "cell_type": "markdown",
      "source": [
        "Chọn với thời gian là năm và tháng (longer_ts[’2001-05’] )"
      ],
      "metadata": {
        "id": "VbekQzqnBOhn"
      }
    },
    {
      "cell_type": "code",
      "source": [
        "longer_ts['2001-05']"
      ],
      "metadata": {
        "colab": {
          "base_uri": "https://localhost:8080/"
        },
        "id": "NnE3x7zw8wOs",
        "outputId": "74f4aa60-517b-424d-fcfb-29e3f1aaede7"
      },
      "execution_count": 34,
      "outputs": [
        {
          "output_type": "execute_result",
          "data": {
            "text/plain": [
              "2001-05-01   -1.105513\n",
              "2001-05-02   -0.764125\n",
              "2001-05-03    0.259487\n",
              "2001-05-04    0.659177\n",
              "2001-05-05    1.038433\n",
              "2001-05-06    1.299676\n",
              "2001-05-07   -0.053376\n",
              "2001-05-08   -0.287832\n",
              "2001-05-09   -0.615134\n",
              "2001-05-10    0.699498\n",
              "2001-05-11    0.675722\n",
              "2001-05-12    1.322675\n",
              "2001-05-13    1.242320\n",
              "2001-05-14    1.406930\n",
              "2001-05-15   -1.425016\n",
              "2001-05-16   -0.258147\n",
              "2001-05-17   -2.223304\n",
              "2001-05-18   -0.131040\n",
              "2001-05-19   -1.796399\n",
              "2001-05-20    0.337916\n",
              "2001-05-21    0.275670\n",
              "2001-05-22   -1.680722\n",
              "2001-05-23   -0.921117\n",
              "2001-05-24    0.806254\n",
              "2001-05-25    0.110932\n",
              "2001-05-26    0.408350\n",
              "2001-05-27    0.495548\n",
              "2001-05-28    0.567900\n",
              "2001-05-29    1.062844\n",
              "2001-05-30    0.058694\n",
              "2001-05-31   -0.388083\n",
              "Freq: D, dtype: float64"
            ]
          },
          "metadata": {},
          "execution_count": 34
        }
      ]
    },
    {
      "cell_type": "markdown",
      "source": [
        "Việc cắt (slicing) dữ liệu hoạt động như một Series thông thường"
      ],
      "metadata": {
        "id": "3e0UB3_jBV87"
      }
    },
    {
      "cell_type": "code",
      "source": [
        "ts[datetime(2011, 1, 7):]"
      ],
      "metadata": {
        "colab": {
          "base_uri": "https://localhost:8080/"
        },
        "id": "ZWTcfYva81gj",
        "outputId": "f8598718-3230-4f3c-8a31-cf553d4115e4"
      },
      "execution_count": 35,
      "outputs": [
        {
          "output_type": "execute_result",
          "data": {
            "text/plain": [
              "2011-01-07   -0.320901\n",
              "2011-01-08    0.014717\n",
              "2011-01-10    0.411708\n",
              "2011-01-12    0.557919\n",
              "dtype: float64"
            ]
          },
          "metadata": {},
          "execution_count": 35
        }
      ]
    },
    {
      "cell_type": "markdown",
      "source": [
        "Căt trong khoảng từ 1/6/2011 đến 1/11/2011"
      ],
      "metadata": {
        "id": "-0YbvrFlCIe7"
      }
    },
    {
      "cell_type": "code",
      "source": [
        "ts['1/6/2011':'1/11/2011']"
      ],
      "metadata": {
        "colab": {
          "base_uri": "https://localhost:8080/"
        },
        "id": "f92R2Wvx851T",
        "outputId": "ac9d5a27-b45b-4184-b780-fb41697ed7e1"
      },
      "execution_count": 36,
      "outputs": [
        {
          "output_type": "execute_result",
          "data": {
            "text/plain": [
              "2011-01-07   -0.320901\n",
              "2011-01-08    0.014717\n",
              "2011-01-10    0.411708\n",
              "dtype: float64"
            ]
          },
          "metadata": {},
          "execution_count": 36
        }
      ]
    },
    {
      "cell_type": "markdown",
      "source": [
        "Hàm truncate(after=’1/9/2011’) cho phép ta cắt đi khoảng thời\n",
        "gian sau 1/9/2011"
      ],
      "metadata": {
        "id": "7HT2TCssCthP"
      }
    },
    {
      "cell_type": "code",
      "source": [
        "ts.truncate(after='1/9/2011')"
      ],
      "metadata": {
        "colab": {
          "base_uri": "https://localhost:8080/"
        },
        "id": "_xtVUxCi89-r",
        "outputId": "7ef66153-c67b-42a8-a73c-d43f81340abe"
      },
      "execution_count": 37,
      "outputs": [
        {
          "output_type": "execute_result",
          "data": {
            "text/plain": [
              "2011-01-02    0.920715\n",
              "2011-01-05   -0.468769\n",
              "2011-01-07   -0.320901\n",
              "2011-01-08    0.014717\n",
              "dtype: float64"
            ]
          },
          "metadata": {},
          "execution_count": 37
        }
      ]
    },
    {
      "cell_type": "markdown",
      "source": [
        "Tạo biến date với pd.date_range() lấy một dải thời gian với\n",
        "số lượng là 100 và tần suất là thứ tư hàng tuần (freq=’W-WED’) và tạo\n",
        "dataframe long_d, ,ix[] ở đây hoạt động như khi ta cắt dữ liệu (thay .ix bằng .loc vì .ix bị loại bỏ )"
      ],
      "metadata": {
        "id": "q83sAWVkDF6F"
      }
    },
    {
      "cell_type": "code",
      "source": [
        "dates = pd.date_range('1/1/2000', periods=100,\n",
        "                       freq='W-WED')\n",
        "long_df = pd.DataFrame(np.random.randn(100, 4),\n",
        "                    index=dates, columns=\n",
        "                    ['Colorado', 'Texas', 'New York', 'Ohio'])\n",
        "long_df.loc['5-2001']"
      ],
      "metadata": {
        "colab": {
          "base_uri": "https://localhost:8080/",
          "height": 206
        },
        "id": "0K5GFq__9Btr",
        "outputId": "f17435e6-774a-4e96-c7d2-8a52ee8e0ed8"
      },
      "execution_count": 38,
      "outputs": [
        {
          "output_type": "execute_result",
          "data": {
            "text/plain": [
              "            Colorado     Texas  New York      Ohio\n",
              "2001-05-02  0.401816  0.598156  0.141186  1.531759\n",
              "2001-05-09 -0.561450 -0.791213 -0.869426 -1.391193\n",
              "2001-05-16  0.184234 -1.271695 -1.705987  0.005627\n",
              "2001-05-23  1.152132  1.555277  1.310416  0.954392\n",
              "2001-05-30 -0.620340 -0.850109 -0.649362  0.962725"
            ],
            "text/html": [
              "\n",
              "  <div id=\"df-5ea0928d-8618-4d11-a733-4e62079059d7\">\n",
              "    <div class=\"colab-df-container\">\n",
              "      <div>\n",
              "<style scoped>\n",
              "    .dataframe tbody tr th:only-of-type {\n",
              "        vertical-align: middle;\n",
              "    }\n",
              "\n",
              "    .dataframe tbody tr th {\n",
              "        vertical-align: top;\n",
              "    }\n",
              "\n",
              "    .dataframe thead th {\n",
              "        text-align: right;\n",
              "    }\n",
              "</style>\n",
              "<table border=\"1\" class=\"dataframe\">\n",
              "  <thead>\n",
              "    <tr style=\"text-align: right;\">\n",
              "      <th></th>\n",
              "      <th>Colorado</th>\n",
              "      <th>Texas</th>\n",
              "      <th>New York</th>\n",
              "      <th>Ohio</th>\n",
              "    </tr>\n",
              "  </thead>\n",
              "  <tbody>\n",
              "    <tr>\n",
              "      <th>2001-05-02</th>\n",
              "      <td>0.401816</td>\n",
              "      <td>0.598156</td>\n",
              "      <td>0.141186</td>\n",
              "      <td>1.531759</td>\n",
              "    </tr>\n",
              "    <tr>\n",
              "      <th>2001-05-09</th>\n",
              "      <td>-0.561450</td>\n",
              "      <td>-0.791213</td>\n",
              "      <td>-0.869426</td>\n",
              "      <td>-1.391193</td>\n",
              "    </tr>\n",
              "    <tr>\n",
              "      <th>2001-05-16</th>\n",
              "      <td>0.184234</td>\n",
              "      <td>-1.271695</td>\n",
              "      <td>-1.705987</td>\n",
              "      <td>0.005627</td>\n",
              "    </tr>\n",
              "    <tr>\n",
              "      <th>2001-05-23</th>\n",
              "      <td>1.152132</td>\n",
              "      <td>1.555277</td>\n",
              "      <td>1.310416</td>\n",
              "      <td>0.954392</td>\n",
              "    </tr>\n",
              "    <tr>\n",
              "      <th>2001-05-30</th>\n",
              "      <td>-0.620340</td>\n",
              "      <td>-0.850109</td>\n",
              "      <td>-0.649362</td>\n",
              "      <td>0.962725</td>\n",
              "    </tr>\n",
              "  </tbody>\n",
              "</table>\n",
              "</div>\n",
              "      <button class=\"colab-df-convert\" onclick=\"convertToInteractive('df-5ea0928d-8618-4d11-a733-4e62079059d7')\"\n",
              "              title=\"Convert this dataframe to an interactive table.\"\n",
              "              style=\"display:none;\">\n",
              "        \n",
              "  <svg xmlns=\"http://www.w3.org/2000/svg\" height=\"24px\"viewBox=\"0 0 24 24\"\n",
              "       width=\"24px\">\n",
              "    <path d=\"M0 0h24v24H0V0z\" fill=\"none\"/>\n",
              "    <path d=\"M18.56 5.44l.94 2.06.94-2.06 2.06-.94-2.06-.94-.94-2.06-.94 2.06-2.06.94zm-11 1L8.5 8.5l.94-2.06 2.06-.94-2.06-.94L8.5 2.5l-.94 2.06-2.06.94zm10 10l.94 2.06.94-2.06 2.06-.94-2.06-.94-.94-2.06-.94 2.06-2.06.94z\"/><path d=\"M17.41 7.96l-1.37-1.37c-.4-.4-.92-.59-1.43-.59-.52 0-1.04.2-1.43.59L10.3 9.45l-7.72 7.72c-.78.78-.78 2.05 0 2.83L4 21.41c.39.39.9.59 1.41.59.51 0 1.02-.2 1.41-.59l7.78-7.78 2.81-2.81c.8-.78.8-2.07 0-2.86zM5.41 20L4 18.59l7.72-7.72 1.47 1.35L5.41 20z\"/>\n",
              "  </svg>\n",
              "      </button>\n",
              "      \n",
              "  <style>\n",
              "    .colab-df-container {\n",
              "      display:flex;\n",
              "      flex-wrap:wrap;\n",
              "      gap: 12px;\n",
              "    }\n",
              "\n",
              "    .colab-df-convert {\n",
              "      background-color: #E8F0FE;\n",
              "      border: none;\n",
              "      border-radius: 50%;\n",
              "      cursor: pointer;\n",
              "      display: none;\n",
              "      fill: #1967D2;\n",
              "      height: 32px;\n",
              "      padding: 0 0 0 0;\n",
              "      width: 32px;\n",
              "    }\n",
              "\n",
              "    .colab-df-convert:hover {\n",
              "      background-color: #E2EBFA;\n",
              "      box-shadow: 0px 1px 2px rgba(60, 64, 67, 0.3), 0px 1px 3px 1px rgba(60, 64, 67, 0.15);\n",
              "      fill: #174EA6;\n",
              "    }\n",
              "\n",
              "    [theme=dark] .colab-df-convert {\n",
              "      background-color: #3B4455;\n",
              "      fill: #D2E3FC;\n",
              "    }\n",
              "\n",
              "    [theme=dark] .colab-df-convert:hover {\n",
              "      background-color: #434B5C;\n",
              "      box-shadow: 0px 1px 3px 1px rgba(0, 0, 0, 0.15);\n",
              "      filter: drop-shadow(0px 1px 2px rgba(0, 0, 0, 0.3));\n",
              "      fill: #FFFFFF;\n",
              "    }\n",
              "  </style>\n",
              "\n",
              "      <script>\n",
              "        const buttonEl =\n",
              "          document.querySelector('#df-5ea0928d-8618-4d11-a733-4e62079059d7 button.colab-df-convert');\n",
              "        buttonEl.style.display =\n",
              "          google.colab.kernel.accessAllowed ? 'block' : 'none';\n",
              "\n",
              "        async function convertToInteractive(key) {\n",
              "          const element = document.querySelector('#df-5ea0928d-8618-4d11-a733-4e62079059d7');\n",
              "          const dataTable =\n",
              "            await google.colab.kernel.invokeFunction('convertToInteractive',\n",
              "                                                     [key], {});\n",
              "          if (!dataTable) return;\n",
              "\n",
              "          const docLinkHtml = 'Like what you see? Visit the ' +\n",
              "            '<a target=\"_blank\" href=https://colab.research.google.com/notebooks/data_table.ipynb>data table notebook</a>'\n",
              "            + ' to learn more about interactive tables.';\n",
              "          element.innerHTML = '';\n",
              "          dataTable['output_type'] = 'display_data';\n",
              "          await google.colab.output.renderOutput(dataTable, element);\n",
              "          const docLink = document.createElement('div');\n",
              "          docLink.innerHTML = docLinkHtml;\n",
              "          element.appendChild(docLink);\n",
              "        }\n",
              "      </script>\n",
              "    </div>\n",
              "  </div>\n",
              "  "
            ]
          },
          "metadata": {},
          "execution_count": 38
        }
      ]
    },
    {
      "cell_type": "markdown",
      "source": [
        "### Time Series with Duplicate Indices"
      ],
      "metadata": {
        "id": "SM8Dg8rT0iBb"
      }
    },
    {
      "cell_type": "markdown",
      "source": [
        "pd.DatetimeIndex, hàm này giống như mảng (ndarray) bất biến của\n",
        "dữ liệu datetime64."
      ],
      "metadata": {
        "id": "x1kJg9HLEDcI"
      }
    },
    {
      "cell_type": "code",
      "source": [
        "dates = pd.DatetimeIndex(['1/1/2000', '1/2/2000',\n",
        "                         '1/2/2000','1/2/2000','1/3/2000'])\n",
        "dup_ts = pd.Series(np.arange(5), index=dates)\n",
        "dup_ts"
      ],
      "metadata": {
        "id": "c6LcbzlJ2GS8",
        "colab": {
          "base_uri": "https://localhost:8080/"
        },
        "outputId": "ad817727-b541-4417-ca44-0bdf7cff244a"
      },
      "execution_count": 39,
      "outputs": [
        {
          "output_type": "execute_result",
          "data": {
            "text/plain": [
              "2000-01-01    0\n",
              "2000-01-02    1\n",
              "2000-01-02    2\n",
              "2000-01-02    3\n",
              "2000-01-03    4\n",
              "dtype: int64"
            ]
          },
          "metadata": {},
          "execution_count": 39
        }
      ]
    },
    {
      "cell_type": "markdown",
      "source": [
        " Kiểm\n",
        "tra thuộc tính is_unique "
      ],
      "metadata": {
        "id": "eQtV4YvSEXmi"
      }
    },
    {
      "cell_type": "code",
      "source": [
        "dup_ts.index.is_unique"
      ],
      "metadata": {
        "colab": {
          "base_uri": "https://localhost:8080/"
        },
        "id": "p4ZEG5Vi-PI0",
        "outputId": "8b426c8d-1d26-48a2-f70c-a1c32fd20d1e"
      },
      "execution_count": 40,
      "outputs": [
        {
          "output_type": "execute_result",
          "data": {
            "text/plain": [
              "False"
            ]
          },
          "metadata": {},
          "execution_count": 40
        }
      ]
    },
    {
      "cell_type": "markdown",
      "source": [
        "Indexing vào time series này bây giờ sẽ tạo ra các giá trị vô hướng hoặc\n",
        "các phần cắt tùy thuộc vào việc liệu một timestamp có bị trùng lặp hay\n",
        "không."
      ],
      "metadata": {
        "id": "CdSQ5nOLEkMS"
      }
    },
    {
      "cell_type": "code",
      "source": [
        "dup_ts['1/3/2000']    #not  duplicated"
      ],
      "metadata": {
        "colab": {
          "base_uri": "https://localhost:8080/"
        },
        "id": "O-fHlIRh-gsy",
        "outputId": "152738ad-f632-4cab-a33d-79c2fab9227b"
      },
      "execution_count": 41,
      "outputs": [
        {
          "output_type": "execute_result",
          "data": {
            "text/plain": [
              "4"
            ]
          },
          "metadata": {},
          "execution_count": 41
        }
      ]
    },
    {
      "cell_type": "markdown",
      "source": [
        "ở trên chỉ in ra một giá trị. Còn bên dưới in ra một phần\n",
        "đã được cắt của một timestamp đã bị trùng."
      ],
      "metadata": {
        "id": "5vfU-i1AEvza"
      }
    },
    {
      "cell_type": "code",
      "source": [
        "dup_ts['1/2/2000']    #duplicated"
      ],
      "metadata": {
        "colab": {
          "base_uri": "https://localhost:8080/"
        },
        "id": "X99utTrA-nxj",
        "outputId": "0af91a93-7165-4ef3-a4d3-10a2ffd0a026"
      },
      "execution_count": 42,
      "outputs": [
        {
          "output_type": "execute_result",
          "data": {
            "text/plain": [
              "2000-01-02    1\n",
              "2000-01-02    2\n",
              "2000-01-02    3\n",
              "dtype: int64"
            ]
          },
          "metadata": {},
          "execution_count": 42
        }
      ]
    },
    {
      "cell_type": "markdown",
      "source": [
        "Tổng hợp dữ liệu có timestamps không phải là duy\n",
        "nhất, sử dụng groupby và đặt mức = 0\n",
        "(mức index)"
      ],
      "metadata": {
        "id": "Y5ulMojVE_ks"
      }
    },
    {
      "cell_type": "code",
      "source": [
        "grouped = dup_ts.groupby(level=0)\n",
        "\n",
        "grouped.mean()"
      ],
      "metadata": {
        "colab": {
          "base_uri": "https://localhost:8080/"
        },
        "id": "iIXPs4w9-qYq",
        "outputId": "413d034e-a696-41b7-e913-f9ccc9339cd7"
      },
      "execution_count": 43,
      "outputs": [
        {
          "output_type": "execute_result",
          "data": {
            "text/plain": [
              "2000-01-01    0.0\n",
              "2000-01-02    2.0\n",
              "2000-01-03    4.0\n",
              "dtype: float64"
            ]
          },
          "metadata": {},
          "execution_count": 43
        }
      ]
    },
    {
      "cell_type": "markdown",
      "source": [
        "Đếm tần suất xuất hiện các index (count())"
      ],
      "metadata": {
        "id": "0ort28pJFUkz"
      }
    },
    {
      "cell_type": "code",
      "source": [
        "grouped.count()"
      ],
      "metadata": {
        "id": "3UI3-c0i-v40",
        "outputId": "12e745ff-83c0-4c2c-b20f-a73a8fffa29a",
        "colab": {
          "base_uri": "https://localhost:8080/"
        }
      },
      "execution_count": 44,
      "outputs": [
        {
          "output_type": "execute_result",
          "data": {
            "text/plain": [
              "2000-01-01    1\n",
              "2000-01-02    3\n",
              "2000-01-03    1\n",
              "dtype: int64"
            ]
          },
          "metadata": {},
          "execution_count": 44
        }
      ]
    },
    {
      "cell_type": "markdown",
      "source": [
        "## Date Ranges, Frequencies, and Shifting"
      ],
      "metadata": {
        "id": "lwJQtWvH0k4U"
      }
    },
    {
      "cell_type": "code",
      "source": [
        "import numpy as np\n",
        "import pandas as pd\n",
        "from datetime import datetime\n",
        "from pandas import Series"
      ],
      "metadata": {
        "id": "ZPHCQjoK2Gyr"
      },
      "execution_count": 45,
      "outputs": []
    },
    {
      "cell_type": "code",
      "source": [
        "ts"
      ],
      "metadata": {
        "colab": {
          "base_uri": "https://localhost:8080/"
        },
        "id": "e9VlLwaIc7Lp",
        "outputId": "f2a28ae2-14ff-41c3-c240-a5a82a468d5a"
      },
      "execution_count": 46,
      "outputs": [
        {
          "output_type": "execute_result",
          "data": {
            "text/plain": [
              "2011-01-02    0.920715\n",
              "2011-01-05   -0.468769\n",
              "2011-01-07   -0.320901\n",
              "2011-01-08    0.014717\n",
              "2011-01-10    0.411708\n",
              "2011-01-12    0.557919\n",
              "dtype: float64"
            ]
          },
          "metadata": {},
          "execution_count": 46
        }
      ]
    },
    {
      "cell_type": "code",
      "source": [
        "ts.resample('D')"
      ],
      "metadata": {
        "colab": {
          "base_uri": "https://localhost:8080/"
        },
        "id": "5j1cobHtfczE",
        "outputId": "ca33c0eb-6e69-42f2-84b3-17229f8091c1"
      },
      "execution_count": 47,
      "outputs": [
        {
          "output_type": "execute_result",
          "data": {
            "text/plain": [
              "<pandas.core.resample.DatetimeIndexResampler object at 0x7fb5a40afa50>"
            ]
          },
          "metadata": {},
          "execution_count": 47
        }
      ]
    },
    {
      "cell_type": "markdown",
      "source": [
        "### Generating Date Ranges"
      ],
      "metadata": {
        "id": "GqKyhKpJ0nIf"
      }
    },
    {
      "cell_type": "code",
      "source": [
        "index = pd.date_range('4/1/2012', '6/1/2012')"
      ],
      "metadata": {
        "id": "UFYUWO-y2HNg"
      },
      "execution_count": 48,
      "outputs": []
    },
    {
      "cell_type": "code",
      "source": [
        "index"
      ],
      "metadata": {
        "colab": {
          "base_uri": "https://localhost:8080/"
        },
        "id": "i6SDZtDqfqPp",
        "outputId": "ea90b5b8-8a36-47b1-d007-4887a13900bf"
      },
      "execution_count": 49,
      "outputs": [
        {
          "output_type": "execute_result",
          "data": {
            "text/plain": [
              "DatetimeIndex(['2012-04-01', '2012-04-02', '2012-04-03', '2012-04-04',\n",
              "               '2012-04-05', '2012-04-06', '2012-04-07', '2012-04-08',\n",
              "               '2012-04-09', '2012-04-10', '2012-04-11', '2012-04-12',\n",
              "               '2012-04-13', '2012-04-14', '2012-04-15', '2012-04-16',\n",
              "               '2012-04-17', '2012-04-18', '2012-04-19', '2012-04-20',\n",
              "               '2012-04-21', '2012-04-22', '2012-04-23', '2012-04-24',\n",
              "               '2012-04-25', '2012-04-26', '2012-04-27', '2012-04-28',\n",
              "               '2012-04-29', '2012-04-30', '2012-05-01', '2012-05-02',\n",
              "               '2012-05-03', '2012-05-04', '2012-05-05', '2012-05-06',\n",
              "               '2012-05-07', '2012-05-08', '2012-05-09', '2012-05-10',\n",
              "               '2012-05-11', '2012-05-12', '2012-05-13', '2012-05-14',\n",
              "               '2012-05-15', '2012-05-16', '2012-05-17', '2012-05-18',\n",
              "               '2012-05-19', '2012-05-20', '2012-05-21', '2012-05-22',\n",
              "               '2012-05-23', '2012-05-24', '2012-05-25', '2012-05-26',\n",
              "               '2012-05-27', '2012-05-28', '2012-05-29', '2012-05-30',\n",
              "               '2012-05-31', '2012-06-01'],\n",
              "              dtype='datetime64[ns]', freq='D')"
            ]
          },
          "metadata": {},
          "execution_count": 49
        }
      ]
    },
    {
      "cell_type": "code",
      "source": [
        "pd.date_range(start='4/1/2012', periods=20)"
      ],
      "metadata": {
        "colab": {
          "base_uri": "https://localhost:8080/"
        },
        "id": "a8k9NgKzf8Vz",
        "outputId": "585ff70c-a384-45b5-ff7b-f51b6bc20a4f"
      },
      "execution_count": 50,
      "outputs": [
        {
          "output_type": "execute_result",
          "data": {
            "text/plain": [
              "DatetimeIndex(['2012-04-01', '2012-04-02', '2012-04-03', '2012-04-04',\n",
              "               '2012-04-05', '2012-04-06', '2012-04-07', '2012-04-08',\n",
              "               '2012-04-09', '2012-04-10', '2012-04-11', '2012-04-12',\n",
              "               '2012-04-13', '2012-04-14', '2012-04-15', '2012-04-16',\n",
              "               '2012-04-17', '2012-04-18', '2012-04-19', '2012-04-20'],\n",
              "              dtype='datetime64[ns]', freq='D')"
            ]
          },
          "metadata": {},
          "execution_count": 50
        }
      ]
    },
    {
      "cell_type": "code",
      "source": [
        "pd.date_range(end='6/1/2012', periods=20)"
      ],
      "metadata": {
        "colab": {
          "base_uri": "https://localhost:8080/"
        },
        "id": "G6DPaJsMf9xb",
        "outputId": "7acd57d1-60f5-4158-914b-d28f2103ed94"
      },
      "execution_count": 51,
      "outputs": [
        {
          "output_type": "execute_result",
          "data": {
            "text/plain": [
              "DatetimeIndex(['2012-05-13', '2012-05-14', '2012-05-15', '2012-05-16',\n",
              "               '2012-05-17', '2012-05-18', '2012-05-19', '2012-05-20',\n",
              "               '2012-05-21', '2012-05-22', '2012-05-23', '2012-05-24',\n",
              "               '2012-05-25', '2012-05-26', '2012-05-27', '2012-05-28',\n",
              "               '2012-05-29', '2012-05-30', '2012-05-31', '2012-06-01'],\n",
              "              dtype='datetime64[ns]', freq='D')"
            ]
          },
          "metadata": {},
          "execution_count": 51
        }
      ]
    },
    {
      "cell_type": "code",
      "source": [
        "pd.date_range('1/1/2000', '12/1/2000', freq='BM')"
      ],
      "metadata": {
        "colab": {
          "base_uri": "https://localhost:8080/"
        },
        "id": "fkidEXhhgh0K",
        "outputId": "04617715-79b5-44ac-de75-2d209848e874"
      },
      "execution_count": 52,
      "outputs": [
        {
          "output_type": "execute_result",
          "data": {
            "text/plain": [
              "DatetimeIndex(['2000-01-31', '2000-02-29', '2000-03-31', '2000-04-28',\n",
              "               '2000-05-31', '2000-06-30', '2000-07-31', '2000-08-31',\n",
              "               '2000-09-29', '2000-10-31', '2000-11-30'],\n",
              "              dtype='datetime64[ns]', freq='BM')"
            ]
          },
          "metadata": {},
          "execution_count": 52
        }
      ]
    },
    {
      "cell_type": "code",
      "source": [
        "pd.date_range('5/2/2012 12:56:31', periods=5)"
      ],
      "metadata": {
        "colab": {
          "base_uri": "https://localhost:8080/"
        },
        "id": "Bbh9rDyygnqX",
        "outputId": "43ecc757-efcf-4903-bbcf-639d15efbfee"
      },
      "execution_count": 53,
      "outputs": [
        {
          "output_type": "execute_result",
          "data": {
            "text/plain": [
              "DatetimeIndex(['2012-05-02 12:56:31', '2012-05-03 12:56:31',\n",
              "               '2012-05-04 12:56:31', '2012-05-05 12:56:31',\n",
              "               '2012-05-06 12:56:31'],\n",
              "              dtype='datetime64[ns]', freq='D')"
            ]
          },
          "metadata": {},
          "execution_count": 53
        }
      ]
    },
    {
      "cell_type": "code",
      "source": [
        "pd.date_range('5/2/2012 12:56:31', periods=5, normalize=True)"
      ],
      "metadata": {
        "colab": {
          "base_uri": "https://localhost:8080/"
        },
        "id": "e-oGgZxlgsY4",
        "outputId": "fab91322-73a1-4e20-f0b3-bc50ce6d56d3"
      },
      "execution_count": 54,
      "outputs": [
        {
          "output_type": "execute_result",
          "data": {
            "text/plain": [
              "DatetimeIndex(['2012-05-02', '2012-05-03', '2012-05-04', '2012-05-05',\n",
              "               '2012-05-06'],\n",
              "              dtype='datetime64[ns]', freq='D')"
            ]
          },
          "metadata": {},
          "execution_count": 54
        }
      ]
    },
    {
      "cell_type": "markdown",
      "source": [
        "### Frequencies and Date Offsets"
      ],
      "metadata": {
        "id": "sxkg7O5C0tN-"
      }
    },
    {
      "cell_type": "code",
      "source": [
        "from pandas.tseries.offsets import Hour, Minute"
      ],
      "metadata": {
        "id": "Q44DD8nb2H2L"
      },
      "execution_count": 55,
      "outputs": []
    },
    {
      "cell_type": "code",
      "source": [
        "hour = Hour()"
      ],
      "metadata": {
        "id": "9Nkz6nXbgzJZ"
      },
      "execution_count": 56,
      "outputs": []
    },
    {
      "cell_type": "code",
      "source": [
        "hour"
      ],
      "metadata": {
        "colab": {
          "base_uri": "https://localhost:8080/"
        },
        "id": "aGNpdlsNg2aG",
        "outputId": "09aba47f-fd07-45f2-a6d3-849053b626cc"
      },
      "execution_count": 57,
      "outputs": [
        {
          "output_type": "execute_result",
          "data": {
            "text/plain": [
              "<Hour>"
            ]
          },
          "metadata": {},
          "execution_count": 57
        }
      ]
    },
    {
      "cell_type": "code",
      "source": [
        "four_hours = Hour(4)"
      ],
      "metadata": {
        "id": "DhxPk8wug7wn"
      },
      "execution_count": 58,
      "outputs": []
    },
    {
      "cell_type": "code",
      "source": [
        "four_hours"
      ],
      "metadata": {
        "colab": {
          "base_uri": "https://localhost:8080/"
        },
        "id": "YDrJud2ag-MQ",
        "outputId": "e089faac-1414-4503-d7ab-c3506d1d9bff"
      },
      "execution_count": 59,
      "outputs": [
        {
          "output_type": "execute_result",
          "data": {
            "text/plain": [
              "<4 * Hours>"
            ]
          },
          "metadata": {},
          "execution_count": 59
        }
      ]
    },
    {
      "cell_type": "code",
      "source": [
        "pd.date_range('1/1/2000', '1/3/2000 23:59', freq='4h')"
      ],
      "metadata": {
        "colab": {
          "base_uri": "https://localhost:8080/"
        },
        "id": "nQPwxHTMhA4y",
        "outputId": "05b0a3c8-c0f9-410d-c7dd-5e8213731c09"
      },
      "execution_count": 60,
      "outputs": [
        {
          "output_type": "execute_result",
          "data": {
            "text/plain": [
              "DatetimeIndex(['2000-01-01 00:00:00', '2000-01-01 04:00:00',\n",
              "               '2000-01-01 08:00:00', '2000-01-01 12:00:00',\n",
              "               '2000-01-01 16:00:00', '2000-01-01 20:00:00',\n",
              "               '2000-01-02 00:00:00', '2000-01-02 04:00:00',\n",
              "               '2000-01-02 08:00:00', '2000-01-02 12:00:00',\n",
              "               '2000-01-02 16:00:00', '2000-01-02 20:00:00',\n",
              "               '2000-01-03 00:00:00', '2000-01-03 04:00:00',\n",
              "               '2000-01-03 08:00:00', '2000-01-03 12:00:00',\n",
              "               '2000-01-03 16:00:00', '2000-01-03 20:00:00'],\n",
              "              dtype='datetime64[ns]', freq='4H')"
            ]
          },
          "metadata": {},
          "execution_count": 60
        }
      ]
    },
    {
      "cell_type": "code",
      "source": [
        "Hour(2) + Minute(30)"
      ],
      "metadata": {
        "colab": {
          "base_uri": "https://localhost:8080/"
        },
        "id": "8VWdZqdDhEcj",
        "outputId": "af7b48bd-a56d-4bdf-b00a-1ec31423dbf1"
      },
      "execution_count": 61,
      "outputs": [
        {
          "output_type": "execute_result",
          "data": {
            "text/plain": [
              "<150 * Minutes>"
            ]
          },
          "metadata": {},
          "execution_count": 61
        }
      ]
    },
    {
      "cell_type": "code",
      "source": [
        "pd.date_range('1/1/2000', periods=10, freq='1h30min')"
      ],
      "metadata": {
        "colab": {
          "base_uri": "https://localhost:8080/"
        },
        "id": "5UdBhYSqhHzS",
        "outputId": "32de4b92-c194-4960-d6dc-eeb35cb6b382"
      },
      "execution_count": 62,
      "outputs": [
        {
          "output_type": "execute_result",
          "data": {
            "text/plain": [
              "DatetimeIndex(['2000-01-01 00:00:00', '2000-01-01 01:30:00',\n",
              "               '2000-01-01 03:00:00', '2000-01-01 04:30:00',\n",
              "               '2000-01-01 06:00:00', '2000-01-01 07:30:00',\n",
              "               '2000-01-01 09:00:00', '2000-01-01 10:30:00',\n",
              "               '2000-01-01 12:00:00', '2000-01-01 13:30:00'],\n",
              "              dtype='datetime64[ns]', freq='90T')"
            ]
          },
          "metadata": {},
          "execution_count": 62
        }
      ]
    },
    {
      "cell_type": "markdown",
      "source": [
        "#### Week of month dates"
      ],
      "metadata": {
        "id": "b8_Hus5j0vJq"
      }
    },
    {
      "cell_type": "code",
      "source": [
        "rng = pd.date_range('1/1/2012', '9/1/2012', freq='WOM-3FRI')"
      ],
      "metadata": {
        "id": "u1UpQmFq2I5J"
      },
      "execution_count": 63,
      "outputs": []
    },
    {
      "cell_type": "code",
      "source": [
        "list(rng)"
      ],
      "metadata": {
        "colab": {
          "base_uri": "https://localhost:8080/"
        },
        "id": "Ne04Z1NMhR0M",
        "outputId": "b1f5d87b-de0f-4417-e3cb-f3bfe5c29c55"
      },
      "execution_count": 64,
      "outputs": [
        {
          "output_type": "execute_result",
          "data": {
            "text/plain": [
              "[Timestamp('2012-01-20 00:00:00', freq='WOM-3FRI'),\n",
              " Timestamp('2012-02-17 00:00:00', freq='WOM-3FRI'),\n",
              " Timestamp('2012-03-16 00:00:00', freq='WOM-3FRI'),\n",
              " Timestamp('2012-04-20 00:00:00', freq='WOM-3FRI'),\n",
              " Timestamp('2012-05-18 00:00:00', freq='WOM-3FRI'),\n",
              " Timestamp('2012-06-15 00:00:00', freq='WOM-3FRI'),\n",
              " Timestamp('2012-07-20 00:00:00', freq='WOM-3FRI'),\n",
              " Timestamp('2012-08-17 00:00:00', freq='WOM-3FRI')]"
            ]
          },
          "metadata": {},
          "execution_count": 64
        }
      ]
    },
    {
      "cell_type": "markdown",
      "source": [
        "### Shifting (Leading and Lagging) Data"
      ],
      "metadata": {
        "id": "lPlFE-dy00vW"
      }
    },
    {
      "cell_type": "code",
      "source": [
        "ts = Series(np.random.randn(4),index=pd.date_range('1/1/2000', periods=4, freq='M'))"
      ],
      "metadata": {
        "id": "zO4IAVlN2JZB"
      },
      "execution_count": 65,
      "outputs": []
    },
    {
      "cell_type": "code",
      "source": [
        "ts"
      ],
      "metadata": {
        "colab": {
          "base_uri": "https://localhost:8080/"
        },
        "id": "T4DEYXdLiMCV",
        "outputId": "df7751b3-5648-454c-8e87-83ff5a2253cf"
      },
      "execution_count": 66,
      "outputs": [
        {
          "output_type": "execute_result",
          "data": {
            "text/plain": [
              "2000-01-31   -0.866773\n",
              "2000-02-29   -1.189242\n",
              "2000-03-31   -0.056590\n",
              "2000-04-30    0.364079\n",
              "Freq: M, dtype: float64"
            ]
          },
          "metadata": {},
          "execution_count": 66
        }
      ]
    },
    {
      "cell_type": "code",
      "source": [
        "ts.shift(2)"
      ],
      "metadata": {
        "colab": {
          "base_uri": "https://localhost:8080/"
        },
        "id": "Leir2R8jiSVj",
        "outputId": "5d1224e9-d8d2-4bb4-cbbd-d0f5aebb5111"
      },
      "execution_count": 67,
      "outputs": [
        {
          "output_type": "execute_result",
          "data": {
            "text/plain": [
              "2000-01-31         NaN\n",
              "2000-02-29         NaN\n",
              "2000-03-31   -0.866773\n",
              "2000-04-30   -1.189242\n",
              "Freq: M, dtype: float64"
            ]
          },
          "metadata": {},
          "execution_count": 67
        }
      ]
    },
    {
      "cell_type": "code",
      "source": [
        "ts.shift(-2)"
      ],
      "metadata": {
        "colab": {
          "base_uri": "https://localhost:8080/"
        },
        "id": "vwHgrjJsiWjj",
        "outputId": "1bb06114-0b27-4888-a25a-c3ac508a3375"
      },
      "execution_count": 68,
      "outputs": [
        {
          "output_type": "execute_result",
          "data": {
            "text/plain": [
              "2000-01-31   -0.056590\n",
              "2000-02-29    0.364079\n",
              "2000-03-31         NaN\n",
              "2000-04-30         NaN\n",
              "Freq: M, dtype: float64"
            ]
          },
          "metadata": {},
          "execution_count": 68
        }
      ]
    },
    {
      "cell_type": "code",
      "source": [
        "ts.shift(2, freq='M')"
      ],
      "metadata": {
        "colab": {
          "base_uri": "https://localhost:8080/"
        },
        "id": "fgXhUgyZiaT3",
        "outputId": "4b73dec4-255b-40f4-efcf-3db164dc749b"
      },
      "execution_count": 69,
      "outputs": [
        {
          "output_type": "execute_result",
          "data": {
            "text/plain": [
              "2000-03-31   -0.866773\n",
              "2000-04-30   -1.189242\n",
              "2000-05-31   -0.056590\n",
              "2000-06-30    0.364079\n",
              "Freq: M, dtype: float64"
            ]
          },
          "metadata": {},
          "execution_count": 69
        }
      ]
    },
    {
      "cell_type": "code",
      "source": [
        "ts.shift(3, freq='D')"
      ],
      "metadata": {
        "colab": {
          "base_uri": "https://localhost:8080/"
        },
        "id": "6DXF3SokifSw",
        "outputId": "2be73c56-ce74-4142-d197-6e0e37dabc31"
      },
      "execution_count": 70,
      "outputs": [
        {
          "output_type": "execute_result",
          "data": {
            "text/plain": [
              "2000-02-03   -0.866773\n",
              "2000-03-03   -1.189242\n",
              "2000-04-03   -0.056590\n",
              "2000-05-03    0.364079\n",
              "dtype: float64"
            ]
          },
          "metadata": {},
          "execution_count": 70
        }
      ]
    },
    {
      "cell_type": "code",
      "source": [
        "ts.shift(1, freq='3D')"
      ],
      "metadata": {
        "colab": {
          "base_uri": "https://localhost:8080/"
        },
        "id": "sUQcvn99i3TO",
        "outputId": "ffa00895-f7f9-4ac7-84db-fbe9041dc8fe"
      },
      "execution_count": 71,
      "outputs": [
        {
          "output_type": "execute_result",
          "data": {
            "text/plain": [
              "2000-02-03   -0.866773\n",
              "2000-03-03   -1.189242\n",
              "2000-04-03   -0.056590\n",
              "2000-05-03    0.364079\n",
              "dtype: float64"
            ]
          },
          "metadata": {},
          "execution_count": 71
        }
      ]
    },
    {
      "cell_type": "code",
      "source": [
        "ts.shift(1, freq='90T')"
      ],
      "metadata": {
        "colab": {
          "base_uri": "https://localhost:8080/"
        },
        "id": "LmFO46gCijK2",
        "outputId": "102f0f30-0d27-4c39-f534-ceee3462a940"
      },
      "execution_count": 72,
      "outputs": [
        {
          "output_type": "execute_result",
          "data": {
            "text/plain": [
              "2000-01-31 01:30:00   -0.866773\n",
              "2000-02-29 01:30:00   -1.189242\n",
              "2000-03-31 01:30:00   -0.056590\n",
              "2000-04-30 01:30:00    0.364079\n",
              "dtype: float64"
            ]
          },
          "metadata": {},
          "execution_count": 72
        }
      ]
    },
    {
      "cell_type": "markdown",
      "source": [
        "#### Shifting dates with offsets"
      ],
      "metadata": {
        "id": "E2jYP9KM04f3"
      }
    },
    {
      "cell_type": "code",
      "source": [
        "from pandas.tseries.offsets import Day, MonthEnd"
      ],
      "metadata": {
        "id": "qQS0qTP1inaW"
      },
      "execution_count": 73,
      "outputs": []
    },
    {
      "cell_type": "code",
      "source": [
        "now = datetime(2011, 11, 17)"
      ],
      "metadata": {
        "id": "-RDl5nYEiqZh"
      },
      "execution_count": 74,
      "outputs": []
    },
    {
      "cell_type": "code",
      "source": [
        "now + 3 * Day()"
      ],
      "metadata": {
        "colab": {
          "base_uri": "https://localhost:8080/"
        },
        "id": "PIu7eRPpjFhL",
        "outputId": "c5944c2a-4286-40c2-a450-6e268c004a62"
      },
      "execution_count": 75,
      "outputs": [
        {
          "output_type": "execute_result",
          "data": {
            "text/plain": [
              "Timestamp('2011-11-20 00:00:00')"
            ]
          },
          "metadata": {},
          "execution_count": 75
        }
      ]
    },
    {
      "cell_type": "code",
      "source": [
        "now + MonthEnd()"
      ],
      "metadata": {
        "colab": {
          "base_uri": "https://localhost:8080/"
        },
        "id": "mDDNoeaijIMt",
        "outputId": "2b326a9d-2723-4f88-de75-dc06560b08c0"
      },
      "execution_count": 76,
      "outputs": [
        {
          "output_type": "execute_result",
          "data": {
            "text/plain": [
              "Timestamp('2011-11-30 00:00:00')"
            ]
          },
          "metadata": {},
          "execution_count": 76
        }
      ]
    },
    {
      "cell_type": "code",
      "source": [
        "now + MonthEnd(2)"
      ],
      "metadata": {
        "colab": {
          "base_uri": "https://localhost:8080/"
        },
        "id": "_Idf9jVBjKdv",
        "outputId": "7a904b69-616d-40d1-ecd5-dabb6656c6f5"
      },
      "execution_count": 77,
      "outputs": [
        {
          "output_type": "execute_result",
          "data": {
            "text/plain": [
              "Timestamp('2011-12-31 00:00:00')"
            ]
          },
          "metadata": {},
          "execution_count": 77
        }
      ]
    },
    {
      "cell_type": "code",
      "source": [
        "offset = MonthEnd()"
      ],
      "metadata": {
        "id": "PPqPPPh_jNHJ"
      },
      "execution_count": 78,
      "outputs": []
    },
    {
      "cell_type": "code",
      "source": [
        "offset.rollforward(now)"
      ],
      "metadata": {
        "colab": {
          "base_uri": "https://localhost:8080/"
        },
        "id": "yUBlHjNZjPNr",
        "outputId": "5498f6fd-212f-4ad5-8289-69337c36ac29"
      },
      "execution_count": 79,
      "outputs": [
        {
          "output_type": "execute_result",
          "data": {
            "text/plain": [
              "Timestamp('2011-11-30 00:00:00')"
            ]
          },
          "metadata": {},
          "execution_count": 79
        }
      ]
    },
    {
      "cell_type": "code",
      "source": [
        "offset.rollback(now)"
      ],
      "metadata": {
        "colab": {
          "base_uri": "https://localhost:8080/"
        },
        "id": "AEFAthlujRYN",
        "outputId": "d50a6355-a575-4809-b90e-45649eb3edd2"
      },
      "execution_count": 80,
      "outputs": [
        {
          "output_type": "execute_result",
          "data": {
            "text/plain": [
              "Timestamp('2011-10-31 00:00:00')"
            ]
          },
          "metadata": {},
          "execution_count": 80
        }
      ]
    },
    {
      "cell_type": "code",
      "source": [
        "ts = Series(np.random.randn(20),index=pd.date_range('1/15/2000', periods=20, freq='4d'))"
      ],
      "metadata": {
        "id": "FyDMR7MpjWt9"
      },
      "execution_count": 81,
      "outputs": []
    },
    {
      "cell_type": "code",
      "source": [
        "ts.groupby(offset.rollforward).mean()"
      ],
      "metadata": {
        "colab": {
          "base_uri": "https://localhost:8080/"
        },
        "id": "r3l13JZsja66",
        "outputId": "55142e3f-1822-4df2-f46f-cdad62620434"
      },
      "execution_count": 82,
      "outputs": [
        {
          "output_type": "execute_result",
          "data": {
            "text/plain": [
              "2000-01-31   -0.172249\n",
              "2000-02-29   -0.041236\n",
              "2000-03-31   -0.304855\n",
              "dtype: float64"
            ]
          },
          "metadata": {},
          "execution_count": 82
        }
      ]
    },
    {
      "cell_type": "code",
      "source": [
        "ts.resample('M').mean()"
      ],
      "metadata": {
        "colab": {
          "base_uri": "https://localhost:8080/"
        },
        "id": "tYt7FSaLjecw",
        "outputId": "fe25000f-dbf8-4df8-bf7e-f7af1d3586e7"
      },
      "execution_count": 83,
      "outputs": [
        {
          "output_type": "execute_result",
          "data": {
            "text/plain": [
              "2000-01-31   -0.172249\n",
              "2000-02-29   -0.041236\n",
              "2000-03-31   -0.304855\n",
              "Freq: M, dtype: float64"
            ]
          },
          "metadata": {},
          "execution_count": 83
        }
      ]
    },
    {
      "cell_type": "markdown",
      "source": [
        "## Time Zone Handling"
      ],
      "metadata": {
        "id": "auWW72f407qQ"
      }
    },
    {
      "cell_type": "code",
      "source": [
        "import pytz\n",
        "pytz.common_timezones[-5:]"
      ],
      "metadata": {
        "id": "IfcW-DWZ2KWs",
        "colab": {
          "base_uri": "https://localhost:8080/"
        },
        "outputId": "58027a6d-a713-40c1-ae06-b79373bf12c0"
      },
      "execution_count": 84,
      "outputs": [
        {
          "output_type": "execute_result",
          "data": {
            "text/plain": [
              "['US/Eastern', 'US/Hawaii', 'US/Mountain', 'US/Pacific', 'UTC']"
            ]
          },
          "metadata": {},
          "execution_count": 84
        }
      ]
    },
    {
      "cell_type": "code",
      "source": [
        "tz = pytz.timezone('US/Eastern')\n",
        "tz"
      ],
      "metadata": {
        "colab": {
          "base_uri": "https://localhost:8080/"
        },
        "id": "khoaR_FIly8g",
        "outputId": "c266b7c6-ef06-4d33-b992-d19e6db86a26"
      },
      "execution_count": 85,
      "outputs": [
        {
          "output_type": "execute_result",
          "data": {
            "text/plain": [
              "<DstTzInfo 'US/Eastern' LMT-1 day, 19:04:00 STD>"
            ]
          },
          "metadata": {},
          "execution_count": 85
        }
      ]
    },
    {
      "cell_type": "markdown",
      "source": [
        "### Localization and Conversion"
      ],
      "metadata": {
        "id": "CYTrm-v-1A4V"
      }
    },
    {
      "cell_type": "code",
      "source": [
        "rng = pd.date_range('3/9/2012 9:30', periods=6, freq='D')\n",
        "ts = pd.Series(np.random.randn(len(rng)), index=rng)\n",
        "ts"
      ],
      "metadata": {
        "id": "ak-9P5BG2Lu6",
        "colab": {
          "base_uri": "https://localhost:8080/"
        },
        "outputId": "215a2ec2-0ff2-4020-ef3b-9e935613fbf5"
      },
      "execution_count": 86,
      "outputs": [
        {
          "output_type": "execute_result",
          "data": {
            "text/plain": [
              "2012-03-09 09:30:00   -0.799444\n",
              "2012-03-10 09:30:00   -0.324228\n",
              "2012-03-11 09:30:00   -0.627089\n",
              "2012-03-12 09:30:00   -0.249856\n",
              "2012-03-13 09:30:00    0.505119\n",
              "2012-03-14 09:30:00    1.921630\n",
              "Freq: D, dtype: float64"
            ]
          },
          "metadata": {},
          "execution_count": 86
        }
      ]
    },
    {
      "cell_type": "code",
      "source": [
        "print(ts.index.tz)"
      ],
      "metadata": {
        "colab": {
          "base_uri": "https://localhost:8080/"
        },
        "id": "kIzdT5NpniRI",
        "outputId": "61b4ddb9-a766-455b-f659-a5d250a80857"
      },
      "execution_count": 87,
      "outputs": [
        {
          "output_type": "stream",
          "name": "stdout",
          "text": [
            "None\n"
          ]
        }
      ]
    },
    {
      "cell_type": "code",
      "source": [
        "pd.date_range('3/9/2012 9:30', periods=10, freq='D', tz='UTC')"
      ],
      "metadata": {
        "colab": {
          "base_uri": "https://localhost:8080/"
        },
        "id": "W1dKYOSMnpqt",
        "outputId": "3c1acd95-c10c-4e42-df09-b10752246c9f"
      },
      "execution_count": 88,
      "outputs": [
        {
          "output_type": "execute_result",
          "data": {
            "text/plain": [
              "DatetimeIndex(['2012-03-09 09:30:00+00:00', '2012-03-10 09:30:00+00:00',\n",
              "               '2012-03-11 09:30:00+00:00', '2012-03-12 09:30:00+00:00',\n",
              "               '2012-03-13 09:30:00+00:00', '2012-03-14 09:30:00+00:00',\n",
              "               '2012-03-15 09:30:00+00:00', '2012-03-16 09:30:00+00:00',\n",
              "               '2012-03-17 09:30:00+00:00', '2012-03-18 09:30:00+00:00'],\n",
              "              dtype='datetime64[ns, UTC]', freq='D')"
            ]
          },
          "metadata": {},
          "execution_count": 88
        }
      ]
    },
    {
      "cell_type": "code",
      "source": [
        "ts_utc = ts.tz_localize('UTC')\n",
        "ts_utc"
      ],
      "metadata": {
        "colab": {
          "base_uri": "https://localhost:8080/"
        },
        "id": "mwvLUlVonvaq",
        "outputId": "4e476440-01c9-49dd-edf1-854dcce85046"
      },
      "execution_count": 89,
      "outputs": [
        {
          "output_type": "execute_result",
          "data": {
            "text/plain": [
              "2012-03-09 09:30:00+00:00   -0.799444\n",
              "2012-03-10 09:30:00+00:00   -0.324228\n",
              "2012-03-11 09:30:00+00:00   -0.627089\n",
              "2012-03-12 09:30:00+00:00   -0.249856\n",
              "2012-03-13 09:30:00+00:00    0.505119\n",
              "2012-03-14 09:30:00+00:00    1.921630\n",
              "Freq: D, dtype: float64"
            ]
          },
          "metadata": {},
          "execution_count": 89
        }
      ]
    },
    {
      "cell_type": "code",
      "source": [
        "ts_utc.index"
      ],
      "metadata": {
        "colab": {
          "base_uri": "https://localhost:8080/"
        },
        "id": "AhqNL6WnpaOq",
        "outputId": "e2578710-f639-4463-9f18-d08757e1bb1e"
      },
      "execution_count": 90,
      "outputs": [
        {
          "output_type": "execute_result",
          "data": {
            "text/plain": [
              "DatetimeIndex(['2012-03-09 09:30:00+00:00', '2012-03-10 09:30:00+00:00',\n",
              "               '2012-03-11 09:30:00+00:00', '2012-03-12 09:30:00+00:00',\n",
              "               '2012-03-13 09:30:00+00:00', '2012-03-14 09:30:00+00:00'],\n",
              "              dtype='datetime64[ns, UTC]', freq='D')"
            ]
          },
          "metadata": {},
          "execution_count": 90
        }
      ]
    },
    {
      "cell_type": "code",
      "source": [
        "ts_utc.tz_convert('US/Eastern')"
      ],
      "metadata": {
        "colab": {
          "base_uri": "https://localhost:8080/"
        },
        "id": "fia8fkNZpoLt",
        "outputId": "c3da4f22-c670-430a-e0d1-fea3fedecdcb"
      },
      "execution_count": 91,
      "outputs": [
        {
          "output_type": "execute_result",
          "data": {
            "text/plain": [
              "2012-03-09 04:30:00-05:00   -0.799444\n",
              "2012-03-10 04:30:00-05:00   -0.324228\n",
              "2012-03-11 05:30:00-04:00   -0.627089\n",
              "2012-03-12 05:30:00-04:00   -0.249856\n",
              "2012-03-13 05:30:00-04:00    0.505119\n",
              "2012-03-14 05:30:00-04:00    1.921630\n",
              "Freq: D, dtype: float64"
            ]
          },
          "metadata": {},
          "execution_count": 91
        }
      ]
    },
    {
      "cell_type": "code",
      "source": [
        "ts_eastern = ts.tz_localize('US/Eastern')\n",
        "ts_eastern.tz_convert('UTC')"
      ],
      "metadata": {
        "colab": {
          "base_uri": "https://localhost:8080/"
        },
        "id": "04vUhckKpxxE",
        "outputId": "cbd1e851-5b9b-4736-d131-d275343afd2b"
      },
      "execution_count": 92,
      "outputs": [
        {
          "output_type": "execute_result",
          "data": {
            "text/plain": [
              "2012-03-09 14:30:00+00:00   -0.799444\n",
              "2012-03-10 14:30:00+00:00   -0.324228\n",
              "2012-03-11 13:30:00+00:00   -0.627089\n",
              "2012-03-12 13:30:00+00:00   -0.249856\n",
              "2012-03-13 13:30:00+00:00    0.505119\n",
              "2012-03-14 13:30:00+00:00    1.921630\n",
              "dtype: float64"
            ]
          },
          "metadata": {},
          "execution_count": 92
        }
      ]
    },
    {
      "cell_type": "code",
      "source": [
        "ts_eastern.tz_convert('Europe/Berlin')"
      ],
      "metadata": {
        "colab": {
          "base_uri": "https://localhost:8080/"
        },
        "id": "yDb_-oOLp32F",
        "outputId": "806318b4-78fe-44e7-8b15-3926fe3005f6"
      },
      "execution_count": 93,
      "outputs": [
        {
          "output_type": "execute_result",
          "data": {
            "text/plain": [
              "2012-03-09 15:30:00+01:00   -0.799444\n",
              "2012-03-10 15:30:00+01:00   -0.324228\n",
              "2012-03-11 14:30:00+01:00   -0.627089\n",
              "2012-03-12 14:30:00+01:00   -0.249856\n",
              "2012-03-13 14:30:00+01:00    0.505119\n",
              "2012-03-14 14:30:00+01:00    1.921630\n",
              "dtype: float64"
            ]
          },
          "metadata": {},
          "execution_count": 93
        }
      ]
    },
    {
      "cell_type": "code",
      "source": [
        "ts.index.tz_localize('Asia/Shanghai')"
      ],
      "metadata": {
        "colab": {
          "base_uri": "https://localhost:8080/"
        },
        "id": "EGl47ucbqAN0",
        "outputId": "73cca6b3-2b1a-4ef8-e8b2-aae5820fad30"
      },
      "execution_count": 94,
      "outputs": [
        {
          "output_type": "execute_result",
          "data": {
            "text/plain": [
              "DatetimeIndex(['2012-03-09 09:30:00+08:00', '2012-03-10 09:30:00+08:00',\n",
              "               '2012-03-11 09:30:00+08:00', '2012-03-12 09:30:00+08:00',\n",
              "               '2012-03-13 09:30:00+08:00', '2012-03-14 09:30:00+08:00'],\n",
              "              dtype='datetime64[ns, Asia/Shanghai]', freq=None)"
            ]
          },
          "metadata": {},
          "execution_count": 94
        }
      ]
    },
    {
      "cell_type": "markdown",
      "source": [
        "### Operations with Time Zone−aware Timestamp Objects"
      ],
      "metadata": {
        "id": "phYk8bPw1Dlm"
      }
    },
    {
      "cell_type": "code",
      "source": [
        "stamp = pd.Timestamp('2011-03-12 04:00')\n",
        "stamp_utc = stamp.tz_localize('utc')\n",
        "stamp_utc.tz_convert('US/Eastern')"
      ],
      "metadata": {
        "id": "xJHP4Xzl2MHL",
        "colab": {
          "base_uri": "https://localhost:8080/"
        },
        "outputId": "2a975697-204b-4b63-e307-bf9451ad5ee9"
      },
      "execution_count": 95,
      "outputs": [
        {
          "output_type": "execute_result",
          "data": {
            "text/plain": [
              "Timestamp('2011-03-11 23:00:00-0500', tz='US/Eastern')"
            ]
          },
          "metadata": {},
          "execution_count": 95
        }
      ]
    },
    {
      "cell_type": "code",
      "source": [
        "stamp_moscow = pd.Timestamp('2011-03-12 04:00', tz='Europe/Moscow')\n",
        "stamp_moscow"
      ],
      "metadata": {
        "colab": {
          "base_uri": "https://localhost:8080/"
        },
        "id": "WTAwfktiqKOQ",
        "outputId": "4b32b499-8f17-4814-db32-3897d8d79523"
      },
      "execution_count": 96,
      "outputs": [
        {
          "output_type": "execute_result",
          "data": {
            "text/plain": [
              "Timestamp('2011-03-12 04:00:00+0300', tz='Europe/Moscow')"
            ]
          },
          "metadata": {},
          "execution_count": 96
        }
      ]
    },
    {
      "cell_type": "code",
      "source": [
        "stamp_utc.value"
      ],
      "metadata": {
        "colab": {
          "base_uri": "https://localhost:8080/"
        },
        "id": "ORPj9QnfqSGk",
        "outputId": "9b0b7143-86b6-4fb7-9cda-0e6ca7903dd5"
      },
      "execution_count": 97,
      "outputs": [
        {
          "output_type": "execute_result",
          "data": {
            "text/plain": [
              "1299902400000000000"
            ]
          },
          "metadata": {},
          "execution_count": 97
        }
      ]
    },
    {
      "cell_type": "code",
      "source": [
        "stamp_utc.tz_convert('US/Eastern').value"
      ],
      "metadata": {
        "colab": {
          "base_uri": "https://localhost:8080/"
        },
        "id": "5AogRnPRqfCT",
        "outputId": "f21c469d-1fda-4c73-9889-3e6b082fac9f"
      },
      "execution_count": 98,
      "outputs": [
        {
          "output_type": "execute_result",
          "data": {
            "text/plain": [
              "1299902400000000000"
            ]
          },
          "metadata": {},
          "execution_count": 98
        }
      ]
    },
    {
      "cell_type": "code",
      "source": [
        "# 30 minutes before DST transition\n",
        "from pandas.tseries.offsets import Hour\n",
        "stamp = pd.Timestamp('2012-03-12 01:30', tz='US/Eastern')\n",
        "stamp\n",
        "stamp + Hour()"
      ],
      "metadata": {
        "colab": {
          "base_uri": "https://localhost:8080/"
        },
        "id": "788-83xGqg7E",
        "outputId": "8c729302-dbe4-478f-a344-70218a4fb89d"
      },
      "execution_count": 99,
      "outputs": [
        {
          "output_type": "execute_result",
          "data": {
            "text/plain": [
              "Timestamp('2012-03-12 02:30:00-0400', tz='US/Eastern')"
            ]
          },
          "metadata": {},
          "execution_count": 99
        }
      ]
    },
    {
      "cell_type": "code",
      "source": [
        "stamp = pd.Timestamp('2012-11-04 00:30', tz='US/Eastern')\n",
        "stamp"
      ],
      "metadata": {
        "colab": {
          "base_uri": "https://localhost:8080/"
        },
        "id": "qoASc4Zjql9P",
        "outputId": "3b348c46-3469-48ae-8ecb-8d5cb44e5ae4"
      },
      "execution_count": 100,
      "outputs": [
        {
          "output_type": "execute_result",
          "data": {
            "text/plain": [
              "Timestamp('2012-11-04 00:30:00-0400', tz='US/Eastern')"
            ]
          },
          "metadata": {},
          "execution_count": 100
        }
      ]
    },
    {
      "cell_type": "code",
      "source": [
        "stamp + 2 * Hour()"
      ],
      "metadata": {
        "colab": {
          "base_uri": "https://localhost:8080/"
        },
        "id": "dVCQhXkJtBw5",
        "outputId": "177070aa-4bbc-47ed-dae9-0b5fb6d5bce7"
      },
      "execution_count": 101,
      "outputs": [
        {
          "output_type": "execute_result",
          "data": {
            "text/plain": [
              "Timestamp('2012-11-04 01:30:00-0500', tz='US/Eastern')"
            ]
          },
          "metadata": {},
          "execution_count": 101
        }
      ]
    },
    {
      "cell_type": "markdown",
      "source": [
        "### Operations between Different Time Zones"
      ],
      "metadata": {
        "id": "NIpj1fS21G2e"
      }
    },
    {
      "cell_type": "code",
      "source": [
        "rng = pd.date_range('3/7/2012 9:30', periods=10, freq='B')\n",
        "ts = pd.Series(np.random.randn(len(rng)), index=rng)\n",
        "ts"
      ],
      "metadata": {
        "id": "JrNk4AM-2My7",
        "colab": {
          "base_uri": "https://localhost:8080/"
        },
        "outputId": "4c95c02e-6951-4077-81ce-dcf10e8f47c9"
      },
      "execution_count": 102,
      "outputs": [
        {
          "output_type": "execute_result",
          "data": {
            "text/plain": [
              "2012-03-07 09:30:00    0.100706\n",
              "2012-03-08 09:30:00    2.720641\n",
              "2012-03-09 09:30:00   -0.909360\n",
              "2012-03-12 09:30:00    0.356147\n",
              "2012-03-13 09:30:00   -0.416827\n",
              "2012-03-14 09:30:00   -0.204772\n",
              "2012-03-15 09:30:00   -0.043217\n",
              "2012-03-16 09:30:00   -0.390806\n",
              "2012-03-19 09:30:00    0.274557\n",
              "2012-03-20 09:30:00    1.434568\n",
              "Freq: B, dtype: float64"
            ]
          },
          "metadata": {},
          "execution_count": 102
        }
      ]
    },
    {
      "cell_type": "code",
      "source": [
        "ts1 = ts[:7].tz_localize('Europe/London')\n",
        "ts2 = ts1[2:].tz_convert('Europe/Moscow')\n",
        "result = ts1 + ts2\n",
        "result.index"
      ],
      "metadata": {
        "colab": {
          "base_uri": "https://localhost:8080/"
        },
        "id": "uAe2ToSYt8w5",
        "outputId": "af3e529f-2ce7-447a-84e0-2310e42376e7"
      },
      "execution_count": 103,
      "outputs": [
        {
          "output_type": "execute_result",
          "data": {
            "text/plain": [
              "DatetimeIndex(['2012-03-07 09:30:00+00:00', '2012-03-08 09:30:00+00:00',\n",
              "               '2012-03-09 09:30:00+00:00', '2012-03-12 09:30:00+00:00',\n",
              "               '2012-03-13 09:30:00+00:00', '2012-03-14 09:30:00+00:00',\n",
              "               '2012-03-15 09:30:00+00:00'],\n",
              "              dtype='datetime64[ns, UTC]', freq=None)"
            ]
          },
          "metadata": {},
          "execution_count": 103
        }
      ]
    },
    {
      "cell_type": "markdown",
      "source": [
        "## Periods and Period Arithmetic"
      ],
      "metadata": {
        "id": "hZhEYh4-1J57"
      }
    },
    {
      "cell_type": "markdown",
      "source": [
        "Khoảng thời gian biểu thị thời gian như ngày, tháng, quý hoặc năm. Lớp Period\n",
        "cần được truyền vào 1 chuỗi hoặc số nguyên và tham số freq"
      ],
      "metadata": {
        "id": "jI13_6XS55-r"
      }
    },
    {
      "cell_type": "code",
      "source": [
        "from datetime import datetime\n",
        "import pandas as pd\n",
        "import numpy as np\n",
        "from pandas import Series\n",
        "p = pd.Period('2007', freq='A-DEC')\n",
        "p\n"
      ],
      "metadata": {
        "colab": {
          "base_uri": "https://localhost:8080/"
        },
        "id": "_AMUioQj53r9",
        "outputId": "c8ef0398-f670-4b4f-d1c1-6a549589b70e"
      },
      "execution_count": 104,
      "outputs": [
        {
          "output_type": "execute_result",
          "data": {
            "text/plain": [
              "Period('2007', 'A-DEC')"
            ]
          },
          "metadata": {},
          "execution_count": 104
        }
      ]
    },
    {
      "cell_type": "markdown",
      "source": [
        "Trong trường hợp này, đối tượng Period biểu diễn toàn bộ khoảng thời gian từ 1/1/2007 đến 31/12/2007. Và cái việc này nó rất là tiện lợi cho việc cộng trừ số nguyên từ các period có tác dụng dịch chuyển theo tần số của chúng."
      ],
      "metadata": {
        "id": "Z0XtiVS26r8N"
      }
    },
    {
      "cell_type": "code",
      "source": [
        "p + 5 "
      ],
      "metadata": {
        "colab": {
          "base_uri": "https://localhost:8080/"
        },
        "id": "ckMOqB4i6t7t",
        "outputId": "e31dacd0-c058-4459-82ff-16b66be73742"
      },
      "execution_count": 105,
      "outputs": [
        {
          "output_type": "execute_result",
          "data": {
            "text/plain": [
              "Period('2012', 'A-DEC')"
            ]
          },
          "metadata": {},
          "execution_count": 105
        }
      ]
    },
    {
      "cell_type": "code",
      "source": [
        "p - 2"
      ],
      "metadata": {
        "colab": {
          "base_uri": "https://localhost:8080/"
        },
        "id": "eghM3g1P6zFd",
        "outputId": "273d6948-e403-48d1-d13f-eccf5033ecc2"
      },
      "execution_count": 106,
      "outputs": [
        {
          "output_type": "execute_result",
          "data": {
            "text/plain": [
              "Period('2005', 'A-DEC')"
            ]
          },
          "metadata": {},
          "execution_count": 106
        }
      ]
    },
    {
      "cell_type": "markdown",
      "source": [
        "Nếu hai chu kỳ có cùng tần số, sự khác nhau giữa chúng là số những đơn vị giữa chúng:"
      ],
      "metadata": {
        "id": "VlOrDe3s62sZ"
      }
    },
    {
      "cell_type": "code",
      "source": [
        "pd.Period('2014', freq='A-DEC') - p"
      ],
      "metadata": {
        "colab": {
          "base_uri": "https://localhost:8080/"
        },
        "id": "jt8S10Gl63en",
        "outputId": "fca76ddc-469b-4058-bf5e-834c96c03d3e"
      },
      "execution_count": 107,
      "outputs": [
        {
          "output_type": "execute_result",
          "data": {
            "text/plain": [
              "<7 * YearEnds: month=12>"
            ]
          },
          "metadata": {},
          "execution_count": 107
        }
      ]
    },
    {
      "cell_type": "markdown",
      "source": [
        "Phạm vi chu kỳ thông thường có thể được tạo bằng cách sử dụng hàm period\\_range:"
      ],
      "metadata": {
        "id": "nlU39YD966is"
      }
    },
    {
      "cell_type": "code",
      "source": [
        "rng = pd.period_range('1/1/2000', '6/30/2000', freq='M')\n",
        "rng"
      ],
      "metadata": {
        "colab": {
          "base_uri": "https://localhost:8080/"
        },
        "id": "QLUvtF8e68Yq",
        "outputId": "c54492c9-be4c-47c3-a5f5-07763dae03c9"
      },
      "execution_count": 108,
      "outputs": [
        {
          "output_type": "execute_result",
          "data": {
            "text/plain": [
              "PeriodIndex(['2000-01', '2000-02', '2000-03', '2000-04', '2000-05', '2000-06'], dtype='period[M]')"
            ]
          },
          "metadata": {},
          "execution_count": 108
        }
      ]
    },
    {
      "cell_type": "markdown",
      "source": [
        "Lớp PeriodIndex lưu trữ một chuỗi các khoảng thời gian và có thể phục vụ như chỉ số trục trong bất kỳ cấu trúc dữ liệu Pandas nào:"
      ],
      "metadata": {
        "id": "IsWYskLw6_rv"
      }
    },
    {
      "cell_type": "code",
      "source": [
        "Series(np.random.randn(6), index=rng)"
      ],
      "metadata": {
        "colab": {
          "base_uri": "https://localhost:8080/"
        },
        "id": "UZ6tCkRV7DwV",
        "outputId": "980252f4-89fd-4ca4-c66b-7fb2ec24f266"
      },
      "execution_count": 109,
      "outputs": [
        {
          "output_type": "execute_result",
          "data": {
            "text/plain": [
              "2000-01   -1.240043\n",
              "2000-02   -1.591546\n",
              "2000-03    0.254422\n",
              "2000-04    0.166401\n",
              "2000-05    0.242503\n",
              "2000-06    0.642421\n",
              "Freq: M, dtype: float64"
            ]
          },
          "metadata": {},
          "execution_count": 109
        }
      ]
    },
    {
      "cell_type": "markdown",
      "source": [
        "Nếu bạn có một mảng các chuỗi, bạn cũng có thể kháng nghị chính lớp PeriodIndex:"
      ],
      "metadata": {
        "id": "TyobxV507M2r"
      }
    },
    {
      "cell_type": "code",
      "source": [
        "values = ['2001Q3', '2002Q2', '2003Q1']\n",
        "index = pd.PeriodIndex(values, freq='Q-DEC')\n",
        "index"
      ],
      "metadata": {
        "colab": {
          "base_uri": "https://localhost:8080/"
        },
        "id": "62KuQdS37PTJ",
        "outputId": "5b2eabf9-6ea3-4627-9c1c-ce5e114c1a55"
      },
      "execution_count": 110,
      "outputs": [
        {
          "output_type": "execute_result",
          "data": {
            "text/plain": [
              "PeriodIndex(['2001Q3', '2002Q2', '2003Q1'], dtype='period[Q-DEC]')"
            ]
          },
          "metadata": {},
          "execution_count": 110
        }
      ]
    },
    {
      "cell_type": "markdown",
      "source": [
        "### Period Frequency Conversion"
      ],
      "metadata": {
        "id": "pSSmlQUT1N55"
      }
    },
    {
      "cell_type": "markdown",
      "source": [
        "Các đối tượng Chu kỳ có thể được chuyển đổi sang tần số khác bằng cách sử dụng phương thức asfreq. Ví dụ: giả sử chúng tôi có một khoảng thời gian hàng năm và muốn chuyển đổi nó vào một khoảng thời gian hàng tháng vào đầu hoặc cuối năm. Đây là phường khá đơn giản:"
      ],
      "metadata": {
        "id": "b6yCO2kq7Y3_"
      }
    },
    {
      "cell_type": "code",
      "source": [
        "p=pd.Period('2007', freq='A-DEC')\n",
        "p.asfreq('M', how='start')"
      ],
      "metadata": {
        "id": "wO3YyjJy2N6K",
        "colab": {
          "base_uri": "https://localhost:8080/"
        },
        "outputId": "051408b3-8369-43a9-cf66-84fe84a0a153"
      },
      "execution_count": 111,
      "outputs": [
        {
          "output_type": "execute_result",
          "data": {
            "text/plain": [
              "Period('2007-01', 'M')"
            ]
          },
          "metadata": {},
          "execution_count": 111
        }
      ]
    },
    {
      "cell_type": "code",
      "source": [
        "p=pd.Period('2007', freq='A-DEC')\n",
        "p.asfreq('M', how='end')"
      ],
      "metadata": {
        "colab": {
          "base_uri": "https://localhost:8080/"
        },
        "id": "R2Csd9BI7fTK",
        "outputId": "16b8adbb-d2d8-42a9-d40b-c9fe6af1bcd6"
      },
      "execution_count": 112,
      "outputs": [
        {
          "output_type": "execute_result",
          "data": {
            "text/plain": [
              "Period('2007-12', 'M')"
            ]
          },
          "metadata": {},
          "execution_count": 112
        }
      ]
    },
    {
      "cell_type": "markdown",
      "source": [
        "Ta có thể thấy Period('2007', 'A-DEC') là một con trỏ trỏ đến khoảng thời gian\n",
        "được chia nhỏ cho hằng tháng. Đối với những năm kết thúc vào tháng mà không phải\n",
        "tháng 12, các kỳ , giai đoạn của tháng khác nhau:"
      ],
      "metadata": {
        "id": "-zS7_y1j7iNm"
      }
    },
    {
      "cell_type": "code",
      "source": [
        "p = pd.Period('2007', freq='A-JUN')\n",
        "p.asfreq('M', 'start')"
      ],
      "metadata": {
        "colab": {
          "base_uri": "https://localhost:8080/"
        },
        "id": "w0Z9Cocj7jEj",
        "outputId": "73a2c4b4-0e1e-4f47-abc1-fed0f895a740"
      },
      "execution_count": 113,
      "outputs": [
        {
          "output_type": "execute_result",
          "data": {
            "text/plain": [
              "Period('2006-07', 'M')"
            ]
          },
          "metadata": {},
          "execution_count": 113
        }
      ]
    },
    {
      "cell_type": "code",
      "source": [
        "p = pd.Period('2007', freq='A-JUN')\n",
        "p.asfreq('M', 'end')"
      ],
      "metadata": {
        "colab": {
          "base_uri": "https://localhost:8080/"
        },
        "id": "YW2DEG677rsz",
        "outputId": "73870cb0-decf-455c-9c66-be1f1fb71711"
      },
      "execution_count": 114,
      "outputs": [
        {
          "output_type": "execute_result",
          "data": {
            "text/plain": [
              "Period('2007-06', 'M')"
            ]
          },
          "metadata": {},
          "execution_count": 114
        }
      ]
    },
    {
      "cell_type": "markdown",
      "source": [
        "Khi chuyển đổi từ tần số cao sang thấp, siêu chu kỳ sẽ được xác định tại nơi\n",
        "thuộc về các chu kỳ con. Ví dụ, vào chu kỳ A-JUN tháng 8 năm 2007 thực chất\n",
        "là một phần của năm 2008:"
      ],
      "metadata": {
        "id": "Ftx75bld7uZL"
      }
    },
    {
      "cell_type": "code",
      "source": [
        "p = pd.Period('2007-08', 'M')\n",
        "p.asfreq('A-JUN')"
      ],
      "metadata": {
        "colab": {
          "base_uri": "https://localhost:8080/"
        },
        "id": "kHSbPi-771r3",
        "outputId": "c7c90eb6-1341-49f0-b5a4-a395684a0812"
      },
      "execution_count": 115,
      "outputs": [
        {
          "output_type": "execute_result",
          "data": {
            "text/plain": [
              "Period('2008', 'A-JUN')"
            ]
          },
          "metadata": {},
          "execution_count": 115
        }
      ]
    },
    {
      "cell_type": "markdown",
      "source": [
        "Toàn bộ các đối tượng PeriodIndex hay TimeSeries có thể chuyển đổi cùng một\n",
        "cách:"
      ],
      "metadata": {
        "id": "aAOeS73D75o0"
      }
    },
    {
      "cell_type": "code",
      "source": [
        "rng = pd.period_range('2006', '2009', freq='A-DEC')\n",
        "ts = Series(np.random.randn(len(rng)), index=rng)\n",
        "ts"
      ],
      "metadata": {
        "colab": {
          "base_uri": "https://localhost:8080/"
        },
        "id": "XQD3pFSc77M_",
        "outputId": "2356c969-1b2d-4445-95c4-ec7006f38a40"
      },
      "execution_count": 116,
      "outputs": [
        {
          "output_type": "execute_result",
          "data": {
            "text/plain": [
              "2006   -0.210824\n",
              "2007    1.203972\n",
              "2008    1.199234\n",
              "2009   -0.427992\n",
              "Freq: A-DEC, dtype: float64"
            ]
          },
          "metadata": {},
          "execution_count": 116
        }
      ]
    },
    {
      "cell_type": "code",
      "source": [
        "ts.asfreq('M', how='start')"
      ],
      "metadata": {
        "colab": {
          "base_uri": "https://localhost:8080/"
        },
        "id": "FaWk0Gq98ABF",
        "outputId": "06a3f4dd-52b8-4377-913d-c01244c7fad6"
      },
      "execution_count": 117,
      "outputs": [
        {
          "output_type": "execute_result",
          "data": {
            "text/plain": [
              "2006-01   -0.210824\n",
              "2007-01    1.203972\n",
              "2008-01    1.199234\n",
              "2009-01   -0.427992\n",
              "Freq: M, dtype: float64"
            ]
          },
          "metadata": {},
          "execution_count": 117
        }
      ]
    },
    {
      "cell_type": "code",
      "source": [
        "ts.asfreq('B', how='end')"
      ],
      "metadata": {
        "colab": {
          "base_uri": "https://localhost:8080/"
        },
        "id": "mANLo_az8CQI",
        "outputId": "1404af60-cbe6-4e26-d8b8-698937bf81fb"
      },
      "execution_count": 118,
      "outputs": [
        {
          "output_type": "execute_result",
          "data": {
            "text/plain": [
              "2006-12-29   -0.210824\n",
              "2007-12-31    1.203972\n",
              "2008-12-31    1.199234\n",
              "2009-12-31   -0.427992\n",
              "Freq: B, dtype: float64"
            ]
          },
          "metadata": {},
          "execution_count": 118
        }
      ]
    },
    {
      "cell_type": "markdown",
      "source": [
        "### Quarterly Period Frequencies"
      ],
      "metadata": {
        "id": "gwUKy9I91RNE"
      }
    },
    {
      "cell_type": "markdown",
      "source": [
        "Dữ liệu hàng quý là tiêu chuẩn trong kế toán, tài chính và các lĩnh vực khác. Nhiều dữ liệu hàng quý được báo cáo liên quan đến ngày kết thúc năm tài chính, thường là ngày dương lịch hoặc ngày làm việc cuối cùng của một của 12 tháng trong năm. Như vậy, giai đoạn 2012 Q4 có một ý nghĩa khác khi chờ kết thúc năm tài chính. Pandas hỗ trợ tất cả 12 tần suất hàng quý có thể có từ Q JAN đến Q-DEC:"
      ],
      "metadata": {
        "id": "893YXiCg8JdP"
      }
    },
    {
      "cell_type": "code",
      "source": [
        "p = pd.Period('2012Q4', freq='Q-JAN')"
      ],
      "metadata": {
        "id": "Vr5IXpfT2OdC"
      },
      "execution_count": 119,
      "outputs": []
    },
    {
      "cell_type": "markdown",
      "source": [
        "Trong trường hợp năm tài chính kết thúc vào tháng 1, quý 4 năm 2012 kéo dài từ tháng 11 đến tháng 1, bạn có thể kiểm tra quý này bằng cách chuyển đổi sang tần suất hàng ngày. Xem Hình 10-2 để biết\n",
        "hình minh họa:"
      ],
      "metadata": {
        "id": "5uGgoSXU8OgG"
      }
    },
    {
      "cell_type": "code",
      "source": [
        "p.asfreq('D', 'start')"
      ],
      "metadata": {
        "colab": {
          "base_uri": "https://localhost:8080/"
        },
        "id": "3Rb4Vxka8RIj",
        "outputId": "6add8602-c172-464a-ef2c-bdbfc70b7054"
      },
      "execution_count": 120,
      "outputs": [
        {
          "output_type": "execute_result",
          "data": {
            "text/plain": [
              "Period('2011-11-01', 'D')"
            ]
          },
          "metadata": {},
          "execution_count": 120
        }
      ]
    },
    {
      "cell_type": "code",
      "source": [
        "p.asfreq('D', 'end')"
      ],
      "metadata": {
        "colab": {
          "base_uri": "https://localhost:8080/"
        },
        "id": "rvkeiX-O8UGt",
        "outputId": "6205f1b6-114f-4489-9330-ad211dc890a5"
      },
      "execution_count": 121,
      "outputs": [
        {
          "output_type": "execute_result",
          "data": {
            "text/plain": [
              "Period('2012-01-31', 'D')"
            ]
          },
          "metadata": {},
          "execution_count": 121
        }
      ]
    },
    {
      "cell_type": "markdown",
      "source": [
        "Do đó, có thể thực hiện phép tính thời gian rất dễ dàng; ví dụ: để lấy dấu thời gian\n",
        "lúc 4 giờ chiều ngày làm việc thứ 2 đến ngày làm việc cuối cùng của quý, bạn có thể thực hiện:"
      ],
      "metadata": {
        "id": "X_9x5K8Y8WRw"
      }
    },
    {
      "cell_type": "code",
      "source": [
        "p4pm = (p.asfreq('B', 'e') - 1).asfreq('T', 's') + 16 * 60\n",
        "p4pm"
      ],
      "metadata": {
        "colab": {
          "base_uri": "https://localhost:8080/"
        },
        "id": "nr6L8Xmz8Y7G",
        "outputId": "5d66b735-0990-42c7-bdc3-6ae253b4bfb8"
      },
      "execution_count": 122,
      "outputs": [
        {
          "output_type": "execute_result",
          "data": {
            "text/plain": [
              "Period('2012-01-30 16:00', 'T')"
            ]
          },
          "metadata": {},
          "execution_count": 122
        }
      ]
    },
    {
      "cell_type": "code",
      "source": [
        "p4pm.to_timestamp()"
      ],
      "metadata": {
        "colab": {
          "base_uri": "https://localhost:8080/"
        },
        "id": "PztbvAwA8bnk",
        "outputId": "0e86eeb4-705c-480f-da68-679ad5a293c6"
      },
      "execution_count": 123,
      "outputs": [
        {
          "output_type": "execute_result",
          "data": {
            "text/plain": [
              "Timestamp('2012-01-30 16:00:00')"
            ]
          },
          "metadata": {},
          "execution_count": 123
        }
      ]
    },
    {
      "cell_type": "markdown",
      "source": [
        "Tạo phạm vi hàng quý hoạt động như bạn mong đợi bằng cách sử dụng period_range."
      ],
      "metadata": {
        "id": "pob5sHyQ8f79"
      }
    },
    {
      "cell_type": "code",
      "source": [
        "rng = pd.period_range('2011Q3', '2012Q4', freq='Q-JAN')\n",
        "ts = Series(np.arange(len(rng)), index=rng)\n",
        "ts"
      ],
      "metadata": {
        "colab": {
          "base_uri": "https://localhost:8080/"
        },
        "id": "r9tZZhki8kSS",
        "outputId": "06b50957-146f-4116-e573-79003f566774"
      },
      "execution_count": 124,
      "outputs": [
        {
          "output_type": "execute_result",
          "data": {
            "text/plain": [
              "2011Q3    0\n",
              "2011Q4    1\n",
              "2012Q1    2\n",
              "2012Q2    3\n",
              "2012Q3    4\n",
              "2012Q4    5\n",
              "Freq: Q-JAN, dtype: int64"
            ]
          },
          "metadata": {},
          "execution_count": 124
        }
      ]
    },
    {
      "cell_type": "code",
      "source": [
        "new_rng = (rng.asfreq('B', 'e') - 1).asfreq('T', 's') + 16 * 60\n",
        "ts.index = new_rng.to_timestamp()\n",
        "ts"
      ],
      "metadata": {
        "colab": {
          "base_uri": "https://localhost:8080/"
        },
        "id": "6ZSntHeT8pah",
        "outputId": "40705fff-ac58-4b16-9ecb-34030b42e4f7"
      },
      "execution_count": 125,
      "outputs": [
        {
          "output_type": "execute_result",
          "data": {
            "text/plain": [
              "2010-10-28 16:00:00    0\n",
              "2011-01-28 16:00:00    1\n",
              "2011-04-28 16:00:00    2\n",
              "2011-07-28 16:00:00    3\n",
              "2011-10-28 16:00:00    4\n",
              "2012-01-30 16:00:00    5\n",
              "dtype: int64"
            ]
          },
          "metadata": {},
          "execution_count": 125
        }
      ]
    },
    {
      "cell_type": "markdown",
      "source": [
        "### Converting Timestamps to Periods (and Back)"
      ],
      "metadata": {
        "id": "4AeLBPW51TDM"
      }
    },
    {
      "cell_type": "markdown",
      "source": [
        "Các đối tượng Series và DataFrame được lập chỉ mục theo dấu thời gian có thể được chuyển đổi thành các khoảng thời gian bằng cách sử dụng\n",
        "phương thức to_period:"
      ],
      "metadata": {
        "id": "cm4cnTAP893S"
      }
    },
    {
      "cell_type": "code",
      "source": [
        "rng = pd.date_range('1/1/2000', periods=3, freq='M')\n",
        "ts = Series(np.random.randn(3), index=rng)\n",
        "ts = ts.to_period()\n",
        "ts"
      ],
      "metadata": {
        "id": "jS9LMla22PWz",
        "colab": {
          "base_uri": "https://localhost:8080/"
        },
        "outputId": "2117c7de-ea33-46d2-a6f5-bf08fa749791"
      },
      "execution_count": 126,
      "outputs": [
        {
          "output_type": "execute_result",
          "data": {
            "text/plain": [
              "2000-01    0.437149\n",
              "2000-02   -0.258853\n",
              "2000-03   -0.085306\n",
              "Freq: M, dtype: float64"
            ]
          },
          "metadata": {},
          "execution_count": 126
        }
      ]
    },
    {
      "cell_type": "code",
      "source": [
        "rng = pd.date_range('1/1/2000', periods=3, freq='M')\n",
        "ts = Series(np.random.randn(3), index=rng)\n",
        "pts = ts.to_period()\n",
        "pts"
      ],
      "metadata": {
        "id": "V11hxPlQ9GWh",
        "colab": {
          "base_uri": "https://localhost:8080/"
        },
        "outputId": "81e64607-57db-4b46-dc14-f9aa7c485faf"
      },
      "execution_count": 127,
      "outputs": [
        {
          "output_type": "execute_result",
          "data": {
            "text/plain": [
              "2000-01    0.087142\n",
              "2000-02    0.752816\n",
              "2000-03   -0.746991\n",
              "Freq: M, dtype: float64"
            ]
          },
          "metadata": {},
          "execution_count": 127
        }
      ]
    },
    {
      "cell_type": "markdown",
      "source": [
        "Vì các khoảng thời gian luôn đề cập đến các khoảng thời gian không chồng chéo nên dấu thời gian chỉ có thể thuộc về đến một khoảng thời gian duy nhất cho một tần số nhất định. Trong khi tần suất của PeriodIndex mới là được suy ra từ dấu thời gian theo mặc định, bạn có thể chỉ định bất kỳ tần suất nào bạn muốn. Ở đó cũng không có vấn đề gì với việc có các khoảng thời gian trùng lặp trong kết quả:"
      ],
      "metadata": {
        "id": "icosBbX39JeY"
      }
    },
    {
      "cell_type": "code",
      "source": [
        "rng = pd.date_range('1/29/2000', periods=6, freq='D')\n",
        "ts2 = Series(np.random.randn(6), index=rng)\n",
        "ts2.to_period('M')"
      ],
      "metadata": {
        "id": "lEEjQJ9g9L6N",
        "colab": {
          "base_uri": "https://localhost:8080/"
        },
        "outputId": "6e050e6c-edf6-4e5c-de6b-b5a6885c9385"
      },
      "execution_count": 128,
      "outputs": [
        {
          "output_type": "execute_result",
          "data": {
            "text/plain": [
              "2000-01   -1.756002\n",
              "2000-01    0.267894\n",
              "2000-01    0.386207\n",
              "2000-02   -0.232188\n",
              "2000-02   -0.886410\n",
              "2000-02    0.491052\n",
              "Freq: M, dtype: float64"
            ]
          },
          "metadata": {},
          "execution_count": 128
        }
      ]
    },
    {
      "cell_type": "markdown",
      "source": [
        "Để chuyển đổi ngược lại, ta dùng hàm to_timestamp:"
      ],
      "metadata": {
        "id": "DFVkuZ7E9Pon"
      }
    },
    {
      "cell_type": "code",
      "source": [
        "pts = ts.to_period()\n",
        "pts"
      ],
      "metadata": {
        "colab": {
          "base_uri": "https://localhost:8080/"
        },
        "id": "uA--DqeO9UrP",
        "outputId": "936918f9-e459-46e8-cb66-08a76f172864"
      },
      "execution_count": 129,
      "outputs": [
        {
          "output_type": "execute_result",
          "data": {
            "text/plain": [
              "2000-01    0.087142\n",
              "2000-02    0.752816\n",
              "2000-03   -0.746991\n",
              "Freq: M, dtype: float64"
            ]
          },
          "metadata": {},
          "execution_count": 129
        }
      ]
    },
    {
      "cell_type": "code",
      "source": [
        "pts.to_timestamp(how='end')\n"
      ],
      "metadata": {
        "colab": {
          "base_uri": "https://localhost:8080/"
        },
        "id": "WjD3TSH49cn-",
        "outputId": "e4bf04d2-d925-48f4-b0c9-4e7b953be246"
      },
      "execution_count": 130,
      "outputs": [
        {
          "output_type": "execute_result",
          "data": {
            "text/plain": [
              "2000-01-31 23:59:59.999999999    0.087142\n",
              "2000-02-29 23:59:59.999999999    0.752816\n",
              "2000-03-31 23:59:59.999999999   -0.746991\n",
              "dtype: float64"
            ]
          },
          "metadata": {},
          "execution_count": 130
        }
      ]
    },
    {
      "cell_type": "markdown",
      "source": [
        "### Creating a PeriodIndex from Arrays"
      ],
      "metadata": {
        "id": "SLeiQRDT1Vhv"
      }
    },
    {
      "cell_type": "markdown",
      "source": [
        "Các bộ dữ liệu tần số cố định đôi khi được lưu trữ với thông tin về khoảng thời gian\n",
        "trên nhiều cột. Ví dụ: trong bộ dữ liệu kinh tế vĩ mô này, năm và quý nằm trong các cột khác nhau:"
      ],
      "metadata": {
        "id": "CMZM-t5m9gar"
      }
    },
    {
      "cell_type": "code",
      "source": [
        "url = 'https://raw.githubusercontent.com/wesm/pydata-book/3rd-edition/examples/macrodata.csv'\n",
        "data = pd.read_csv(url)\n",
        "data.year"
      ],
      "metadata": {
        "id": "ATXUQ4Si2P9Y",
        "colab": {
          "base_uri": "https://localhost:8080/"
        },
        "outputId": "76a4e73d-091b-4f86-a045-07bb9d0e0307"
      },
      "execution_count": 131,
      "outputs": [
        {
          "output_type": "execute_result",
          "data": {
            "text/plain": [
              "0      1959\n",
              "1      1959\n",
              "2      1959\n",
              "3      1959\n",
              "4      1960\n",
              "       ... \n",
              "198    2008\n",
              "199    2008\n",
              "200    2009\n",
              "201    2009\n",
              "202    2009\n",
              "Name: year, Length: 203, dtype: int64"
            ]
          },
          "metadata": {},
          "execution_count": 131
        }
      ]
    },
    {
      "cell_type": "code",
      "source": [
        "\n",
        "data = pd.read_csv(url)\n",
        "data.quarter"
      ],
      "metadata": {
        "colab": {
          "base_uri": "https://localhost:8080/"
        },
        "id": "CuScxyHW9nmL",
        "outputId": "3a477cb8-74a6-47fc-9ad0-930f8be50afe"
      },
      "execution_count": 132,
      "outputs": [
        {
          "output_type": "execute_result",
          "data": {
            "text/plain": [
              "0      1\n",
              "1      2\n",
              "2      3\n",
              "3      4\n",
              "4      1\n",
              "      ..\n",
              "198    3\n",
              "199    4\n",
              "200    1\n",
              "201    2\n",
              "202    3\n",
              "Name: quarter, Length: 203, dtype: int64"
            ]
          },
          "metadata": {},
          "execution_count": 132
        }
      ]
    },
    {
      "cell_type": "markdown",
      "source": [
        "Bằng cách chuyển các mảng này tới Period với tần suất, chúng có thể được kết hợp để tạo thành\n",
        "một chỉ mục cho DataFrame:"
      ],
      "metadata": {
        "id": "Rswvq95B9tpg"
      }
    },
    {
      "cell_type": "code",
      "source": [
        "index = pd.PeriodIndex(year=data.year, quarter=data.quarter, freq='Q-DEC')\n",
        "index"
      ],
      "metadata": {
        "id": "rATa-Y749wjf",
        "colab": {
          "base_uri": "https://localhost:8080/"
        },
        "outputId": "7c791c75-7efa-4e41-e202-de068c867e3e"
      },
      "execution_count": 133,
      "outputs": [
        {
          "output_type": "execute_result",
          "data": {
            "text/plain": [
              "PeriodIndex(['1959Q1', '1959Q2', '1959Q3', '1959Q4', '1960Q1', '1960Q2',\n",
              "             '1960Q3', '1960Q4', '1961Q1', '1961Q2',\n",
              "             ...\n",
              "             '2007Q2', '2007Q3', '2007Q4', '2008Q1', '2008Q2', '2008Q3',\n",
              "             '2008Q4', '2009Q1', '2009Q2', '2009Q3'],\n",
              "            dtype='period[Q-DEC]', length=203)"
            ]
          },
          "metadata": {},
          "execution_count": 133
        }
      ]
    },
    {
      "cell_type": "code",
      "source": [
        "data.index = index\n",
        "data.infl"
      ],
      "metadata": {
        "id": "4YnKvVG29zrj",
        "colab": {
          "base_uri": "https://localhost:8080/"
        },
        "outputId": "c7ec0e90-027c-457a-b680-2242bbd21958"
      },
      "execution_count": 134,
      "outputs": [
        {
          "output_type": "execute_result",
          "data": {
            "text/plain": [
              "1959Q1    0.00\n",
              "1959Q2    2.34\n",
              "1959Q3    2.74\n",
              "1959Q4    0.27\n",
              "1960Q1    2.31\n",
              "          ... \n",
              "2008Q3   -3.16\n",
              "2008Q4   -8.79\n",
              "2009Q1    0.94\n",
              "2009Q2    3.37\n",
              "2009Q3    3.56\n",
              "Freq: Q-DEC, Name: infl, Length: 203, dtype: float64"
            ]
          },
          "metadata": {},
          "execution_count": 134
        }
      ]
    },
    {
      "cell_type": "markdown",
      "source": [
        "## Resampling and Frequency Conversion"
      ],
      "metadata": {
        "id": "XEJJ44Zk1Xt1"
      }
    },
    {
      "cell_type": "markdown",
      "source": [
        "Lấy mẫu lại đề cập đến quá trình chuyển đổi một chuỗi thời gian từ tần số này sang tần số khác:\n",
        "+ **Downsampling**: Giảm tần suất lấy mẫu bằng cách tăng thời gian lấy\n",
        "mẫu từ vài phút đến vài giờ.\n",
        "+ **Upsampling**: Tăng tần suất lấy mẫu bằng cách giảm thời gian lấy mẫu từ\n",
        "vài giờ xuống vài phút."
      ],
      "metadata": {
        "id": "d9CVi5lcA8Dt"
      }
    },
    {
      "cell_type": "markdown",
      "source": [
        "\n",
        "**Cú pháp:**\n",
        "\n",
        "```\n",
        "\n",
        "Series.resample(self, rule, how=None, axis=0, fill_method=None, closed=None,\n",
        " label=None convention='start', kind=None, loffset=None, limit=None, base=0, on=None, level=None)\n",
        "\n",
        "```\n",
        "\n"
      ],
      "metadata": {
        "id": "qEClXoCRFo2w"
      }
    },
    {
      "cell_type": "code",
      "source": [
        "from numpy.random import randn\n",
        "\n",
        "rng = pd.date_range('1/1/2000', periods=100, freq='D')\n",
        "ts = pd.Series(randn(len(rng)), index=rng)\n",
        "ts.resample('M').mean()\n"
      ],
      "metadata": {
        "id": "9OXYv-5d2QVx",
        "colab": {
          "base_uri": "https://localhost:8080/"
        },
        "outputId": "ac590b23-1224-473a-c682-8204f285d7fa"
      },
      "execution_count": 136,
      "outputs": [
        {
          "output_type": "execute_result",
          "data": {
            "text/plain": [
              "2000-01-31    0.108556\n",
              "2000-02-29   -0.088328\n",
              "2000-03-31   -0.069715\n",
              "2000-04-30    0.487104\n",
              "Freq: M, dtype: float64"
            ]
          },
          "metadata": {},
          "execution_count": 136
        }
      ]
    },
    {
      "cell_type": "code",
      "source": [
        "ts.resample('M', kind='period').mean()"
      ],
      "metadata": {
        "id": "K7i_d2lF9QEM",
        "colab": {
          "base_uri": "https://localhost:8080/"
        },
        "outputId": "c9007c79-45df-4e9f-ea2a-baadb9a5c818"
      },
      "execution_count": 137,
      "outputs": [
        {
          "output_type": "execute_result",
          "data": {
            "text/plain": [
              "2000-01    0.108556\n",
              "2000-02   -0.088328\n",
              "2000-03   -0.069715\n",
              "2000-04    0.487104\n",
              "Freq: M, dtype: float64"
            ]
          },
          "metadata": {},
          "execution_count": 137
        }
      ]
    },
    {
      "cell_type": "markdown",
      "source": [
        "**Resample** là một phương pháp linh hoạt và hiệu suất cao có thể được sử dụng để xử lý chuỗi thời gian rất lớn."
      ],
      "metadata": {
        "id": "gIP7ddjZGR8q"
      }
    },
    {
      "cell_type": "markdown",
      "source": [
        "### Downsampling"
      ],
      "metadata": {
        "id": "8YsWYvde1hf7"
      }
    },
    {
      "cell_type": "markdown",
      "source": [
        "Dữ liệu bạn đang tổng hợp không cần phải được sửa thường xuyên, tần số mong muốn xác định các cạnh bin được sử dụng để chia chuỗi thời gian thành nhiều phần để tổng hợp lại."
      ],
      "metadata": {
        "id": "FY-zZKLpGpM3"
      }
    },
    {
      "cell_type": "markdown",
      "source": [
        "Khi sử dụng **resample để giảm dữ** liệu mẫu cần chú ý:\n",
        "+ Phía nào của mỗi khoảng được đóng lại\n",
        "+ Cách dán nhãn cho mỗi thùng tổng hợp, có thể bắt đầu khoảng thời gian hoặc kết thúc\n"
      ],
      "metadata": {
        "id": "b85DF1ByGwBB"
      }
    },
    {
      "cell_type": "code",
      "source": [
        "rng = pd.date_range('1/1/2000', periods=12, freq='T')\n",
        "ts = Series(np.arange(12), index=rng)\n",
        "ts\n"
      ],
      "metadata": {
        "id": "pI_EtaL_2Q5d",
        "colab": {
          "base_uri": "https://localhost:8080/"
        },
        "outputId": "0c2e5991-d285-4ce0-88a1-7ba6ad51b1fa"
      },
      "execution_count": 138,
      "outputs": [
        {
          "output_type": "execute_result",
          "data": {
            "text/plain": [
              "2000-01-01 00:00:00     0\n",
              "2000-01-01 00:01:00     1\n",
              "2000-01-01 00:02:00     2\n",
              "2000-01-01 00:03:00     3\n",
              "2000-01-01 00:04:00     4\n",
              "2000-01-01 00:05:00     5\n",
              "2000-01-01 00:06:00     6\n",
              "2000-01-01 00:07:00     7\n",
              "2000-01-01 00:08:00     8\n",
              "2000-01-01 00:09:00     9\n",
              "2000-01-01 00:10:00    10\n",
              "2000-01-01 00:11:00    11\n",
              "Freq: T, dtype: int64"
            ]
          },
          "metadata": {},
          "execution_count": 138
        }
      ]
    },
    {
      "cell_type": "markdown",
      "source": [
        "Muốn tổng hợp dữ liệu này thành các phần dài năm phút hoặc các thanh bằng cách lấy tổng của mỗi nhóm:"
      ],
      "metadata": {
        "id": "kKjpHmMQHHR9"
      }
    },
    {
      "cell_type": "code",
      "source": [
        "ts.resample('5min').sum()"
      ],
      "metadata": {
        "id": "97a2EV2q9qvF",
        "colab": {
          "base_uri": "https://localhost:8080/"
        },
        "outputId": "687f8512-2470-42de-fb53-b0de25c316ba"
      },
      "execution_count": 139,
      "outputs": [
        {
          "output_type": "execute_result",
          "data": {
            "text/plain": [
              "2000-01-01 00:00:00    10\n",
              "2000-01-01 00:05:00    35\n",
              "2000-01-01 00:10:00    21\n",
              "Freq: 5T, dtype: int64"
            ]
          },
          "metadata": {},
          "execution_count": 139
        }
      ]
    },
    {
      "cell_type": "markdown",
      "source": [
        "Theo mặc định, cạnh thùng bên phải được inclusive, vì vậy giá trị 00:05 được bao gồm trong khoảng thời gian từ 00:00 đến 00:05. 1 Passing **closed= 'left'** thay đổi khoảng thời gian được đóng ở bên trái:"
      ],
      "metadata": {
        "id": "7Y9p12_VHQIi"
      }
    },
    {
      "cell_type": "code",
      "source": [
        "ts.resample('5min', closed='left').sum()"
      ],
      "metadata": {
        "id": "kwVaLGL_9y2E",
        "colab": {
          "base_uri": "https://localhost:8080/"
        },
        "outputId": "87102451-1372-4a45-bab6-9c634fd89f5c"
      },
      "execution_count": 140,
      "outputs": [
        {
          "output_type": "execute_result",
          "data": {
            "text/plain": [
              "2000-01-01 00:00:00    10\n",
              "2000-01-01 00:05:00    35\n",
              "2000-01-01 00:10:00    21\n",
              "Freq: 5T, dtype: int64"
            ]
          },
          "metadata": {},
          "execution_count": 140
        }
      ]
    },
    {
      "cell_type": "code",
      "source": [
        "ts.resample('5min', closed='left', label='left').sum()"
      ],
      "metadata": {
        "id": "IAPxtNfE9335",
        "colab": {
          "base_uri": "https://localhost:8080/"
        },
        "outputId": "383ac672-855a-45f3-ca4f-0055006a0ecf"
      },
      "execution_count": 141,
      "outputs": [
        {
          "output_type": "execute_result",
          "data": {
            "text/plain": [
              "2000-01-01 00:00:00    10\n",
              "2000-01-01 00:05:00    35\n",
              "2000-01-01 00:10:00    21\n",
              "Freq: 5T, dtype: int64"
            ]
          },
          "metadata": {},
          "execution_count": 141
        }
      ]
    },
    {
      "cell_type": "markdown",
      "source": [
        "Có thể thay đổi chỉ số kết quả, chẳng hạn như trừ đi một giây từ cạnh bên phải để làm rõ hơn khoảng thời gian nào mà dấu thời gian đề cập đến. \n"
      ],
      "metadata": {
        "id": "NYhOOK24Hb3V"
      }
    },
    {
      "cell_type": "markdown",
      "source": [
        "Để thực hiện việc này, chuyển một chuỗi hoặc bù ngày vào loffset:"
      ],
      "metadata": {
        "id": "MZvmiz1DHkFc"
      }
    },
    {
      "cell_type": "code",
      "source": [
        "ts.resample('5min', loffset='-1s').sum()"
      ],
      "metadata": {
        "id": "nzcjhWJeHl7-",
        "colab": {
          "base_uri": "https://localhost:8080/"
        },
        "outputId": "fafda51a-c595-49c2-aeb0-9d4573033c64"
      },
      "execution_count": 142,
      "outputs": [
        {
          "output_type": "stream",
          "name": "stderr",
          "text": [
            "/usr/local/lib/python3.7/dist-packages/ipykernel_launcher.py:1: FutureWarning: 'loffset' in .resample() and in Grouper() is deprecated.\n",
            "\n",
            ">>> df.resample(freq=\"3s\", loffset=\"8H\")\n",
            "\n",
            "becomes:\n",
            "\n",
            ">>> from pandas.tseries.frequencies import to_offset\n",
            ">>> df = df.resample(freq=\"3s\").mean()\n",
            ">>> df.index = df.index.to_timestamp() + to_offset(\"8H\")\n",
            "\n",
            "  \"\"\"Entry point for launching an IPython kernel.\n"
          ]
        },
        {
          "output_type": "execute_result",
          "data": {
            "text/plain": [
              "1999-12-31 23:59:59    10\n",
              "2000-01-01 00:04:59    35\n",
              "2000-01-01 00:09:59    21\n",
              "Freq: 5T, dtype: int64"
            ]
          },
          "metadata": {},
          "execution_count": 142
        }
      ]
    },
    {
      "cell_type": "markdown",
      "source": [
        "#### Open-High-Low-Close (OHLC) resampling"
      ],
      "metadata": {
        "id": "cNjkIWYl1lkL"
      }
    },
    {
      "cell_type": "markdown",
      "source": [
        "Một cách phổ biến để tổng hợp chuỗi thời gian là tính toán bốn giá trị cho\n",
        "mỗi nhóm: \n",
        "+ Giá trị đầu tiên (mở)\n",
        "+ Cuối cùng (đóng) \n",
        "+ Tối đa (cao) \n",
        "+ Tối thiểu (thấp).\n"
      ],
      "metadata": {
        "id": "D7bhH1jHH0ef"
      }
    },
    {
      "cell_type": "code",
      "source": [
        "ts.resample('5min').ohlc()"
      ],
      "metadata": {
        "id": "j48q--sH-E-Z",
        "colab": {
          "base_uri": "https://localhost:8080/",
          "height": 143
        },
        "outputId": "2c6f9aa3-fd43-47e4-8f2e-f42e9971892b"
      },
      "execution_count": 143,
      "outputs": [
        {
          "output_type": "execute_result",
          "data": {
            "text/plain": [
              "                     open  high  low  close\n",
              "2000-01-01 00:00:00     0     4    0      4\n",
              "2000-01-01 00:05:00     5     9    5      9\n",
              "2000-01-01 00:10:00    10    11   10     11"
            ],
            "text/html": [
              "\n",
              "  <div id=\"df-713874ef-1717-4bd4-ac4d-d6364859e61f\">\n",
              "    <div class=\"colab-df-container\">\n",
              "      <div>\n",
              "<style scoped>\n",
              "    .dataframe tbody tr th:only-of-type {\n",
              "        vertical-align: middle;\n",
              "    }\n",
              "\n",
              "    .dataframe tbody tr th {\n",
              "        vertical-align: top;\n",
              "    }\n",
              "\n",
              "    .dataframe thead th {\n",
              "        text-align: right;\n",
              "    }\n",
              "</style>\n",
              "<table border=\"1\" class=\"dataframe\">\n",
              "  <thead>\n",
              "    <tr style=\"text-align: right;\">\n",
              "      <th></th>\n",
              "      <th>open</th>\n",
              "      <th>high</th>\n",
              "      <th>low</th>\n",
              "      <th>close</th>\n",
              "    </tr>\n",
              "  </thead>\n",
              "  <tbody>\n",
              "    <tr>\n",
              "      <th>2000-01-01 00:00:00</th>\n",
              "      <td>0</td>\n",
              "      <td>4</td>\n",
              "      <td>0</td>\n",
              "      <td>4</td>\n",
              "    </tr>\n",
              "    <tr>\n",
              "      <th>2000-01-01 00:05:00</th>\n",
              "      <td>5</td>\n",
              "      <td>9</td>\n",
              "      <td>5</td>\n",
              "      <td>9</td>\n",
              "    </tr>\n",
              "    <tr>\n",
              "      <th>2000-01-01 00:10:00</th>\n",
              "      <td>10</td>\n",
              "      <td>11</td>\n",
              "      <td>10</td>\n",
              "      <td>11</td>\n",
              "    </tr>\n",
              "  </tbody>\n",
              "</table>\n",
              "</div>\n",
              "      <button class=\"colab-df-convert\" onclick=\"convertToInteractive('df-713874ef-1717-4bd4-ac4d-d6364859e61f')\"\n",
              "              title=\"Convert this dataframe to an interactive table.\"\n",
              "              style=\"display:none;\">\n",
              "        \n",
              "  <svg xmlns=\"http://www.w3.org/2000/svg\" height=\"24px\"viewBox=\"0 0 24 24\"\n",
              "       width=\"24px\">\n",
              "    <path d=\"M0 0h24v24H0V0z\" fill=\"none\"/>\n",
              "    <path d=\"M18.56 5.44l.94 2.06.94-2.06 2.06-.94-2.06-.94-.94-2.06-.94 2.06-2.06.94zm-11 1L8.5 8.5l.94-2.06 2.06-.94-2.06-.94L8.5 2.5l-.94 2.06-2.06.94zm10 10l.94 2.06.94-2.06 2.06-.94-2.06-.94-.94-2.06-.94 2.06-2.06.94z\"/><path d=\"M17.41 7.96l-1.37-1.37c-.4-.4-.92-.59-1.43-.59-.52 0-1.04.2-1.43.59L10.3 9.45l-7.72 7.72c-.78.78-.78 2.05 0 2.83L4 21.41c.39.39.9.59 1.41.59.51 0 1.02-.2 1.41-.59l7.78-7.78 2.81-2.81c.8-.78.8-2.07 0-2.86zM5.41 20L4 18.59l7.72-7.72 1.47 1.35L5.41 20z\"/>\n",
              "  </svg>\n",
              "      </button>\n",
              "      \n",
              "  <style>\n",
              "    .colab-df-container {\n",
              "      display:flex;\n",
              "      flex-wrap:wrap;\n",
              "      gap: 12px;\n",
              "    }\n",
              "\n",
              "    .colab-df-convert {\n",
              "      background-color: #E8F0FE;\n",
              "      border: none;\n",
              "      border-radius: 50%;\n",
              "      cursor: pointer;\n",
              "      display: none;\n",
              "      fill: #1967D2;\n",
              "      height: 32px;\n",
              "      padding: 0 0 0 0;\n",
              "      width: 32px;\n",
              "    }\n",
              "\n",
              "    .colab-df-convert:hover {\n",
              "      background-color: #E2EBFA;\n",
              "      box-shadow: 0px 1px 2px rgba(60, 64, 67, 0.3), 0px 1px 3px 1px rgba(60, 64, 67, 0.15);\n",
              "      fill: #174EA6;\n",
              "    }\n",
              "\n",
              "    [theme=dark] .colab-df-convert {\n",
              "      background-color: #3B4455;\n",
              "      fill: #D2E3FC;\n",
              "    }\n",
              "\n",
              "    [theme=dark] .colab-df-convert:hover {\n",
              "      background-color: #434B5C;\n",
              "      box-shadow: 0px 1px 3px 1px rgba(0, 0, 0, 0.15);\n",
              "      filter: drop-shadow(0px 1px 2px rgba(0, 0, 0, 0.3));\n",
              "      fill: #FFFFFF;\n",
              "    }\n",
              "  </style>\n",
              "\n",
              "      <script>\n",
              "        const buttonEl =\n",
              "          document.querySelector('#df-713874ef-1717-4bd4-ac4d-d6364859e61f button.colab-df-convert');\n",
              "        buttonEl.style.display =\n",
              "          google.colab.kernel.accessAllowed ? 'block' : 'none';\n",
              "\n",
              "        async function convertToInteractive(key) {\n",
              "          const element = document.querySelector('#df-713874ef-1717-4bd4-ac4d-d6364859e61f');\n",
              "          const dataTable =\n",
              "            await google.colab.kernel.invokeFunction('convertToInteractive',\n",
              "                                                     [key], {});\n",
              "          if (!dataTable) return;\n",
              "\n",
              "          const docLinkHtml = 'Like what you see? Visit the ' +\n",
              "            '<a target=\"_blank\" href=https://colab.research.google.com/notebooks/data_table.ipynb>data table notebook</a>'\n",
              "            + ' to learn more about interactive tables.';\n",
              "          element.innerHTML = '';\n",
              "          dataTable['output_type'] = 'display_data';\n",
              "          await google.colab.output.renderOutput(dataTable, element);\n",
              "          const docLink = document.createElement('div');\n",
              "          docLink.innerHTML = docLinkHtml;\n",
              "          element.appendChild(docLink);\n",
              "        }\n",
              "      </script>\n",
              "    </div>\n",
              "  </div>\n",
              "  "
            ]
          },
          "metadata": {},
          "execution_count": 143
        }
      ]
    },
    {
      "cell_type": "markdown",
      "source": [
        "#### Resampling with GroupBy"
      ],
      "metadata": {
        "id": "7jU7F_3F1oVk"
      }
    },
    {
      "cell_type": "markdown",
      "source": [
        "Một cách thay thế để giảm mẫu là sử dụng chức năng phân nhóm "
      ],
      "metadata": {
        "id": "5CRDG_puIAsf"
      }
    },
    {
      "cell_type": "markdown",
      "source": [
        "**Cú pháp:**\n",
        "```\n",
        "DataFrame.groupby(by=None, axis=0, level=None, as_index=True,sort=True, group_keys=_NoDefault.no_default, squeeze=_NoDefault.no_default, observed=False, dropna=True)\n",
        "```\n",
        "\n"
      ],
      "metadata": {
        "id": "drTUbxSbIEJb"
      }
    },
    {
      "cell_type": "code",
      "source": [
        "rng = pd.date_range('1/1/2000', periods=100, freq='D')\n",
        "ts = Series(np.arange(100), index=rng)\n",
        "ts.groupby(lambda x: x.month).mean()\n"
      ],
      "metadata": {
        "id": "eW4TcDyA2RlK",
        "colab": {
          "base_uri": "https://localhost:8080/"
        },
        "outputId": "10e7a4af-fff9-46fc-e9d0-a859217ee7a8"
      },
      "execution_count": 144,
      "outputs": [
        {
          "output_type": "execute_result",
          "data": {
            "text/plain": [
              "1    15.0\n",
              "2    45.0\n",
              "3    75.0\n",
              "4    95.0\n",
              "dtype: float64"
            ]
          },
          "metadata": {},
          "execution_count": 144
        }
      ]
    },
    {
      "cell_type": "code",
      "source": [
        "ts.groupby(lambda x: x.weekday).mean()"
      ],
      "metadata": {
        "id": "ehJp3C4S-dRl",
        "colab": {
          "base_uri": "https://localhost:8080/"
        },
        "outputId": "a09d9230-20d9-4c0f-810c-a2535dfcfa60"
      },
      "execution_count": 145,
      "outputs": [
        {
          "output_type": "execute_result",
          "data": {
            "text/plain": [
              "0    47.5\n",
              "1    48.5\n",
              "2    49.5\n",
              "3    50.5\n",
              "4    51.5\n",
              "5    49.0\n",
              "6    50.0\n",
              "dtype: float64"
            ]
          },
          "metadata": {},
          "execution_count": 145
        }
      ]
    },
    {
      "cell_type": "markdown",
      "source": [
        "### Upsampling and Interpolation\n"
      ],
      "metadata": {
        "id": "i7q3XLFU1s2n"
      }
    },
    {
      "cell_type": "code",
      "source": [
        "frame = pd.DataFrame(np.random.randn(2, 4),\n",
        "                  index=pd.date_range('1/1/2000', periods=2, freq='W-WED'),\n",
        "                  columns=['Colorado', 'Texas', 'New York', 'Ohio'])\n",
        "frame[:5]\n"
      ],
      "metadata": {
        "id": "sk4msmtx2SIA",
        "colab": {
          "base_uri": "https://localhost:8080/",
          "height": 112
        },
        "outputId": "e9543942-9aa0-4b7d-8605-2d6f6f1de72e"
      },
      "execution_count": 146,
      "outputs": [
        {
          "output_type": "execute_result",
          "data": {
            "text/plain": [
              "            Colorado     Texas  New York      Ohio\n",
              "2000-01-05  0.491731 -0.949833 -0.137525  0.397080\n",
              "2000-01-12  0.629056  0.265169 -0.893407  0.592949"
            ],
            "text/html": [
              "\n",
              "  <div id=\"df-eb136f12-04a9-416d-ae6c-9174bf4d9008\">\n",
              "    <div class=\"colab-df-container\">\n",
              "      <div>\n",
              "<style scoped>\n",
              "    .dataframe tbody tr th:only-of-type {\n",
              "        vertical-align: middle;\n",
              "    }\n",
              "\n",
              "    .dataframe tbody tr th {\n",
              "        vertical-align: top;\n",
              "    }\n",
              "\n",
              "    .dataframe thead th {\n",
              "        text-align: right;\n",
              "    }\n",
              "</style>\n",
              "<table border=\"1\" class=\"dataframe\">\n",
              "  <thead>\n",
              "    <tr style=\"text-align: right;\">\n",
              "      <th></th>\n",
              "      <th>Colorado</th>\n",
              "      <th>Texas</th>\n",
              "      <th>New York</th>\n",
              "      <th>Ohio</th>\n",
              "    </tr>\n",
              "  </thead>\n",
              "  <tbody>\n",
              "    <tr>\n",
              "      <th>2000-01-05</th>\n",
              "      <td>0.491731</td>\n",
              "      <td>-0.949833</td>\n",
              "      <td>-0.137525</td>\n",
              "      <td>0.397080</td>\n",
              "    </tr>\n",
              "    <tr>\n",
              "      <th>2000-01-12</th>\n",
              "      <td>0.629056</td>\n",
              "      <td>0.265169</td>\n",
              "      <td>-0.893407</td>\n",
              "      <td>0.592949</td>\n",
              "    </tr>\n",
              "  </tbody>\n",
              "</table>\n",
              "</div>\n",
              "      <button class=\"colab-df-convert\" onclick=\"convertToInteractive('df-eb136f12-04a9-416d-ae6c-9174bf4d9008')\"\n",
              "              title=\"Convert this dataframe to an interactive table.\"\n",
              "              style=\"display:none;\">\n",
              "        \n",
              "  <svg xmlns=\"http://www.w3.org/2000/svg\" height=\"24px\"viewBox=\"0 0 24 24\"\n",
              "       width=\"24px\">\n",
              "    <path d=\"M0 0h24v24H0V0z\" fill=\"none\"/>\n",
              "    <path d=\"M18.56 5.44l.94 2.06.94-2.06 2.06-.94-2.06-.94-.94-2.06-.94 2.06-2.06.94zm-11 1L8.5 8.5l.94-2.06 2.06-.94-2.06-.94L8.5 2.5l-.94 2.06-2.06.94zm10 10l.94 2.06.94-2.06 2.06-.94-2.06-.94-.94-2.06-.94 2.06-2.06.94z\"/><path d=\"M17.41 7.96l-1.37-1.37c-.4-.4-.92-.59-1.43-.59-.52 0-1.04.2-1.43.59L10.3 9.45l-7.72 7.72c-.78.78-.78 2.05 0 2.83L4 21.41c.39.39.9.59 1.41.59.51 0 1.02-.2 1.41-.59l7.78-7.78 2.81-2.81c.8-.78.8-2.07 0-2.86zM5.41 20L4 18.59l7.72-7.72 1.47 1.35L5.41 20z\"/>\n",
              "  </svg>\n",
              "      </button>\n",
              "      \n",
              "  <style>\n",
              "    .colab-df-container {\n",
              "      display:flex;\n",
              "      flex-wrap:wrap;\n",
              "      gap: 12px;\n",
              "    }\n",
              "\n",
              "    .colab-df-convert {\n",
              "      background-color: #E8F0FE;\n",
              "      border: none;\n",
              "      border-radius: 50%;\n",
              "      cursor: pointer;\n",
              "      display: none;\n",
              "      fill: #1967D2;\n",
              "      height: 32px;\n",
              "      padding: 0 0 0 0;\n",
              "      width: 32px;\n",
              "    }\n",
              "\n",
              "    .colab-df-convert:hover {\n",
              "      background-color: #E2EBFA;\n",
              "      box-shadow: 0px 1px 2px rgba(60, 64, 67, 0.3), 0px 1px 3px 1px rgba(60, 64, 67, 0.15);\n",
              "      fill: #174EA6;\n",
              "    }\n",
              "\n",
              "    [theme=dark] .colab-df-convert {\n",
              "      background-color: #3B4455;\n",
              "      fill: #D2E3FC;\n",
              "    }\n",
              "\n",
              "    [theme=dark] .colab-df-convert:hover {\n",
              "      background-color: #434B5C;\n",
              "      box-shadow: 0px 1px 3px 1px rgba(0, 0, 0, 0.15);\n",
              "      filter: drop-shadow(0px 1px 2px rgba(0, 0, 0, 0.3));\n",
              "      fill: #FFFFFF;\n",
              "    }\n",
              "  </style>\n",
              "\n",
              "      <script>\n",
              "        const buttonEl =\n",
              "          document.querySelector('#df-eb136f12-04a9-416d-ae6c-9174bf4d9008 button.colab-df-convert');\n",
              "        buttonEl.style.display =\n",
              "          google.colab.kernel.accessAllowed ? 'block' : 'none';\n",
              "\n",
              "        async function convertToInteractive(key) {\n",
              "          const element = document.querySelector('#df-eb136f12-04a9-416d-ae6c-9174bf4d9008');\n",
              "          const dataTable =\n",
              "            await google.colab.kernel.invokeFunction('convertToInteractive',\n",
              "                                                     [key], {});\n",
              "          if (!dataTable) return;\n",
              "\n",
              "          const docLinkHtml = 'Like what you see? Visit the ' +\n",
              "            '<a target=\"_blank\" href=https://colab.research.google.com/notebooks/data_table.ipynb>data table notebook</a>'\n",
              "            + ' to learn more about interactive tables.';\n",
              "          element.innerHTML = '';\n",
              "          dataTable['output_type'] = 'display_data';\n",
              "          await google.colab.output.renderOutput(dataTable, element);\n",
              "          const docLink = document.createElement('div');\n",
              "          docLink.innerHTML = docLinkHtml;\n",
              "          element.appendChild(docLink);\n",
              "        }\n",
              "      </script>\n",
              "    </div>\n",
              "  </div>\n",
              "  "
            ]
          },
          "metadata": {},
          "execution_count": 146
        }
      ]
    },
    {
      "cell_type": "markdown",
      "source": [
        "Khi lấy mẫu lại tần suất hàng ngày, các giá trị bị thiếu theo mặc định sẽ được đưa vào:"
      ],
      "metadata": {
        "id": "kK5JGzL7Ihuk"
      }
    },
    {
      "cell_type": "code",
      "source": [
        "df_daily = frame.resample('D')\n",
        "df_daily\n"
      ],
      "metadata": {
        "id": "F7Ngo158-ytE",
        "colab": {
          "base_uri": "https://localhost:8080/"
        },
        "outputId": "1af412da-4c61-49d0-ca32-5cc8131e0ab7"
      },
      "execution_count": 147,
      "outputs": [
        {
          "output_type": "execute_result",
          "data": {
            "text/plain": [
              "<pandas.core.resample.DatetimeIndexResampler object at 0x7fb5a2ddc8d0>"
            ]
          },
          "metadata": {},
          "execution_count": 147
        }
      ]
    },
    {
      "cell_type": "markdown",
      "source": [
        "Các phương pháp điền hoặc nội suy tương tự có sẵn trong các phương pháp điền và lập chỉ mục là có sẵn để lấy mẫu lại:\n"
      ],
      "metadata": {
        "id": "fMFjCJ13Iv8Y"
      }
    },
    {
      "cell_type": "code",
      "source": [
        "frame.resample('D').ffill()"
      ],
      "metadata": {
        "id": "wtLPkZP9_FKj",
        "colab": {
          "base_uri": "https://localhost:8080/",
          "height": 300
        },
        "outputId": "3d9d0273-44db-4b15-8799-592646cb0c26"
      },
      "execution_count": 148,
      "outputs": [
        {
          "output_type": "execute_result",
          "data": {
            "text/plain": [
              "            Colorado     Texas  New York      Ohio\n",
              "2000-01-05  0.491731 -0.949833 -0.137525  0.397080\n",
              "2000-01-06  0.491731 -0.949833 -0.137525  0.397080\n",
              "2000-01-07  0.491731 -0.949833 -0.137525  0.397080\n",
              "2000-01-08  0.491731 -0.949833 -0.137525  0.397080\n",
              "2000-01-09  0.491731 -0.949833 -0.137525  0.397080\n",
              "2000-01-10  0.491731 -0.949833 -0.137525  0.397080\n",
              "2000-01-11  0.491731 -0.949833 -0.137525  0.397080\n",
              "2000-01-12  0.629056  0.265169 -0.893407  0.592949"
            ],
            "text/html": [
              "\n",
              "  <div id=\"df-084a17de-ac7a-4656-bf59-9fc52e02a730\">\n",
              "    <div class=\"colab-df-container\">\n",
              "      <div>\n",
              "<style scoped>\n",
              "    .dataframe tbody tr th:only-of-type {\n",
              "        vertical-align: middle;\n",
              "    }\n",
              "\n",
              "    .dataframe tbody tr th {\n",
              "        vertical-align: top;\n",
              "    }\n",
              "\n",
              "    .dataframe thead th {\n",
              "        text-align: right;\n",
              "    }\n",
              "</style>\n",
              "<table border=\"1\" class=\"dataframe\">\n",
              "  <thead>\n",
              "    <tr style=\"text-align: right;\">\n",
              "      <th></th>\n",
              "      <th>Colorado</th>\n",
              "      <th>Texas</th>\n",
              "      <th>New York</th>\n",
              "      <th>Ohio</th>\n",
              "    </tr>\n",
              "  </thead>\n",
              "  <tbody>\n",
              "    <tr>\n",
              "      <th>2000-01-05</th>\n",
              "      <td>0.491731</td>\n",
              "      <td>-0.949833</td>\n",
              "      <td>-0.137525</td>\n",
              "      <td>0.397080</td>\n",
              "    </tr>\n",
              "    <tr>\n",
              "      <th>2000-01-06</th>\n",
              "      <td>0.491731</td>\n",
              "      <td>-0.949833</td>\n",
              "      <td>-0.137525</td>\n",
              "      <td>0.397080</td>\n",
              "    </tr>\n",
              "    <tr>\n",
              "      <th>2000-01-07</th>\n",
              "      <td>0.491731</td>\n",
              "      <td>-0.949833</td>\n",
              "      <td>-0.137525</td>\n",
              "      <td>0.397080</td>\n",
              "    </tr>\n",
              "    <tr>\n",
              "      <th>2000-01-08</th>\n",
              "      <td>0.491731</td>\n",
              "      <td>-0.949833</td>\n",
              "      <td>-0.137525</td>\n",
              "      <td>0.397080</td>\n",
              "    </tr>\n",
              "    <tr>\n",
              "      <th>2000-01-09</th>\n",
              "      <td>0.491731</td>\n",
              "      <td>-0.949833</td>\n",
              "      <td>-0.137525</td>\n",
              "      <td>0.397080</td>\n",
              "    </tr>\n",
              "    <tr>\n",
              "      <th>2000-01-10</th>\n",
              "      <td>0.491731</td>\n",
              "      <td>-0.949833</td>\n",
              "      <td>-0.137525</td>\n",
              "      <td>0.397080</td>\n",
              "    </tr>\n",
              "    <tr>\n",
              "      <th>2000-01-11</th>\n",
              "      <td>0.491731</td>\n",
              "      <td>-0.949833</td>\n",
              "      <td>-0.137525</td>\n",
              "      <td>0.397080</td>\n",
              "    </tr>\n",
              "    <tr>\n",
              "      <th>2000-01-12</th>\n",
              "      <td>0.629056</td>\n",
              "      <td>0.265169</td>\n",
              "      <td>-0.893407</td>\n",
              "      <td>0.592949</td>\n",
              "    </tr>\n",
              "  </tbody>\n",
              "</table>\n",
              "</div>\n",
              "      <button class=\"colab-df-convert\" onclick=\"convertToInteractive('df-084a17de-ac7a-4656-bf59-9fc52e02a730')\"\n",
              "              title=\"Convert this dataframe to an interactive table.\"\n",
              "              style=\"display:none;\">\n",
              "        \n",
              "  <svg xmlns=\"http://www.w3.org/2000/svg\" height=\"24px\"viewBox=\"0 0 24 24\"\n",
              "       width=\"24px\">\n",
              "    <path d=\"M0 0h24v24H0V0z\" fill=\"none\"/>\n",
              "    <path d=\"M18.56 5.44l.94 2.06.94-2.06 2.06-.94-2.06-.94-.94-2.06-.94 2.06-2.06.94zm-11 1L8.5 8.5l.94-2.06 2.06-.94-2.06-.94L8.5 2.5l-.94 2.06-2.06.94zm10 10l.94 2.06.94-2.06 2.06-.94-2.06-.94-.94-2.06-.94 2.06-2.06.94z\"/><path d=\"M17.41 7.96l-1.37-1.37c-.4-.4-.92-.59-1.43-.59-.52 0-1.04.2-1.43.59L10.3 9.45l-7.72 7.72c-.78.78-.78 2.05 0 2.83L4 21.41c.39.39.9.59 1.41.59.51 0 1.02-.2 1.41-.59l7.78-7.78 2.81-2.81c.8-.78.8-2.07 0-2.86zM5.41 20L4 18.59l7.72-7.72 1.47 1.35L5.41 20z\"/>\n",
              "  </svg>\n",
              "      </button>\n",
              "      \n",
              "  <style>\n",
              "    .colab-df-container {\n",
              "      display:flex;\n",
              "      flex-wrap:wrap;\n",
              "      gap: 12px;\n",
              "    }\n",
              "\n",
              "    .colab-df-convert {\n",
              "      background-color: #E8F0FE;\n",
              "      border: none;\n",
              "      border-radius: 50%;\n",
              "      cursor: pointer;\n",
              "      display: none;\n",
              "      fill: #1967D2;\n",
              "      height: 32px;\n",
              "      padding: 0 0 0 0;\n",
              "      width: 32px;\n",
              "    }\n",
              "\n",
              "    .colab-df-convert:hover {\n",
              "      background-color: #E2EBFA;\n",
              "      box-shadow: 0px 1px 2px rgba(60, 64, 67, 0.3), 0px 1px 3px 1px rgba(60, 64, 67, 0.15);\n",
              "      fill: #174EA6;\n",
              "    }\n",
              "\n",
              "    [theme=dark] .colab-df-convert {\n",
              "      background-color: #3B4455;\n",
              "      fill: #D2E3FC;\n",
              "    }\n",
              "\n",
              "    [theme=dark] .colab-df-convert:hover {\n",
              "      background-color: #434B5C;\n",
              "      box-shadow: 0px 1px 3px 1px rgba(0, 0, 0, 0.15);\n",
              "      filter: drop-shadow(0px 1px 2px rgba(0, 0, 0, 0.3));\n",
              "      fill: #FFFFFF;\n",
              "    }\n",
              "  </style>\n",
              "\n",
              "      <script>\n",
              "        const buttonEl =\n",
              "          document.querySelector('#df-084a17de-ac7a-4656-bf59-9fc52e02a730 button.colab-df-convert');\n",
              "        buttonEl.style.display =\n",
              "          google.colab.kernel.accessAllowed ? 'block' : 'none';\n",
              "\n",
              "        async function convertToInteractive(key) {\n",
              "          const element = document.querySelector('#df-084a17de-ac7a-4656-bf59-9fc52e02a730');\n",
              "          const dataTable =\n",
              "            await google.colab.kernel.invokeFunction('convertToInteractive',\n",
              "                                                     [key], {});\n",
              "          if (!dataTable) return;\n",
              "\n",
              "          const docLinkHtml = 'Like what you see? Visit the ' +\n",
              "            '<a target=\"_blank\" href=https://colab.research.google.com/notebooks/data_table.ipynb>data table notebook</a>'\n",
              "            + ' to learn more about interactive tables.';\n",
              "          element.innerHTML = '';\n",
              "          dataTable['output_type'] = 'display_data';\n",
              "          await google.colab.output.renderOutput(dataTable, element);\n",
              "          const docLink = document.createElement('div');\n",
              "          docLink.innerHTML = docLinkHtml;\n",
              "          element.appendChild(docLink);\n",
              "        }\n",
              "      </script>\n",
              "    </div>\n",
              "  </div>\n",
              "  "
            ]
          },
          "metadata": {},
          "execution_count": 148
        }
      ]
    },
    {
      "cell_type": "markdown",
      "source": [
        "Tương tự, cũng có thể chọn chỉ điền vào một số khoảng thời gian nhất định về phía trước để giới hạn khoảng cách tiếp tục sử dụng một giá trị quan sát:"
      ],
      "metadata": {
        "id": "w_DUWLVgI2we"
      }
    },
    {
      "cell_type": "code",
      "source": [
        "frame.resample('W-THU').ffill()"
      ],
      "metadata": {
        "id": "ItmIjyc_AmpS",
        "colab": {
          "base_uri": "https://localhost:8080/",
          "height": 112
        },
        "outputId": "4d1f3254-cf3c-43fb-9c51-a47e865cbf43"
      },
      "execution_count": 149,
      "outputs": [
        {
          "output_type": "execute_result",
          "data": {
            "text/plain": [
              "            Colorado     Texas  New York      Ohio\n",
              "2000-01-06  0.491731 -0.949833 -0.137525  0.397080\n",
              "2000-01-13  0.629056  0.265169 -0.893407  0.592949"
            ],
            "text/html": [
              "\n",
              "  <div id=\"df-e8dea151-8337-4faf-96d3-78dafe2bd266\">\n",
              "    <div class=\"colab-df-container\">\n",
              "      <div>\n",
              "<style scoped>\n",
              "    .dataframe tbody tr th:only-of-type {\n",
              "        vertical-align: middle;\n",
              "    }\n",
              "\n",
              "    .dataframe tbody tr th {\n",
              "        vertical-align: top;\n",
              "    }\n",
              "\n",
              "    .dataframe thead th {\n",
              "        text-align: right;\n",
              "    }\n",
              "</style>\n",
              "<table border=\"1\" class=\"dataframe\">\n",
              "  <thead>\n",
              "    <tr style=\"text-align: right;\">\n",
              "      <th></th>\n",
              "      <th>Colorado</th>\n",
              "      <th>Texas</th>\n",
              "      <th>New York</th>\n",
              "      <th>Ohio</th>\n",
              "    </tr>\n",
              "  </thead>\n",
              "  <tbody>\n",
              "    <tr>\n",
              "      <th>2000-01-06</th>\n",
              "      <td>0.491731</td>\n",
              "      <td>-0.949833</td>\n",
              "      <td>-0.137525</td>\n",
              "      <td>0.397080</td>\n",
              "    </tr>\n",
              "    <tr>\n",
              "      <th>2000-01-13</th>\n",
              "      <td>0.629056</td>\n",
              "      <td>0.265169</td>\n",
              "      <td>-0.893407</td>\n",
              "      <td>0.592949</td>\n",
              "    </tr>\n",
              "  </tbody>\n",
              "</table>\n",
              "</div>\n",
              "      <button class=\"colab-df-convert\" onclick=\"convertToInteractive('df-e8dea151-8337-4faf-96d3-78dafe2bd266')\"\n",
              "              title=\"Convert this dataframe to an interactive table.\"\n",
              "              style=\"display:none;\">\n",
              "        \n",
              "  <svg xmlns=\"http://www.w3.org/2000/svg\" height=\"24px\"viewBox=\"0 0 24 24\"\n",
              "       width=\"24px\">\n",
              "    <path d=\"M0 0h24v24H0V0z\" fill=\"none\"/>\n",
              "    <path d=\"M18.56 5.44l.94 2.06.94-2.06 2.06-.94-2.06-.94-.94-2.06-.94 2.06-2.06.94zm-11 1L8.5 8.5l.94-2.06 2.06-.94-2.06-.94L8.5 2.5l-.94 2.06-2.06.94zm10 10l.94 2.06.94-2.06 2.06-.94-2.06-.94-.94-2.06-.94 2.06-2.06.94z\"/><path d=\"M17.41 7.96l-1.37-1.37c-.4-.4-.92-.59-1.43-.59-.52 0-1.04.2-1.43.59L10.3 9.45l-7.72 7.72c-.78.78-.78 2.05 0 2.83L4 21.41c.39.39.9.59 1.41.59.51 0 1.02-.2 1.41-.59l7.78-7.78 2.81-2.81c.8-.78.8-2.07 0-2.86zM5.41 20L4 18.59l7.72-7.72 1.47 1.35L5.41 20z\"/>\n",
              "  </svg>\n",
              "      </button>\n",
              "      \n",
              "  <style>\n",
              "    .colab-df-container {\n",
              "      display:flex;\n",
              "      flex-wrap:wrap;\n",
              "      gap: 12px;\n",
              "    }\n",
              "\n",
              "    .colab-df-convert {\n",
              "      background-color: #E8F0FE;\n",
              "      border: none;\n",
              "      border-radius: 50%;\n",
              "      cursor: pointer;\n",
              "      display: none;\n",
              "      fill: #1967D2;\n",
              "      height: 32px;\n",
              "      padding: 0 0 0 0;\n",
              "      width: 32px;\n",
              "    }\n",
              "\n",
              "    .colab-df-convert:hover {\n",
              "      background-color: #E2EBFA;\n",
              "      box-shadow: 0px 1px 2px rgba(60, 64, 67, 0.3), 0px 1px 3px 1px rgba(60, 64, 67, 0.15);\n",
              "      fill: #174EA6;\n",
              "    }\n",
              "\n",
              "    [theme=dark] .colab-df-convert {\n",
              "      background-color: #3B4455;\n",
              "      fill: #D2E3FC;\n",
              "    }\n",
              "\n",
              "    [theme=dark] .colab-df-convert:hover {\n",
              "      background-color: #434B5C;\n",
              "      box-shadow: 0px 1px 3px 1px rgba(0, 0, 0, 0.15);\n",
              "      filter: drop-shadow(0px 1px 2px rgba(0, 0, 0, 0.3));\n",
              "      fill: #FFFFFF;\n",
              "    }\n",
              "  </style>\n",
              "\n",
              "      <script>\n",
              "        const buttonEl =\n",
              "          document.querySelector('#df-e8dea151-8337-4faf-96d3-78dafe2bd266 button.colab-df-convert');\n",
              "        buttonEl.style.display =\n",
              "          google.colab.kernel.accessAllowed ? 'block' : 'none';\n",
              "\n",
              "        async function convertToInteractive(key) {\n",
              "          const element = document.querySelector('#df-e8dea151-8337-4faf-96d3-78dafe2bd266');\n",
              "          const dataTable =\n",
              "            await google.colab.kernel.invokeFunction('convertToInteractive',\n",
              "                                                     [key], {});\n",
              "          if (!dataTable) return;\n",
              "\n",
              "          const docLinkHtml = 'Like what you see? Visit the ' +\n",
              "            '<a target=\"_blank\" href=https://colab.research.google.com/notebooks/data_table.ipynb>data table notebook</a>'\n",
              "            + ' to learn more about interactive tables.';\n",
              "          element.innerHTML = '';\n",
              "          dataTable['output_type'] = 'display_data';\n",
              "          await google.colab.output.renderOutput(dataTable, element);\n",
              "          const docLink = document.createElement('div');\n",
              "          docLink.innerHTML = docLinkHtml;\n",
              "          element.appendChild(docLink);\n",
              "        }\n",
              "      </script>\n",
              "    </div>\n",
              "  </div>\n",
              "  "
            ]
          },
          "metadata": {},
          "execution_count": 149
        }
      ]
    },
    {
      "cell_type": "markdown",
      "source": [
        "### Resampling with Periods"
      ],
      "metadata": {
        "id": "y3O1Zgya1u7F"
      }
    },
    {
      "cell_type": "markdown",
      "source": [
        "Việc lấy mẫu ngược có nhiều sắc thái hơn vì phải đưa ra quyết định về điểm cuối của khoảng thời gian trong tần suất mới để đặt các giá trị trước khi lấy mẫu lại, giống như **phương pháp asfreq**. Đối số quy ước mặc định là 'end' nhưng cũng có thể là 'start':"
      ],
      "metadata": {
        "id": "Bazeu1nYJDuk"
      }
    },
    {
      "cell_type": "code",
      "source": [
        "annual_frame = frame.resample('A-DEC').mean()"
      ],
      "metadata": {
        "id": "fsF8UQq6hYuZ"
      },
      "execution_count": 150,
      "outputs": []
    },
    {
      "cell_type": "code",
      "source": [
        "annual_frame.resample('Q-DEC').ffill()"
      ],
      "metadata": {
        "id": "zVnfHA6I2Swp",
        "colab": {
          "base_uri": "https://localhost:8080/",
          "height": 81
        },
        "outputId": "d863b1a0-4983-4268-dad3-8b2e0edff337"
      },
      "execution_count": 151,
      "outputs": [
        {
          "output_type": "execute_result",
          "data": {
            "text/plain": [
              "            Colorado     Texas  New York      Ohio\n",
              "2000-12-31  0.560393 -0.342332 -0.515466  0.495014"
            ],
            "text/html": [
              "\n",
              "  <div id=\"df-ff9a368f-b276-40c9-941b-bd0316d480ac\">\n",
              "    <div class=\"colab-df-container\">\n",
              "      <div>\n",
              "<style scoped>\n",
              "    .dataframe tbody tr th:only-of-type {\n",
              "        vertical-align: middle;\n",
              "    }\n",
              "\n",
              "    .dataframe tbody tr th {\n",
              "        vertical-align: top;\n",
              "    }\n",
              "\n",
              "    .dataframe thead th {\n",
              "        text-align: right;\n",
              "    }\n",
              "</style>\n",
              "<table border=\"1\" class=\"dataframe\">\n",
              "  <thead>\n",
              "    <tr style=\"text-align: right;\">\n",
              "      <th></th>\n",
              "      <th>Colorado</th>\n",
              "      <th>Texas</th>\n",
              "      <th>New York</th>\n",
              "      <th>Ohio</th>\n",
              "    </tr>\n",
              "  </thead>\n",
              "  <tbody>\n",
              "    <tr>\n",
              "      <th>2000-12-31</th>\n",
              "      <td>0.560393</td>\n",
              "      <td>-0.342332</td>\n",
              "      <td>-0.515466</td>\n",
              "      <td>0.495014</td>\n",
              "    </tr>\n",
              "  </tbody>\n",
              "</table>\n",
              "</div>\n",
              "      <button class=\"colab-df-convert\" onclick=\"convertToInteractive('df-ff9a368f-b276-40c9-941b-bd0316d480ac')\"\n",
              "              title=\"Convert this dataframe to an interactive table.\"\n",
              "              style=\"display:none;\">\n",
              "        \n",
              "  <svg xmlns=\"http://www.w3.org/2000/svg\" height=\"24px\"viewBox=\"0 0 24 24\"\n",
              "       width=\"24px\">\n",
              "    <path d=\"M0 0h24v24H0V0z\" fill=\"none\"/>\n",
              "    <path d=\"M18.56 5.44l.94 2.06.94-2.06 2.06-.94-2.06-.94-.94-2.06-.94 2.06-2.06.94zm-11 1L8.5 8.5l.94-2.06 2.06-.94-2.06-.94L8.5 2.5l-.94 2.06-2.06.94zm10 10l.94 2.06.94-2.06 2.06-.94-2.06-.94-.94-2.06-.94 2.06-2.06.94z\"/><path d=\"M17.41 7.96l-1.37-1.37c-.4-.4-.92-.59-1.43-.59-.52 0-1.04.2-1.43.59L10.3 9.45l-7.72 7.72c-.78.78-.78 2.05 0 2.83L4 21.41c.39.39.9.59 1.41.59.51 0 1.02-.2 1.41-.59l7.78-7.78 2.81-2.81c.8-.78.8-2.07 0-2.86zM5.41 20L4 18.59l7.72-7.72 1.47 1.35L5.41 20z\"/>\n",
              "  </svg>\n",
              "      </button>\n",
              "      \n",
              "  <style>\n",
              "    .colab-df-container {\n",
              "      display:flex;\n",
              "      flex-wrap:wrap;\n",
              "      gap: 12px;\n",
              "    }\n",
              "\n",
              "    .colab-df-convert {\n",
              "      background-color: #E8F0FE;\n",
              "      border: none;\n",
              "      border-radius: 50%;\n",
              "      cursor: pointer;\n",
              "      display: none;\n",
              "      fill: #1967D2;\n",
              "      height: 32px;\n",
              "      padding: 0 0 0 0;\n",
              "      width: 32px;\n",
              "    }\n",
              "\n",
              "    .colab-df-convert:hover {\n",
              "      background-color: #E2EBFA;\n",
              "      box-shadow: 0px 1px 2px rgba(60, 64, 67, 0.3), 0px 1px 3px 1px rgba(60, 64, 67, 0.15);\n",
              "      fill: #174EA6;\n",
              "    }\n",
              "\n",
              "    [theme=dark] .colab-df-convert {\n",
              "      background-color: #3B4455;\n",
              "      fill: #D2E3FC;\n",
              "    }\n",
              "\n",
              "    [theme=dark] .colab-df-convert:hover {\n",
              "      background-color: #434B5C;\n",
              "      box-shadow: 0px 1px 3px 1px rgba(0, 0, 0, 0.15);\n",
              "      filter: drop-shadow(0px 1px 2px rgba(0, 0, 0, 0.3));\n",
              "      fill: #FFFFFF;\n",
              "    }\n",
              "  </style>\n",
              "\n",
              "      <script>\n",
              "        const buttonEl =\n",
              "          document.querySelector('#df-ff9a368f-b276-40c9-941b-bd0316d480ac button.colab-df-convert');\n",
              "        buttonEl.style.display =\n",
              "          google.colab.kernel.accessAllowed ? 'block' : 'none';\n",
              "\n",
              "        async function convertToInteractive(key) {\n",
              "          const element = document.querySelector('#df-ff9a368f-b276-40c9-941b-bd0316d480ac');\n",
              "          const dataTable =\n",
              "            await google.colab.kernel.invokeFunction('convertToInteractive',\n",
              "                                                     [key], {});\n",
              "          if (!dataTable) return;\n",
              "\n",
              "          const docLinkHtml = 'Like what you see? Visit the ' +\n",
              "            '<a target=\"_blank\" href=https://colab.research.google.com/notebooks/data_table.ipynb>data table notebook</a>'\n",
              "            + ' to learn more about interactive tables.';\n",
              "          element.innerHTML = '';\n",
              "          dataTable['output_type'] = 'display_data';\n",
              "          await google.colab.output.renderOutput(dataTable, element);\n",
              "          const docLink = document.createElement('div');\n",
              "          docLink.innerHTML = docLinkHtml;\n",
              "          element.appendChild(docLink);\n",
              "        }\n",
              "      </script>\n",
              "    </div>\n",
              "  </div>\n",
              "  "
            ]
          },
          "metadata": {},
          "execution_count": 151
        }
      ]
    },
    {
      "cell_type": "code",
      "source": [
        "annual_frame.resample('Q-DEC', convention='start').ffill()"
      ],
      "metadata": {
        "id": "aURV9sRKArTs",
        "colab": {
          "base_uri": "https://localhost:8080/",
          "height": 81
        },
        "outputId": "6a6c1025-a9e6-4a68-e1c1-666e3ac2e807"
      },
      "execution_count": 152,
      "outputs": [
        {
          "output_type": "execute_result",
          "data": {
            "text/plain": [
              "            Colorado     Texas  New York      Ohio\n",
              "2000-12-31  0.560393 -0.342332 -0.515466  0.495014"
            ],
            "text/html": [
              "\n",
              "  <div id=\"df-2b5a864f-cab7-4f41-8655-8e37909f0cf3\">\n",
              "    <div class=\"colab-df-container\">\n",
              "      <div>\n",
              "<style scoped>\n",
              "    .dataframe tbody tr th:only-of-type {\n",
              "        vertical-align: middle;\n",
              "    }\n",
              "\n",
              "    .dataframe tbody tr th {\n",
              "        vertical-align: top;\n",
              "    }\n",
              "\n",
              "    .dataframe thead th {\n",
              "        text-align: right;\n",
              "    }\n",
              "</style>\n",
              "<table border=\"1\" class=\"dataframe\">\n",
              "  <thead>\n",
              "    <tr style=\"text-align: right;\">\n",
              "      <th></th>\n",
              "      <th>Colorado</th>\n",
              "      <th>Texas</th>\n",
              "      <th>New York</th>\n",
              "      <th>Ohio</th>\n",
              "    </tr>\n",
              "  </thead>\n",
              "  <tbody>\n",
              "    <tr>\n",
              "      <th>2000-12-31</th>\n",
              "      <td>0.560393</td>\n",
              "      <td>-0.342332</td>\n",
              "      <td>-0.515466</td>\n",
              "      <td>0.495014</td>\n",
              "    </tr>\n",
              "  </tbody>\n",
              "</table>\n",
              "</div>\n",
              "      <button class=\"colab-df-convert\" onclick=\"convertToInteractive('df-2b5a864f-cab7-4f41-8655-8e37909f0cf3')\"\n",
              "              title=\"Convert this dataframe to an interactive table.\"\n",
              "              style=\"display:none;\">\n",
              "        \n",
              "  <svg xmlns=\"http://www.w3.org/2000/svg\" height=\"24px\"viewBox=\"0 0 24 24\"\n",
              "       width=\"24px\">\n",
              "    <path d=\"M0 0h24v24H0V0z\" fill=\"none\"/>\n",
              "    <path d=\"M18.56 5.44l.94 2.06.94-2.06 2.06-.94-2.06-.94-.94-2.06-.94 2.06-2.06.94zm-11 1L8.5 8.5l.94-2.06 2.06-.94-2.06-.94L8.5 2.5l-.94 2.06-2.06.94zm10 10l.94 2.06.94-2.06 2.06-.94-2.06-.94-.94-2.06-.94 2.06-2.06.94z\"/><path d=\"M17.41 7.96l-1.37-1.37c-.4-.4-.92-.59-1.43-.59-.52 0-1.04.2-1.43.59L10.3 9.45l-7.72 7.72c-.78.78-.78 2.05 0 2.83L4 21.41c.39.39.9.59 1.41.59.51 0 1.02-.2 1.41-.59l7.78-7.78 2.81-2.81c.8-.78.8-2.07 0-2.86zM5.41 20L4 18.59l7.72-7.72 1.47 1.35L5.41 20z\"/>\n",
              "  </svg>\n",
              "      </button>\n",
              "      \n",
              "  <style>\n",
              "    .colab-df-container {\n",
              "      display:flex;\n",
              "      flex-wrap:wrap;\n",
              "      gap: 12px;\n",
              "    }\n",
              "\n",
              "    .colab-df-convert {\n",
              "      background-color: #E8F0FE;\n",
              "      border: none;\n",
              "      border-radius: 50%;\n",
              "      cursor: pointer;\n",
              "      display: none;\n",
              "      fill: #1967D2;\n",
              "      height: 32px;\n",
              "      padding: 0 0 0 0;\n",
              "      width: 32px;\n",
              "    }\n",
              "\n",
              "    .colab-df-convert:hover {\n",
              "      background-color: #E2EBFA;\n",
              "      box-shadow: 0px 1px 2px rgba(60, 64, 67, 0.3), 0px 1px 3px 1px rgba(60, 64, 67, 0.15);\n",
              "      fill: #174EA6;\n",
              "    }\n",
              "\n",
              "    [theme=dark] .colab-df-convert {\n",
              "      background-color: #3B4455;\n",
              "      fill: #D2E3FC;\n",
              "    }\n",
              "\n",
              "    [theme=dark] .colab-df-convert:hover {\n",
              "      background-color: #434B5C;\n",
              "      box-shadow: 0px 1px 3px 1px rgba(0, 0, 0, 0.15);\n",
              "      filter: drop-shadow(0px 1px 2px rgba(0, 0, 0, 0.3));\n",
              "      fill: #FFFFFF;\n",
              "    }\n",
              "  </style>\n",
              "\n",
              "      <script>\n",
              "        const buttonEl =\n",
              "          document.querySelector('#df-2b5a864f-cab7-4f41-8655-8e37909f0cf3 button.colab-df-convert');\n",
              "        buttonEl.style.display =\n",
              "          google.colab.kernel.accessAllowed ? 'block' : 'none';\n",
              "\n",
              "        async function convertToInteractive(key) {\n",
              "          const element = document.querySelector('#df-2b5a864f-cab7-4f41-8655-8e37909f0cf3');\n",
              "          const dataTable =\n",
              "            await google.colab.kernel.invokeFunction('convertToInteractive',\n",
              "                                                     [key], {});\n",
              "          if (!dataTable) return;\n",
              "\n",
              "          const docLinkHtml = 'Like what you see? Visit the ' +\n",
              "            '<a target=\"_blank\" href=https://colab.research.google.com/notebooks/data_table.ipynb>data table notebook</a>'\n",
              "            + ' to learn more about interactive tables.';\n",
              "          element.innerHTML = '';\n",
              "          dataTable['output_type'] = 'display_data';\n",
              "          await google.colab.output.renderOutput(dataTable, element);\n",
              "          const docLink = document.createElement('div');\n",
              "          docLink.innerHTML = docLinkHtml;\n",
              "          element.appendChild(docLink);\n",
              "        }\n",
              "      </script>\n",
              "    </div>\n",
              "  </div>\n",
              "  "
            ]
          },
          "metadata": {},
          "execution_count": 152
        }
      ]
    },
    {
      "cell_type": "markdown",
      "source": [
        "Các quy tắc về lấy mẫu lên và lấy mẫu xuống\n",
        "+ Trong lấy mẫu xuống, tần số đích phải là tần số con của tần số nguồn.\n",
        "+ Trong upsampling, tần số đích phải là một siêu nghiệm của tần số nguồn. Nếu các quy tắc này không được thỏa mãn, một ngoại lệ sẽ được đưa ra. Điều này chủ yếu ảnh hưởng đến tần suất hàng quý, hàng năm và hàng tuần; ví dụ: các khoảng thời gian được xác định bởi Q-MAR chỉ phù hợp với A-MAR, A-JUN, A-SEP và A-DEC:\n"
      ],
      "metadata": {
        "id": "AKioUIlQJPJl"
      }
    },
    {
      "cell_type": "code",
      "source": [
        "annual_frame.resample('Q-MAR').ffill()"
      ],
      "metadata": {
        "id": "x290NuQMAv90",
        "colab": {
          "base_uri": "https://localhost:8080/",
          "height": 81
        },
        "outputId": "5f3af4e4-59bf-4c7f-df86-54feb0966f57"
      },
      "execution_count": 153,
      "outputs": [
        {
          "output_type": "execute_result",
          "data": {
            "text/plain": [
              "            Colorado     Texas  New York      Ohio\n",
              "2000-12-31  0.560393 -0.342332 -0.515466  0.495014"
            ],
            "text/html": [
              "\n",
              "  <div id=\"df-34e1b076-686d-4b13-8aab-c99a3068f71d\">\n",
              "    <div class=\"colab-df-container\">\n",
              "      <div>\n",
              "<style scoped>\n",
              "    .dataframe tbody tr th:only-of-type {\n",
              "        vertical-align: middle;\n",
              "    }\n",
              "\n",
              "    .dataframe tbody tr th {\n",
              "        vertical-align: top;\n",
              "    }\n",
              "\n",
              "    .dataframe thead th {\n",
              "        text-align: right;\n",
              "    }\n",
              "</style>\n",
              "<table border=\"1\" class=\"dataframe\">\n",
              "  <thead>\n",
              "    <tr style=\"text-align: right;\">\n",
              "      <th></th>\n",
              "      <th>Colorado</th>\n",
              "      <th>Texas</th>\n",
              "      <th>New York</th>\n",
              "      <th>Ohio</th>\n",
              "    </tr>\n",
              "  </thead>\n",
              "  <tbody>\n",
              "    <tr>\n",
              "      <th>2000-12-31</th>\n",
              "      <td>0.560393</td>\n",
              "      <td>-0.342332</td>\n",
              "      <td>-0.515466</td>\n",
              "      <td>0.495014</td>\n",
              "    </tr>\n",
              "  </tbody>\n",
              "</table>\n",
              "</div>\n",
              "      <button class=\"colab-df-convert\" onclick=\"convertToInteractive('df-34e1b076-686d-4b13-8aab-c99a3068f71d')\"\n",
              "              title=\"Convert this dataframe to an interactive table.\"\n",
              "              style=\"display:none;\">\n",
              "        \n",
              "  <svg xmlns=\"http://www.w3.org/2000/svg\" height=\"24px\"viewBox=\"0 0 24 24\"\n",
              "       width=\"24px\">\n",
              "    <path d=\"M0 0h24v24H0V0z\" fill=\"none\"/>\n",
              "    <path d=\"M18.56 5.44l.94 2.06.94-2.06 2.06-.94-2.06-.94-.94-2.06-.94 2.06-2.06.94zm-11 1L8.5 8.5l.94-2.06 2.06-.94-2.06-.94L8.5 2.5l-.94 2.06-2.06.94zm10 10l.94 2.06.94-2.06 2.06-.94-2.06-.94-.94-2.06-.94 2.06-2.06.94z\"/><path d=\"M17.41 7.96l-1.37-1.37c-.4-.4-.92-.59-1.43-.59-.52 0-1.04.2-1.43.59L10.3 9.45l-7.72 7.72c-.78.78-.78 2.05 0 2.83L4 21.41c.39.39.9.59 1.41.59.51 0 1.02-.2 1.41-.59l7.78-7.78 2.81-2.81c.8-.78.8-2.07 0-2.86zM5.41 20L4 18.59l7.72-7.72 1.47 1.35L5.41 20z\"/>\n",
              "  </svg>\n",
              "      </button>\n",
              "      \n",
              "  <style>\n",
              "    .colab-df-container {\n",
              "      display:flex;\n",
              "      flex-wrap:wrap;\n",
              "      gap: 12px;\n",
              "    }\n",
              "\n",
              "    .colab-df-convert {\n",
              "      background-color: #E8F0FE;\n",
              "      border: none;\n",
              "      border-radius: 50%;\n",
              "      cursor: pointer;\n",
              "      display: none;\n",
              "      fill: #1967D2;\n",
              "      height: 32px;\n",
              "      padding: 0 0 0 0;\n",
              "      width: 32px;\n",
              "    }\n",
              "\n",
              "    .colab-df-convert:hover {\n",
              "      background-color: #E2EBFA;\n",
              "      box-shadow: 0px 1px 2px rgba(60, 64, 67, 0.3), 0px 1px 3px 1px rgba(60, 64, 67, 0.15);\n",
              "      fill: #174EA6;\n",
              "    }\n",
              "\n",
              "    [theme=dark] .colab-df-convert {\n",
              "      background-color: #3B4455;\n",
              "      fill: #D2E3FC;\n",
              "    }\n",
              "\n",
              "    [theme=dark] .colab-df-convert:hover {\n",
              "      background-color: #434B5C;\n",
              "      box-shadow: 0px 1px 3px 1px rgba(0, 0, 0, 0.15);\n",
              "      filter: drop-shadow(0px 1px 2px rgba(0, 0, 0, 0.3));\n",
              "      fill: #FFFFFF;\n",
              "    }\n",
              "  </style>\n",
              "\n",
              "      <script>\n",
              "        const buttonEl =\n",
              "          document.querySelector('#df-34e1b076-686d-4b13-8aab-c99a3068f71d button.colab-df-convert');\n",
              "        buttonEl.style.display =\n",
              "          google.colab.kernel.accessAllowed ? 'block' : 'none';\n",
              "\n",
              "        async function convertToInteractive(key) {\n",
              "          const element = document.querySelector('#df-34e1b076-686d-4b13-8aab-c99a3068f71d');\n",
              "          const dataTable =\n",
              "            await google.colab.kernel.invokeFunction('convertToInteractive',\n",
              "                                                     [key], {});\n",
              "          if (!dataTable) return;\n",
              "\n",
              "          const docLinkHtml = 'Like what you see? Visit the ' +\n",
              "            '<a target=\"_blank\" href=https://colab.research.google.com/notebooks/data_table.ipynb>data table notebook</a>'\n",
              "            + ' to learn more about interactive tables.';\n",
              "          element.innerHTML = '';\n",
              "          dataTable['output_type'] = 'display_data';\n",
              "          await google.colab.output.renderOutput(dataTable, element);\n",
              "          const docLink = document.createElement('div');\n",
              "          docLink.innerHTML = docLinkHtml;\n",
              "          element.appendChild(docLink);\n",
              "        }\n",
              "      </script>\n",
              "    </div>\n",
              "  </div>\n",
              "  "
            ]
          },
          "metadata": {},
          "execution_count": 153
        }
      ]
    },
    {
      "cell_type": "markdown",
      "source": [
        "## Time Series Plotting"
      ],
      "metadata": {
        "id": "TWjAc1s91xEo"
      }
    },
    {
      "cell_type": "markdown",
      "source": [
        "Các biểu đồ của pandas time-series đã cải thiện định dạng ngày so với biểu đồ của matplotlib, ta có thể thấy trong ví dụ sau.\n",
        "\n",
        "Ví dụ: Chúng ta tải xuống một số dữ liệu về giá cổ phiếu của một số cổ phiếu phổ biến của Hoa Kỳ từ Yahoo! Finance:"
      ],
      "metadata": {
        "id": "64zzN51-6k_Y"
      }
    },
    {
      "cell_type": "code",
      "source": [
        "import pandas as pd\n",
        "import numpy as np\n",
        "import matplotlib.pyplot as plt\n",
        "from datetime import datetime\n",
        "from pandas import Series"
      ],
      "metadata": {
        "id": "ykvattqfDOpM"
      },
      "execution_count": 154,
      "outputs": []
    },
    {
      "cell_type": "code",
      "source": [
        "url = 'https://raw.githubusercontent.com/wangruinju/python-for-data-analysis/master/ch09/stock_px.csv'\n",
        "close_px_all = pd.read_csv(url, parse_dates=True, index_col=0)\n",
        "close_px = close_px_all[['AAPL', 'MSFT', 'XOM']]\n",
        "close_px = close_px.resample('B').ffill()\n",
        "close_px"
      ],
      "metadata": {
        "id": "LkEjd5Ci2Tcp",
        "colab": {
          "base_uri": "https://localhost:8080/",
          "height": 424
        },
        "outputId": "8bf7bf76-d1a8-4237-c4a6-444b3cfe0b70"
      },
      "execution_count": 155,
      "outputs": [
        {
          "output_type": "execute_result",
          "data": {
            "text/plain": [
              "              AAPL   MSFT    XOM\n",
              "2003-01-02    7.40  21.11  29.22\n",
              "2003-01-03    7.45  21.14  29.24\n",
              "2003-01-06    7.45  21.52  29.96\n",
              "2003-01-07    7.43  21.93  28.95\n",
              "2003-01-08    7.28  21.31  28.83\n",
              "...            ...    ...    ...\n",
              "2011-10-10  388.81  26.94  76.28\n",
              "2011-10-11  400.29  27.00  76.27\n",
              "2011-10-12  402.19  26.96  77.16\n",
              "2011-10-13  408.43  27.18  76.37\n",
              "2011-10-14  422.00  27.27  78.11\n",
              "\n",
              "[2292 rows x 3 columns]"
            ],
            "text/html": [
              "\n",
              "  <div id=\"df-5cc231e9-930d-40ec-8e74-273a770a142b\">\n",
              "    <div class=\"colab-df-container\">\n",
              "      <div>\n",
              "<style scoped>\n",
              "    .dataframe tbody tr th:only-of-type {\n",
              "        vertical-align: middle;\n",
              "    }\n",
              "\n",
              "    .dataframe tbody tr th {\n",
              "        vertical-align: top;\n",
              "    }\n",
              "\n",
              "    .dataframe thead th {\n",
              "        text-align: right;\n",
              "    }\n",
              "</style>\n",
              "<table border=\"1\" class=\"dataframe\">\n",
              "  <thead>\n",
              "    <tr style=\"text-align: right;\">\n",
              "      <th></th>\n",
              "      <th>AAPL</th>\n",
              "      <th>MSFT</th>\n",
              "      <th>XOM</th>\n",
              "    </tr>\n",
              "  </thead>\n",
              "  <tbody>\n",
              "    <tr>\n",
              "      <th>2003-01-02</th>\n",
              "      <td>7.40</td>\n",
              "      <td>21.11</td>\n",
              "      <td>29.22</td>\n",
              "    </tr>\n",
              "    <tr>\n",
              "      <th>2003-01-03</th>\n",
              "      <td>7.45</td>\n",
              "      <td>21.14</td>\n",
              "      <td>29.24</td>\n",
              "    </tr>\n",
              "    <tr>\n",
              "      <th>2003-01-06</th>\n",
              "      <td>7.45</td>\n",
              "      <td>21.52</td>\n",
              "      <td>29.96</td>\n",
              "    </tr>\n",
              "    <tr>\n",
              "      <th>2003-01-07</th>\n",
              "      <td>7.43</td>\n",
              "      <td>21.93</td>\n",
              "      <td>28.95</td>\n",
              "    </tr>\n",
              "    <tr>\n",
              "      <th>2003-01-08</th>\n",
              "      <td>7.28</td>\n",
              "      <td>21.31</td>\n",
              "      <td>28.83</td>\n",
              "    </tr>\n",
              "    <tr>\n",
              "      <th>...</th>\n",
              "      <td>...</td>\n",
              "      <td>...</td>\n",
              "      <td>...</td>\n",
              "    </tr>\n",
              "    <tr>\n",
              "      <th>2011-10-10</th>\n",
              "      <td>388.81</td>\n",
              "      <td>26.94</td>\n",
              "      <td>76.28</td>\n",
              "    </tr>\n",
              "    <tr>\n",
              "      <th>2011-10-11</th>\n",
              "      <td>400.29</td>\n",
              "      <td>27.00</td>\n",
              "      <td>76.27</td>\n",
              "    </tr>\n",
              "    <tr>\n",
              "      <th>2011-10-12</th>\n",
              "      <td>402.19</td>\n",
              "      <td>26.96</td>\n",
              "      <td>77.16</td>\n",
              "    </tr>\n",
              "    <tr>\n",
              "      <th>2011-10-13</th>\n",
              "      <td>408.43</td>\n",
              "      <td>27.18</td>\n",
              "      <td>76.37</td>\n",
              "    </tr>\n",
              "    <tr>\n",
              "      <th>2011-10-14</th>\n",
              "      <td>422.00</td>\n",
              "      <td>27.27</td>\n",
              "      <td>78.11</td>\n",
              "    </tr>\n",
              "  </tbody>\n",
              "</table>\n",
              "<p>2292 rows × 3 columns</p>\n",
              "</div>\n",
              "      <button class=\"colab-df-convert\" onclick=\"convertToInteractive('df-5cc231e9-930d-40ec-8e74-273a770a142b')\"\n",
              "              title=\"Convert this dataframe to an interactive table.\"\n",
              "              style=\"display:none;\">\n",
              "        \n",
              "  <svg xmlns=\"http://www.w3.org/2000/svg\" height=\"24px\"viewBox=\"0 0 24 24\"\n",
              "       width=\"24px\">\n",
              "    <path d=\"M0 0h24v24H0V0z\" fill=\"none\"/>\n",
              "    <path d=\"M18.56 5.44l.94 2.06.94-2.06 2.06-.94-2.06-.94-.94-2.06-.94 2.06-2.06.94zm-11 1L8.5 8.5l.94-2.06 2.06-.94-2.06-.94L8.5 2.5l-.94 2.06-2.06.94zm10 10l.94 2.06.94-2.06 2.06-.94-2.06-.94-.94-2.06-.94 2.06-2.06.94z\"/><path d=\"M17.41 7.96l-1.37-1.37c-.4-.4-.92-.59-1.43-.59-.52 0-1.04.2-1.43.59L10.3 9.45l-7.72 7.72c-.78.78-.78 2.05 0 2.83L4 21.41c.39.39.9.59 1.41.59.51 0 1.02-.2 1.41-.59l7.78-7.78 2.81-2.81c.8-.78.8-2.07 0-2.86zM5.41 20L4 18.59l7.72-7.72 1.47 1.35L5.41 20z\"/>\n",
              "  </svg>\n",
              "      </button>\n",
              "      \n",
              "  <style>\n",
              "    .colab-df-container {\n",
              "      display:flex;\n",
              "      flex-wrap:wrap;\n",
              "      gap: 12px;\n",
              "    }\n",
              "\n",
              "    .colab-df-convert {\n",
              "      background-color: #E8F0FE;\n",
              "      border: none;\n",
              "      border-radius: 50%;\n",
              "      cursor: pointer;\n",
              "      display: none;\n",
              "      fill: #1967D2;\n",
              "      height: 32px;\n",
              "      padding: 0 0 0 0;\n",
              "      width: 32px;\n",
              "    }\n",
              "\n",
              "    .colab-df-convert:hover {\n",
              "      background-color: #E2EBFA;\n",
              "      box-shadow: 0px 1px 2px rgba(60, 64, 67, 0.3), 0px 1px 3px 1px rgba(60, 64, 67, 0.15);\n",
              "      fill: #174EA6;\n",
              "    }\n",
              "\n",
              "    [theme=dark] .colab-df-convert {\n",
              "      background-color: #3B4455;\n",
              "      fill: #D2E3FC;\n",
              "    }\n",
              "\n",
              "    [theme=dark] .colab-df-convert:hover {\n",
              "      background-color: #434B5C;\n",
              "      box-shadow: 0px 1px 3px 1px rgba(0, 0, 0, 0.15);\n",
              "      filter: drop-shadow(0px 1px 2px rgba(0, 0, 0, 0.3));\n",
              "      fill: #FFFFFF;\n",
              "    }\n",
              "  </style>\n",
              "\n",
              "      <script>\n",
              "        const buttonEl =\n",
              "          document.querySelector('#df-5cc231e9-930d-40ec-8e74-273a770a142b button.colab-df-convert');\n",
              "        buttonEl.style.display =\n",
              "          google.colab.kernel.accessAllowed ? 'block' : 'none';\n",
              "\n",
              "        async function convertToInteractive(key) {\n",
              "          const element = document.querySelector('#df-5cc231e9-930d-40ec-8e74-273a770a142b');\n",
              "          const dataTable =\n",
              "            await google.colab.kernel.invokeFunction('convertToInteractive',\n",
              "                                                     [key], {});\n",
              "          if (!dataTable) return;\n",
              "\n",
              "          const docLinkHtml = 'Like what you see? Visit the ' +\n",
              "            '<a target=\"_blank\" href=https://colab.research.google.com/notebooks/data_table.ipynb>data table notebook</a>'\n",
              "            + ' to learn more about interactive tables.';\n",
              "          element.innerHTML = '';\n",
              "          dataTable['output_type'] = 'display_data';\n",
              "          await google.colab.output.renderOutput(dataTable, element);\n",
              "          const docLink = document.createElement('div');\n",
              "          docLink.innerHTML = docLinkHtml;\n",
              "          element.appendChild(docLink);\n",
              "        }\n",
              "      </script>\n",
              "    </div>\n",
              "  </div>\n",
              "  "
            ]
          },
          "metadata": {},
          "execution_count": 155
        }
      ]
    },
    {
      "cell_type": "markdown",
      "source": [
        "Việc gọi một trong các cột của biểu đồ trên sẽ tạo thành một biểu đồ đơn giản, thấy như trong biểu đồ sau"
      ],
      "metadata": {
        "id": "L5HdmIBB7x-4"
      }
    },
    {
      "cell_type": "code",
      "source": [
        "close_px['AAPL'].plot()"
      ],
      "metadata": {
        "id": "k9biTyuR8AsG",
        "colab": {
          "base_uri": "https://localhost:8080/",
          "height": 282
        },
        "outputId": "1184ca22-19bc-43ac-c34d-10e72c481068"
      },
      "execution_count": 156,
      "outputs": [
        {
          "output_type": "execute_result",
          "data": {
            "text/plain": [
              "<matplotlib.axes._subplots.AxesSubplot at 0x7fb5a2d5cb10>"
            ]
          },
          "metadata": {},
          "execution_count": 156
        },
        {
          "output_type": "display_data",
          "data": {
            "text/plain": [
              "<Figure size 432x288 with 1 Axes>"
            ],
            "image/png": "[encoded data removed]"
          },
          "metadata": {
            "needs_background": "light"
          }
        }
      ]
    },
    {
      "cell_type": "markdown",
      "source": [
        "Khi gọi trên DataFrame, tất cả các time-series được vẽ trên một ô con duy nhất với chú thích cho biết đó là ô nào. Biểu đồ bên dưới giúp bạn có thể thấy cách mà cả tháng và năm được định dạng trên trục X"
      ],
      "metadata": {
        "id": "6cdOgvwJ8EHW"
      }
    },
    {
      "cell_type": "code",
      "source": [
        "close_px.loc['2009'].plot()"
      ],
      "metadata": {
        "id": "6ONc2j548WPe",
        "colab": {
          "base_uri": "https://localhost:8080/",
          "height": 294
        },
        "outputId": "093ca860-4744-4598-d386-9d1911764498"
      },
      "execution_count": 157,
      "outputs": [
        {
          "output_type": "execute_result",
          "data": {
            "text/plain": [
              "<matplotlib.axes._subplots.AxesSubplot at 0x7fb5a2c46bd0>"
            ]
          },
          "metadata": {},
          "execution_count": 157
        },
        {
          "output_type": "display_data",
          "data": {
            "text/plain": [
              "<Figure size 432x288 with 1 Axes>"
            ],
            "image/png": "[encoded data removed]"
          },
          "metadata": {
            "needs_background": "light"
          }
        }
      ]
    },
    {
      "cell_type": "code",
      "source": [
        " close_px['AAPL'].loc['01-2011':'03-2011'].plot()"
      ],
      "metadata": {
        "id": "Ds06PdIe8fWG",
        "colab": {
          "base_uri": "https://localhost:8080/",
          "height": 317
        },
        "outputId": "860a445f-dfc6-44b7-af72-78a7313b7b95"
      },
      "execution_count": 158,
      "outputs": [
        {
          "output_type": "execute_result",
          "data": {
            "text/plain": [
              "<matplotlib.axes._subplots.AxesSubplot at 0x7fb5a2792cd0>"
            ]
          },
          "metadata": {},
          "execution_count": 158
        },
        {
          "output_type": "display_data",
          "data": {
            "text/plain": [
              "<Figure size 432x288 with 1 Axes>"
            ],
            "image/png": "[encoded data removed]"
          },
          "metadata": {
            "needs_background": "light"
          }
        }
      ]
    },
    {
      "cell_type": "markdown",
      "source": [
        "Dữ liệu tần suất hàng quý cũng được định dạng tốt hơn so với điểm đánh dấu hàng quý"
      ],
      "metadata": {
        "id": "Mjeo1iP68h72"
      }
    },
    {
      "cell_type": "code",
      "source": [
        " appl_q = close_px['AAPL'].resample('Q-DEC').ffill()\n",
        " appl_q.loc['2009':].plot()"
      ],
      "metadata": {
        "id": "nZ89mCuZ8mue",
        "colab": {
          "base_uri": "https://localhost:8080/",
          "height": 294
        },
        "outputId": "78945179-87ce-41ff-c3d8-adf89c57ba11"
      },
      "execution_count": 159,
      "outputs": [
        {
          "output_type": "execute_result",
          "data": {
            "text/plain": [
              "<matplotlib.axes._subplots.AxesSubplot at 0x7fb5a266d990>"
            ]
          },
          "metadata": {},
          "execution_count": 159
        },
        {
          "output_type": "display_data",
          "data": {
            "text/plain": [
              "<Figure size 432x288 with 1 Axes>"
            ],
            "image/png": "[encoded data removed]"
          },
          "metadata": {
            "needs_background": "light"
          }
        }
      ]
    },
    {
      "cell_type": "markdown",
      "source": [
        "Tính năng cuối cùng của time-series là bằng cách nhấp chuột phải và kéo để phóng to và thu nhỏ, ngày tháng sẽ được mở rộng hoặc thu nhỏ và định dạng lại tùy thuộc vào khoảng thời gian có trong chế độ xem biểu đồ. Với matplotlib, điều này chỉ đúng khi sử dụng ở chế độ tương tác."
      ],
      "metadata": {
        "id": "JcAISQf58vTO"
      }
    },
    {
      "cell_type": "markdown",
      "source": [
        "## Moving Window Functions\n",
        "\n",
        "\n",
        "\n"
      ],
      "metadata": {
        "id": "C-9A26HF11Yf"
      }
    },
    {
      "cell_type": "markdown",
      "source": [
        "Một lớp phổ biến của phép biến đổi mảng cho các phép toán time-series là thống kê, các hàm khác được đánh giá qua sliding window hoặc đánh giá với trọng số giảm dần theo cấp số nhân. Ta gọi đây là **moving window functions** (chức năng này tự động loại trừ các dữ liệu bị thiếu)\n",
        "\n",
        "***rolling_mean*** là giá trị trung bình của một số khoảng thời gian \n",
        "nhất định trước đó trong một time-series."
      ],
      "metadata": {
        "id": "NBND3R1Y8_F-"
      }
    },
    {
      "cell_type": "code",
      "source": [
        "close_px.AAPL.plot()"
      ],
      "metadata": {
        "id": "aYoeI4X42T_f",
        "colab": {
          "base_uri": "https://localhost:8080/",
          "height": 282
        },
        "outputId": "5d169c96-130f-491f-afae-40e24ed4fb40"
      },
      "execution_count": 160,
      "outputs": [
        {
          "output_type": "execute_result",
          "data": {
            "text/plain": [
              "<matplotlib.axes._subplots.AxesSubplot at 0x7fb5a24d4250>"
            ]
          },
          "metadata": {},
          "execution_count": 160
        },
        {
          "output_type": "display_data",
          "data": {
            "text/plain": [
              "<Figure size 432x288 with 1 Axes>"
            ],
            "image/png": "[encoded data removed]"
          },
          "metadata": {
            "needs_background": "light"
          }
        }
      ]
    },
    {
      "cell_type": "code",
      "source": [
        "close_px.AAPL.rolling(250).mean()"
      ],
      "metadata": {
        "id": "3CAAGl4A9c3V",
        "colab": {
          "base_uri": "https://localhost:8080/"
        },
        "outputId": "5fbf162c-817f-449c-e505-d4e2e2867b58"
      },
      "execution_count": 161,
      "outputs": [
        {
          "output_type": "execute_result",
          "data": {
            "text/plain": [
              "2003-01-02          NaN\n",
              "2003-01-03          NaN\n",
              "2003-01-06          NaN\n",
              "2003-01-07          NaN\n",
              "2003-01-08          NaN\n",
              "                ...    \n",
              "2011-10-10    347.58772\n",
              "2011-10-11    347.95668\n",
              "2011-10-12    348.33412\n",
              "2011-10-13    348.74688\n",
              "2011-10-14    349.23096\n",
              "Freq: B, Name: AAPL, Length: 2292, dtype: float64"
            ]
          },
          "metadata": {},
          "execution_count": 161
        }
      ]
    },
    {
      "cell_type": "markdown",
      "source": [
        "Các hàm như ***rolling_mean*** yêu cầu số lượng non-NA được chỉ định. Hoạt động này có thể được dùng để giải thích cho dữ liệu bị thiếu."
      ],
      "metadata": {
        "id": "bCidsV0I9fyN"
      }
    },
    {
      "cell_type": "code",
      "source": [
        "appl_std250 = close_px.AAPL.rolling(250, min_periods=10).std()\n",
        "appl_std250[5:12]"
      ],
      "metadata": {
        "id": "4NLJWBav9nAo",
        "colab": {
          "base_uri": "https://localhost:8080/"
        },
        "outputId": "672b6d89-8503-4187-a189-c357e4578999"
      },
      "execution_count": 162,
      "outputs": [
        {
          "output_type": "execute_result",
          "data": {
            "text/plain": [
              "2003-01-09         NaN\n",
              "2003-01-10         NaN\n",
              "2003-01-13         NaN\n",
              "2003-01-14         NaN\n",
              "2003-01-15    0.077496\n",
              "2003-01-16    0.074760\n",
              "2003-01-17    0.112368\n",
              "Freq: B, Name: AAPL, dtype: float64"
            ]
          },
          "metadata": {},
          "execution_count": 162
        }
      ]
    },
    {
      "cell_type": "code",
      "source": [
        "appl_std250.plot()"
      ],
      "metadata": {
        "id": "RdHqdbKH9rKG",
        "colab": {
          "base_uri": "https://localhost:8080/",
          "height": 282
        },
        "outputId": "640b7319-fe03-4125-b942-ff1d351d5aa4"
      },
      "execution_count": 163,
      "outputs": [
        {
          "output_type": "execute_result",
          "data": {
            "text/plain": [
              "<matplotlib.axes._subplots.AxesSubplot at 0x7fb5a23f9250>"
            ]
          },
          "metadata": {},
          "execution_count": 163
        },
        {
          "output_type": "display_data",
          "data": {
            "text/plain": [
              "<Figure size 432x288 with 1 Axes>"
            ],
            "image/png": "[encoded data removed]"
          },
          "metadata": {
            "needs_background": "light"
          }
        }
      ]
    },
    {
      "cell_type": "markdown",
      "source": [
        "Để tính giá trị expanding window mean, có thể thấy rằng expanding window (cửa sổ mở rộng ) chỉ là một trường hợp đặc biệt trong đó window là độ dài của time-series, nhưng chỉ cần một hoặc nhiều periods để tính giá trị:\n"
      ],
      "metadata": {
        "id": "iRpgj1Fc90RZ"
      }
    },
    {
      "cell_type": "code",
      "source": [
        "# Define expanding mean in terms of rolling_mean\n",
        "expanding_mean = lambda x: rolling_mean(x, len(x), min_periods=1)"
      ],
      "metadata": {
        "id": "GFuEp4oP91Fm"
      },
      "execution_count": 164,
      "outputs": []
    },
    {
      "cell_type": "markdown",
      "source": [
        "Việc gọi ***rolling\\_mean*** và friends trên DataFrame sẽ áp dụng phép biến đổi cho từng cột."
      ],
      "metadata": {
        "id": "87L72nXW94AO"
      }
    },
    {
      "cell_type": "code",
      "source": [
        "close_px.rolling(60).mean().plot(logy=True)"
      ],
      "metadata": {
        "id": "MbOZZ1Hq97eI",
        "colab": {
          "base_uri": "https://localhost:8080/",
          "height": 282
        },
        "outputId": "ab0cc455-f78f-4d72-9e53-eae232c85252"
      },
      "execution_count": 165,
      "outputs": [
        {
          "output_type": "execute_result",
          "data": {
            "text/plain": [
              "<matplotlib.axes._subplots.AxesSubplot at 0x7fb5a22fdc50>"
            ]
          },
          "metadata": {},
          "execution_count": 165
        },
        {
          "output_type": "display_data",
          "data": {
            "text/plain": [
              "<Figure size 432x288 with 1 Axes>"
            ],
            "image/png": "[encoded data removed]"
          },
          "metadata": {
            "needs_background": "light"
          }
        }
      ]
    },
    {
      "cell_type": "markdown",
      "source": [
        "### Exponentially-weighted functions"
      ],
      "metadata": {
        "id": "8y6MxTnb14iJ"
      }
    },
    {
      "cell_type": "markdown",
      "source": [
        "Giải pháp thay thế cho việc sử dụng kích thước window tĩnh với các observations bằng nhau là chỉ định decay factor không đổi để tạo thêm trọng lượng cho các observations gần đây hơn.Có một số cách để chỉ định decay factor, một cách phổ biến là sử dụng một ***span***.\n",
        "\n",
        "Vì một thống kê có trọng số theo cấp số nhân đặt nhiều trọng lượng hơn vào các observations gần đây, nên nó “thích ứng” nhanh hơn với những thay đổi so với phiên bản có trọng số bằng nhau. Dưới đây là một ví dụ so sánh đường trung bình động trong 60 ngày của giá cổ phiếu Apple với đường trung bình động EW với span = 60\n"
      ],
      "metadata": {
        "id": "AfZlw0vx-Czi"
      }
    },
    {
      "cell_type": "code",
      "source": [
        "fig, axes = plt.subplots(nrows=2, ncols=1, sharex=True, sharey=True, figsize=(12, 7))"
      ],
      "metadata": {
        "id": "k4zPxHRh-JoF",
        "colab": {
          "base_uri": "https://localhost:8080/",
          "height": 432
        },
        "outputId": "0131ad72-7d16-4b85-8e3c-e603ab3d66f8"
      },
      "execution_count": 166,
      "outputs": [
        {
          "output_type": "display_data",
          "data": {
            "text/plain": [
              "<Figure size 864x504 with 2 Axes>"
            ],
            "image/png": "[encoded data removed]"
          },
          "metadata": {
            "needs_background": "light"
          }
        }
      ]
    },
    {
      "cell_type": "code",
      "source": [
        "aapl_px = close_px.AAPL['2005':'2009']"
      ],
      "metadata": {
        "id": "LuH5XsZ22Ujn"
      },
      "execution_count": 167,
      "outputs": []
    },
    {
      "cell_type": "code",
      "source": [
        "ma60 = aapl_px.rolling(60, min_periods=50).mean()\n",
        "ewma60 = aapl_px.ewm(span=60).mean()"
      ],
      "metadata": {
        "id": "6vIb27lQ-RBU"
      },
      "execution_count": 168,
      "outputs": []
    },
    {
      "cell_type": "code",
      "source": [
        "ma60.plot(style='k--', label='Simple MA')\n",
        "ewma60.plot(style='k-', label='EW MA')\n",
        "plt.legend()"
      ],
      "metadata": {
        "id": "tVQ5HoHH-SgF",
        "colab": {
          "base_uri": "https://localhost:8080/",
          "height": 282
        },
        "outputId": "c01ea040-1255-43d1-ded0-9e8ff7ef80c0"
      },
      "execution_count": 169,
      "outputs": [
        {
          "output_type": "execute_result",
          "data": {
            "text/plain": [
              "<matplotlib.legend.Legend at 0x7fb5a2021210>"
            ]
          },
          "metadata": {},
          "execution_count": 169
        },
        {
          "output_type": "display_data",
          "data": {
            "text/plain": [
              "<Figure size 432x288 with 1 Axes>"
            ],
            "image/png": "[encoded data removed]"
          },
          "metadata": {
            "needs_background": "light"
          }
        }
      ]
    },
    {
      "cell_type": "markdown",
      "source": [
        "### Binary Moving Window Functions"
      ],
      "metadata": {
        "id": "8tiQ4msr16_6"
      }
    },
    {
      "cell_type": "markdown",
      "source": [
        "Một số toán tử thống kê, như tương quan và hiệp phương sai, cần hoạt động trên hai time-series. Ví dụ: các nhà phân tích tài chính thường quan tâm đến mối tương quan của cổ phiếu với chỉ số chuẩn như S&P 500. Chúng ta có thể tính toán điều đó bằng cách tính toán phần trăm thay đổi và sử dụng ***rolling_corr***."
      ],
      "metadata": {
        "id": "H52M6vjj-Xbk"
      }
    },
    {
      "cell_type": "code",
      "source": [
        "spx_px = close_px_all['SPX']\n",
        "spx_rets = spx_px.pct_change()\n",
        "returns = close_px.pct_change()\n",
        "corr = returns.AAPL.rolling(125, min_periods=100).corr(spx_rets)\n",
        "corr.plot()"
      ],
      "metadata": {
        "id": "G3zYxBxW_rqk",
        "colab": {
          "base_uri": "https://localhost:8080/",
          "height": 282
        },
        "outputId": "c270c0d3-6fa1-4869-c083-cab901b029cd"
      },
      "execution_count": 170,
      "outputs": [
        {
          "output_type": "execute_result",
          "data": {
            "text/plain": [
              "<matplotlib.axes._subplots.AxesSubplot at 0x7fb5a2025c10>"
            ]
          },
          "metadata": {},
          "execution_count": 170
        },
        {
          "output_type": "display_data",
          "data": {
            "text/plain": [
              "<Figure size 432x288 with 1 Axes>"
            ],
            "image/png": "[encoded data removed]"
          },
          "metadata": {
            "needs_background": "light"
          }
        }
      ]
    },
    {
      "cell_type": "markdown",
      "source": [
        "Hàm ***pct_change*** được dùng để tính toán phần trăm thay đổi giữa phần tử hiện tại và phần tử trước đó . Theo mặc định, hàm này tính toán phần trăm thay đổi so với hàng ngay trước đó.\n",
        "\n",
        "Giả sử bạn muốn tính toán mối tương quan của chỉ số S&P 500 với nhiều cổ phiếu cùng một lúc. Nếu bạn chuyển một TimeSeries và một DataFrame, một hàm như ***rolling_corr*** sẽ tính toán mối tương quan của TimeSeries với mỗi cột trong DataFrame."
      ],
      "metadata": {
        "id": "sxoUOU5s-kdk"
      }
    },
    {
      "cell_type": "code",
      "source": [
        "corr = returns.rolling(125, min_periods=100).corr(spx_rets)\n",
        "corr.plot()"
      ],
      "metadata": {
        "id": "xAR7qWrK-qDl",
        "colab": {
          "base_uri": "https://localhost:8080/",
          "height": 282
        },
        "outputId": "bcab201a-f716-4d6f-f944-931d89b60e70"
      },
      "execution_count": 171,
      "outputs": [
        {
          "output_type": "execute_result",
          "data": {
            "text/plain": [
              "<matplotlib.axes._subplots.AxesSubplot at 0x7fb5a1de5e50>"
            ]
          },
          "metadata": {},
          "execution_count": 171
        },
        {
          "output_type": "display_data",
          "data": {
            "text/plain": [
              "<Figure size 432x288 with 1 Axes>"
            ],
            "image/png": "[encoded data removed]"
          },
          "metadata": {
            "needs_background": "light"
          }
        }
      ]
    },
    {
      "cell_type": "markdown",
      "source": [
        "### User-Defined Moving Window Functions"
      ],
      "metadata": {
        "id": "1mGQb_N82AC3"
      }
    },
    {
      "cell_type": "markdown",
      "source": [
        "Hàm ***rolling_apply*** cung cấp một phương tiện để áp dụng một hàm mảng do chính bạn tạo ra trên một moving window. \n",
        "\n",
        "Hàm ***scipy.stats.percentileofscore*** giúp chúng ta có thể biết đến thứ hạng phần trăm của một giá trị cụ thể trên mẫu."
      ],
      "metadata": {
        "id": "xMeT_TEe-vgt"
      }
    },
    {
      "cell_type": "code",
      "source": [
        "from scipy.stats import percentileofscore\n",
        "score_at_2percent = lambda x: percentileofscore(x, 0.02)\n",
        "result = returns.AAPL.rolling(250).apply(score_at_2percent)\n",
        "result.plot()\n"
      ],
      "metadata": {
        "id": "V2ENWd-H2V4H",
        "colab": {
          "base_uri": "https://localhost:8080/",
          "height": 282
        },
        "outputId": "869efe54-0177-4a15-e25b-faad917bd365"
      },
      "execution_count": 172,
      "outputs": [
        {
          "output_type": "execute_result",
          "data": {
            "text/plain": [
              "<matplotlib.axes._subplots.AxesSubplot at 0x7fb596263b90>"
            ]
          },
          "metadata": {},
          "execution_count": 172
        },
        {
          "output_type": "display_data",
          "data": {
            "text/plain": [
              "<Figure size 432x288 with 1 Axes>"
            ],
            "image/png": "[encoded data removed]"
          },
          "metadata": {
            "needs_background": "light"
          }
        }
      ]
    },
    {
      "cell_type": "markdown",
      "source": [
        "## Performance and Memory Usage Notes\n"
      ],
      "metadata": {
        "id": "cARXMARx2Byn"
      }
    },
    {
      "cell_type": "markdown",
      "source": [
        "Về hiệu suất, pandas đã được tối ưu hóa cao cho các hoạt động căn chỉnh dữ liệu (công việc hậu trường của ts1 + ts2 được lập index khác nhau) và lấy mẫu lại. Dưới đây là một ví dụ về tổng hợp các điểm dữ liệu 10MM thành OHLC:"
      ],
      "metadata": {
        "id": "aDQ_mmH0_Ex8"
      }
    },
    {
      "cell_type": "code",
      "source": [
        "rng = pd.date_range('1/1/2000', periods=10000000, freq='10ms')\n",
        "ts = Series(np.random.randn(len(rng)), index=rng)\n",
        "ts"
      ],
      "metadata": {
        "id": "qlPDZoDp_GMF",
        "colab": {
          "base_uri": "https://localhost:8080/"
        },
        "outputId": "9c03739d-ef82-4aed-bd6c-16a6b7d3efbd"
      },
      "execution_count": 173,
      "outputs": [
        {
          "output_type": "execute_result",
          "data": {
            "text/plain": [
              "2000-01-01 00:00:00.000   -0.865284\n",
              "2000-01-01 00:00:00.010   -1.200320\n",
              "2000-01-01 00:00:00.020   -0.737196\n",
              "2000-01-01 00:00:00.030   -0.629244\n",
              "2000-01-01 00:00:00.040   -0.143463\n",
              "                             ...   \n",
              "2000-01-02 03:46:39.950    0.718587\n",
              "2000-01-02 03:46:39.960    0.148262\n",
              "2000-01-02 03:46:39.970   -1.008286\n",
              "2000-01-02 03:46:39.980    0.351505\n",
              "2000-01-02 03:46:39.990    0.825223\n",
              "Freq: 10L, Length: 10000000, dtype: float64"
            ]
          },
          "metadata": {},
          "execution_count": 173
        }
      ]
    },
    {
      "cell_type": "code",
      "source": [
        "ts.resample('15min').agg('ohlc')\n"
      ],
      "metadata": {
        "id": "bNmpZAPt_KeE",
        "colab": {
          "base_uri": "https://localhost:8080/",
          "height": 424
        },
        "outputId": "121ef1a7-2b1d-441c-88be-ee9990e23ab4"
      },
      "execution_count": 174,
      "outputs": [
        {
          "output_type": "execute_result",
          "data": {
            "text/plain": [
              "                         open      high       low     close\n",
              "2000-01-01 00:00:00 -0.865284  4.035393 -4.372129 -0.859016\n",
              "2000-01-01 00:15:00 -0.360570  4.394399 -4.281304  2.008999\n",
              "2000-01-01 00:30:00  0.529652  4.024631 -3.978609 -0.947370\n",
              "2000-01-01 00:45:00  1.512198  4.061501 -4.339185 -0.669132\n",
              "2000-01-01 01:00:00  1.685991  4.445415 -4.384101 -0.373362\n",
              "...                       ...       ...       ...       ...\n",
              "2000-01-02 02:45:00 -0.429377  4.275772 -4.002201  0.087353\n",
              "2000-01-02 03:00:00 -1.858141  4.073454 -4.439250  1.364128\n",
              "2000-01-02 03:15:00 -1.636173  4.212311 -4.251869 -0.417549\n",
              "2000-01-02 03:30:00  0.346629  4.271918 -4.419407  1.016047\n",
              "2000-01-02 03:45:00  2.126714  3.482657 -3.548883  0.825223\n",
              "\n",
              "[112 rows x 4 columns]"
            ],
            "text/html": [
              "\n",
              "  <div id=\"df-47e8ee57-1ad5-4922-a58e-dcc245daef83\">\n",
              "    <div class=\"colab-df-container\">\n",
              "      <div>\n",
              "<style scoped>\n",
              "    .dataframe tbody tr th:only-of-type {\n",
              "        vertical-align: middle;\n",
              "    }\n",
              "\n",
              "    .dataframe tbody tr th {\n",
              "        vertical-align: top;\n",
              "    }\n",
              "\n",
              "    .dataframe thead th {\n",
              "        text-align: right;\n",
              "    }\n",
              "</style>\n",
              "<table border=\"1\" class=\"dataframe\">\n",
              "  <thead>\n",
              "    <tr style=\"text-align: right;\">\n",
              "      <th></th>\n",
              "      <th>open</th>\n",
              "      <th>high</th>\n",
              "      <th>low</th>\n",
              "      <th>close</th>\n",
              "    </tr>\n",
              "  </thead>\n",
              "  <tbody>\n",
              "    <tr>\n",
              "      <th>2000-01-01 00:00:00</th>\n",
              "      <td>-0.865284</td>\n",
              "      <td>4.035393</td>\n",
              "      <td>-4.372129</td>\n",
              "      <td>-0.859016</td>\n",
              "    </tr>\n",
              "    <tr>\n",
              "      <th>2000-01-01 00:15:00</th>\n",
              "      <td>-0.360570</td>\n",
              "      <td>4.394399</td>\n",
              "      <td>-4.281304</td>\n",
              "      <td>2.008999</td>\n",
              "    </tr>\n",
              "    <tr>\n",
              "      <th>2000-01-01 00:30:00</th>\n",
              "      <td>0.529652</td>\n",
              "      <td>4.024631</td>\n",
              "      <td>-3.978609</td>\n",
              "      <td>-0.947370</td>\n",
              "    </tr>\n",
              "    <tr>\n",
              "      <th>2000-01-01 00:45:00</th>\n",
              "      <td>1.512198</td>\n",
              "      <td>4.061501</td>\n",
              "      <td>-4.339185</td>\n",
              "      <td>-0.669132</td>\n",
              "    </tr>\n",
              "    <tr>\n",
              "      <th>2000-01-01 01:00:00</th>\n",
              "      <td>1.685991</td>\n",
              "      <td>4.445415</td>\n",
              "      <td>-4.384101</td>\n",
              "      <td>-0.373362</td>\n",
              "    </tr>\n",
              "    <tr>\n",
              "      <th>...</th>\n",
              "      <td>...</td>\n",
              "      <td>...</td>\n",
              "      <td>...</td>\n",
              "      <td>...</td>\n",
              "    </tr>\n",
              "    <tr>\n",
              "      <th>2000-01-02 02:45:00</th>\n",
              "      <td>-0.429377</td>\n",
              "      <td>4.275772</td>\n",
              "      <td>-4.002201</td>\n",
              "      <td>0.087353</td>\n",
              "    </tr>\n",
              "    <tr>\n",
              "      <th>2000-01-02 03:00:00</th>\n",
              "      <td>-1.858141</td>\n",
              "      <td>4.073454</td>\n",
              "      <td>-4.439250</td>\n",
              "      <td>1.364128</td>\n",
              "    </tr>\n",
              "    <tr>\n",
              "      <th>2000-01-02 03:15:00</th>\n",
              "      <td>-1.636173</td>\n",
              "      <td>4.212311</td>\n",
              "      <td>-4.251869</td>\n",
              "      <td>-0.417549</td>\n",
              "    </tr>\n",
              "    <tr>\n",
              "      <th>2000-01-02 03:30:00</th>\n",
              "      <td>0.346629</td>\n",
              "      <td>4.271918</td>\n",
              "      <td>-4.419407</td>\n",
              "      <td>1.016047</td>\n",
              "    </tr>\n",
              "    <tr>\n",
              "      <th>2000-01-02 03:45:00</th>\n",
              "      <td>2.126714</td>\n",
              "      <td>3.482657</td>\n",
              "      <td>-3.548883</td>\n",
              "      <td>0.825223</td>\n",
              "    </tr>\n",
              "  </tbody>\n",
              "</table>\n",
              "<p>112 rows × 4 columns</p>\n",
              "</div>\n",
              "      <button class=\"colab-df-convert\" onclick=\"convertToInteractive('df-47e8ee57-1ad5-4922-a58e-dcc245daef83')\"\n",
              "              title=\"Convert this dataframe to an interactive table.\"\n",
              "              style=\"display:none;\">\n",
              "        \n",
              "  <svg xmlns=\"http://www.w3.org/2000/svg\" height=\"24px\"viewBox=\"0 0 24 24\"\n",
              "       width=\"24px\">\n",
              "    <path d=\"M0 0h24v24H0V0z\" fill=\"none\"/>\n",
              "    <path d=\"M18.56 5.44l.94 2.06.94-2.06 2.06-.94-2.06-.94-.94-2.06-.94 2.06-2.06.94zm-11 1L8.5 8.5l.94-2.06 2.06-.94-2.06-.94L8.5 2.5l-.94 2.06-2.06.94zm10 10l.94 2.06.94-2.06 2.06-.94-2.06-.94-.94-2.06-.94 2.06-2.06.94z\"/><path d=\"M17.41 7.96l-1.37-1.37c-.4-.4-.92-.59-1.43-.59-.52 0-1.04.2-1.43.59L10.3 9.45l-7.72 7.72c-.78.78-.78 2.05 0 2.83L4 21.41c.39.39.9.59 1.41.59.51 0 1.02-.2 1.41-.59l7.78-7.78 2.81-2.81c.8-.78.8-2.07 0-2.86zM5.41 20L4 18.59l7.72-7.72 1.47 1.35L5.41 20z\"/>\n",
              "  </svg>\n",
              "      </button>\n",
              "      \n",
              "  <style>\n",
              "    .colab-df-container {\n",
              "      display:flex;\n",
              "      flex-wrap:wrap;\n",
              "      gap: 12px;\n",
              "    }\n",
              "\n",
              "    .colab-df-convert {\n",
              "      background-color: #E8F0FE;\n",
              "      border: none;\n",
              "      border-radius: 50%;\n",
              "      cursor: pointer;\n",
              "      display: none;\n",
              "      fill: #1967D2;\n",
              "      height: 32px;\n",
              "      padding: 0 0 0 0;\n",
              "      width: 32px;\n",
              "    }\n",
              "\n",
              "    .colab-df-convert:hover {\n",
              "      background-color: #E2EBFA;\n",
              "      box-shadow: 0px 1px 2px rgba(60, 64, 67, 0.3), 0px 1px 3px 1px rgba(60, 64, 67, 0.15);\n",
              "      fill: #174EA6;\n",
              "    }\n",
              "\n",
              "    [theme=dark] .colab-df-convert {\n",
              "      background-color: #3B4455;\n",
              "      fill: #D2E3FC;\n",
              "    }\n",
              "\n",
              "    [theme=dark] .colab-df-convert:hover {\n",
              "      background-color: #434B5C;\n",
              "      box-shadow: 0px 1px 3px 1px rgba(0, 0, 0, 0.15);\n",
              "      filter: drop-shadow(0px 1px 2px rgba(0, 0, 0, 0.3));\n",
              "      fill: #FFFFFF;\n",
              "    }\n",
              "  </style>\n",
              "\n",
              "      <script>\n",
              "        const buttonEl =\n",
              "          document.querySelector('#df-47e8ee57-1ad5-4922-a58e-dcc245daef83 button.colab-df-convert');\n",
              "        buttonEl.style.display =\n",
              "          google.colab.kernel.accessAllowed ? 'block' : 'none';\n",
              "\n",
              "        async function convertToInteractive(key) {\n",
              "          const element = document.querySelector('#df-47e8ee57-1ad5-4922-a58e-dcc245daef83');\n",
              "          const dataTable =\n",
              "            await google.colab.kernel.invokeFunction('convertToInteractive',\n",
              "                                                     [key], {});\n",
              "          if (!dataTable) return;\n",
              "\n",
              "          const docLinkHtml = 'Like what you see? Visit the ' +\n",
              "            '<a target=\"_blank\" href=https://colab.research.google.com/notebooks/data_table.ipynb>data table notebook</a>'\n",
              "            + ' to learn more about interactive tables.';\n",
              "          element.innerHTML = '';\n",
              "          dataTable['output_type'] = 'display_data';\n",
              "          await google.colab.output.renderOutput(dataTable, element);\n",
              "          const docLink = document.createElement('div');\n",
              "          docLink.innerHTML = docLinkHtml;\n",
              "          element.appendChild(docLink);\n",
              "        }\n",
              "      </script>\n",
              "    </div>\n",
              "  </div>\n",
              "  "
            ]
          },
          "metadata": {},
          "execution_count": 174
        }
      ]
    },
    {
      "cell_type": "code",
      "source": [
        "%timeit ts.resample('15min').agg('ohlc')"
      ],
      "metadata": {
        "id": "j02831tJ_Mju",
        "colab": {
          "base_uri": "https://localhost:8080/"
        },
        "outputId": "54ccbc60-4463-425c-c69c-18dc5497fa62"
      },
      "execution_count": 175,
      "outputs": [
        {
          "output_type": "stream",
          "name": "stdout",
          "text": [
            "101 ms ± 893 µs per loop (mean ± std. dev. of 7 runs, 10 loops each)\n"
          ]
        }
      ]
    },
    {
      "cell_type": "markdown",
      "source": [
        "Thời gian chạy có thể phụ thuộc vào kích thước tương đối của kết quả tổng hợp; không ngạc nhiên khi tổng hợp tần số cao hơn mất nhiều thời gian hơn để tính toán:"
      ],
      "metadata": {
        "id": "RgkF2yAi_RvA"
      }
    },
    {
      "cell_type": "code",
      "source": [
        "rng = pd.date_range('1/1/2000', periods=10000000, freq='1s')\n",
        "ts = Series(np.random.randn(len(rng)), index=rng)\n",
        "%timeit ts.resample('15s').agg('ohlc')\n"
      ],
      "metadata": {
        "id": "-N_0WGNv_UWO",
        "colab": {
          "base_uri": "https://localhost:8080/"
        },
        "outputId": "be01f5ef-ebb3-429e-e59e-6f5e1e81d923"
      },
      "execution_count": 176,
      "outputs": [
        {
          "output_type": "stream",
          "name": "stdout",
          "text": [
            "111 ms ± 9.63 ms per loop (mean ± std. dev. of 7 runs, 1 loop each)\n"
          ]
        }
      ]
    },
    {
      "cell_type": "code",
      "source": [],
      "metadata": {
        "id": "7w76ovFqggmD"
      },
      "execution_count": 176,
      "outputs": []
    }
  ]
}